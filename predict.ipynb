{
 "cells": [
  {
   "cell_type": "code",
   "execution_count": 1,
   "metadata": {},
   "outputs": [],
   "source": [
    "import numpy as np\n",
    "import pandas as pd\n",
    "import matplotlib.pyplot as plt\n",
    "from sklearn.datasets import fetch_california_housing\n",
    "%matplotlib inline"
   ]
  },
  {
   "cell_type": "code",
   "execution_count": 2,
   "metadata": {},
   "outputs": [
    {
     "name": "stdout",
     "output_type": "stream",
     "text": [
      "2.1.0\n"
     ]
    }
   ],
   "source": [
    "from __future__ import absolute_import, division, print_function, unicode_literals\n",
    "\n",
    "import pathlib\n",
    "\n",
    "import matplotlib.pyplot as plt\n",
    "import pandas as pd\n",
    "import numpy as np\n",
    "import seaborn as sns\n",
    "\n",
    "import util\n",
    "\n",
    "import tensorflow as tf\n",
    "\n",
    "from tensorflow import keras\n",
    "from tensorflow.keras import layers\n",
    "\n",
    "print(tf.__version__)"
   ]
  },
  {
   "cell_type": "code",
   "execution_count": 3,
   "metadata": {},
   "outputs": [],
   "source": [
    "df = pd.read_csv('heart_failure_clinical_records_dataset.csv')"
   ]
  },
  {
   "cell_type": "markdown",
   "metadata": {},
   "source": [
    "Train/Test Split"
   ]
  },
  {
   "cell_type": "code",
   "execution_count": 4,
   "metadata": {},
   "outputs": [],
   "source": [
    "from sklearn.model_selection import train_test_split\n",
    "\n",
    "train, test = train_test_split(df, test_size=0.2)"
   ]
  },
  {
   "cell_type": "code",
   "execution_count": 5,
   "metadata": {},
   "outputs": [
    {
     "data": {
      "text/html": [
       "<div>\n",
       "<style scoped>\n",
       "    .dataframe tbody tr th:only-of-type {\n",
       "        vertical-align: middle;\n",
       "    }\n",
       "\n",
       "    .dataframe tbody tr th {\n",
       "        vertical-align: top;\n",
       "    }\n",
       "\n",
       "    .dataframe thead th {\n",
       "        text-align: right;\n",
       "    }\n",
       "</style>\n",
       "<table border=\"1\" class=\"dataframe\">\n",
       "  <thead>\n",
       "    <tr style=\"text-align: right;\">\n",
       "      <th></th>\n",
       "      <th>age</th>\n",
       "      <th>anaemia</th>\n",
       "      <th>creatinine_phosphokinase</th>\n",
       "      <th>diabetes</th>\n",
       "      <th>ejection_fraction</th>\n",
       "      <th>high_blood_pressure</th>\n",
       "      <th>platelets</th>\n",
       "      <th>serum_creatinine</th>\n",
       "      <th>serum_sodium</th>\n",
       "      <th>sex</th>\n",
       "      <th>smoking</th>\n",
       "      <th>time</th>\n",
       "      <th>DEATH_EVENT</th>\n",
       "    </tr>\n",
       "  </thead>\n",
       "  <tbody>\n",
       "    <tr>\n",
       "      <th>184</th>\n",
       "      <td>58.0</td>\n",
       "      <td>1</td>\n",
       "      <td>145</td>\n",
       "      <td>0</td>\n",
       "      <td>25</td>\n",
       "      <td>0</td>\n",
       "      <td>219000.0</td>\n",
       "      <td>1.2</td>\n",
       "      <td>137</td>\n",
       "      <td>1</td>\n",
       "      <td>1</td>\n",
       "      <td>170</td>\n",
       "      <td>1</td>\n",
       "    </tr>\n",
       "    <tr>\n",
       "      <th>215</th>\n",
       "      <td>73.0</td>\n",
       "      <td>0</td>\n",
       "      <td>582</td>\n",
       "      <td>0</td>\n",
       "      <td>35</td>\n",
       "      <td>1</td>\n",
       "      <td>203000.0</td>\n",
       "      <td>1.3</td>\n",
       "      <td>134</td>\n",
       "      <td>1</td>\n",
       "      <td>0</td>\n",
       "      <td>195</td>\n",
       "      <td>0</td>\n",
       "    </tr>\n",
       "    <tr>\n",
       "      <th>257</th>\n",
       "      <td>58.0</td>\n",
       "      <td>0</td>\n",
       "      <td>132</td>\n",
       "      <td>1</td>\n",
       "      <td>38</td>\n",
       "      <td>1</td>\n",
       "      <td>253000.0</td>\n",
       "      <td>1.0</td>\n",
       "      <td>139</td>\n",
       "      <td>1</td>\n",
       "      <td>0</td>\n",
       "      <td>230</td>\n",
       "      <td>0</td>\n",
       "    </tr>\n",
       "    <tr>\n",
       "      <th>71</th>\n",
       "      <td>58.0</td>\n",
       "      <td>0</td>\n",
       "      <td>582</td>\n",
       "      <td>1</td>\n",
       "      <td>35</td>\n",
       "      <td>0</td>\n",
       "      <td>122000.0</td>\n",
       "      <td>0.9</td>\n",
       "      <td>139</td>\n",
       "      <td>1</td>\n",
       "      <td>1</td>\n",
       "      <td>71</td>\n",
       "      <td>0</td>\n",
       "    </tr>\n",
       "    <tr>\n",
       "      <th>90</th>\n",
       "      <td>70.0</td>\n",
       "      <td>0</td>\n",
       "      <td>66</td>\n",
       "      <td>1</td>\n",
       "      <td>45</td>\n",
       "      <td>0</td>\n",
       "      <td>249000.0</td>\n",
       "      <td>0.8</td>\n",
       "      <td>136</td>\n",
       "      <td>1</td>\n",
       "      <td>1</td>\n",
       "      <td>80</td>\n",
       "      <td>0</td>\n",
       "    </tr>\n",
       "  </tbody>\n",
       "</table>\n",
       "</div>"
      ],
      "text/plain": [
       "      age  anaemia  creatinine_phosphokinase  diabetes  ejection_fraction  \\\n",
       "184  58.0        1                       145         0                 25   \n",
       "215  73.0        0                       582         0                 35   \n",
       "257  58.0        0                       132         1                 38   \n",
       "71   58.0        0                       582         1                 35   \n",
       "90   70.0        0                        66         1                 45   \n",
       "\n",
       "     high_blood_pressure  platelets  serum_creatinine  serum_sodium  sex  \\\n",
       "184                    0   219000.0               1.2           137    1   \n",
       "215                    1   203000.0               1.3           134    1   \n",
       "257                    1   253000.0               1.0           139    1   \n",
       "71                     0   122000.0               0.9           139    1   \n",
       "90                     0   249000.0               0.8           136    1   \n",
       "\n",
       "     smoking  time  DEATH_EVENT  \n",
       "184        1   170            1  \n",
       "215        0   195            0  \n",
       "257        0   230            0  \n",
       "71         1    71            0  \n",
       "90         1    80            0  "
      ]
     },
     "execution_count": 5,
     "metadata": {},
     "output_type": "execute_result"
    }
   ],
   "source": [
    "train.head()"
   ]
  },
  {
   "cell_type": "markdown",
   "metadata": {},
   "source": [
    "# Create Model "
   ]
  },
  {
   "cell_type": "code",
   "execution_count": 6,
   "metadata": {},
   "outputs": [
    {
     "name": "stdout",
     "output_type": "stream",
     "text": [
      "Model: \"sequential\"\n",
      "_________________________________________________________________\n",
      "Layer (type)                 Output Shape              Param #   \n",
      "=================================================================\n",
      "dense (Dense)                (None, 16)                208       \n",
      "_________________________________________________________________\n",
      "dropout (Dropout)            (None, 16)                0         \n",
      "_________________________________________________________________\n",
      "dense_1 (Dense)              (None, 1)                 17        \n",
      "=================================================================\n",
      "Total params: 225\n",
      "Trainable params: 225\n",
      "Non-trainable params: 0\n",
      "_________________________________________________________________\n"
     ]
    }
   ],
   "source": [
    "import models\n",
    "\n",
    "mobj = models.modelObj()\n",
    "model = mobj.create_model(len(train.keys())-1)\n",
    "\n",
    "model.summary()"
   ]
  },
  {
   "cell_type": "code",
   "execution_count": 7,
   "metadata": {},
   "outputs": [],
   "source": [
    "# set initial bias\n",
    "neg, pos = np.bincount(df['DEATH_EVENT'])# set count negative and positive samples\n",
    "initial_bias = np.log([pos/neg])"
   ]
  },
  {
   "cell_type": "markdown",
   "metadata": {},
   "source": [
    "# Normalize Data"
   ]
  },
  {
   "cell_type": "code",
   "execution_count": 8,
   "metadata": {},
   "outputs": [
    {
     "data": {
      "text/html": [
       "<div>\n",
       "<style scoped>\n",
       "    .dataframe tbody tr th:only-of-type {\n",
       "        vertical-align: middle;\n",
       "    }\n",
       "\n",
       "    .dataframe tbody tr th {\n",
       "        vertical-align: top;\n",
       "    }\n",
       "\n",
       "    .dataframe thead th {\n",
       "        text-align: right;\n",
       "    }\n",
       "</style>\n",
       "<table border=\"1\" class=\"dataframe\">\n",
       "  <thead>\n",
       "    <tr style=\"text-align: right;\">\n",
       "      <th></th>\n",
       "      <th>0</th>\n",
       "      <th>1</th>\n",
       "      <th>2</th>\n",
       "      <th>3</th>\n",
       "      <th>4</th>\n",
       "      <th>5</th>\n",
       "      <th>6</th>\n",
       "      <th>7</th>\n",
       "      <th>8</th>\n",
       "      <th>9</th>\n",
       "      <th>10</th>\n",
       "      <th>11</th>\n",
       "    </tr>\n",
       "  </thead>\n",
       "  <tbody>\n",
       "    <tr>\n",
       "      <th>0</th>\n",
       "      <td>0.327273</td>\n",
       "      <td>1.0</td>\n",
       "      <td>0.014685</td>\n",
       "      <td>0.0</td>\n",
       "      <td>0.153846</td>\n",
       "      <td>0.0</td>\n",
       "      <td>0.235059</td>\n",
       "      <td>0.078652</td>\n",
       "      <td>0.65625</td>\n",
       "      <td>1.0</td>\n",
       "      <td>1.0</td>\n",
       "      <td>0.590747</td>\n",
       "    </tr>\n",
       "    <tr>\n",
       "      <th>1</th>\n",
       "      <td>0.600000</td>\n",
       "      <td>0.0</td>\n",
       "      <td>0.070489</td>\n",
       "      <td>0.0</td>\n",
       "      <td>0.307692</td>\n",
       "      <td>1.0</td>\n",
       "      <td>0.215663</td>\n",
       "      <td>0.089888</td>\n",
       "      <td>0.56250</td>\n",
       "      <td>1.0</td>\n",
       "      <td>0.0</td>\n",
       "      <td>0.679715</td>\n",
       "    </tr>\n",
       "    <tr>\n",
       "      <th>2</th>\n",
       "      <td>0.327273</td>\n",
       "      <td>0.0</td>\n",
       "      <td>0.013025</td>\n",
       "      <td>1.0</td>\n",
       "      <td>0.353846</td>\n",
       "      <td>1.0</td>\n",
       "      <td>0.276276</td>\n",
       "      <td>0.056180</td>\n",
       "      <td>0.71875</td>\n",
       "      <td>1.0</td>\n",
       "      <td>0.0</td>\n",
       "      <td>0.804270</td>\n",
       "    </tr>\n",
       "    <tr>\n",
       "      <th>3</th>\n",
       "      <td>0.327273</td>\n",
       "      <td>0.0</td>\n",
       "      <td>0.070489</td>\n",
       "      <td>1.0</td>\n",
       "      <td>0.307692</td>\n",
       "      <td>0.0</td>\n",
       "      <td>0.117469</td>\n",
       "      <td>0.044944</td>\n",
       "      <td>0.71875</td>\n",
       "      <td>1.0</td>\n",
       "      <td>1.0</td>\n",
       "      <td>0.238434</td>\n",
       "    </tr>\n",
       "    <tr>\n",
       "      <th>4</th>\n",
       "      <td>0.545455</td>\n",
       "      <td>0.0</td>\n",
       "      <td>0.004597</td>\n",
       "      <td>1.0</td>\n",
       "      <td>0.461538</td>\n",
       "      <td>0.0</td>\n",
       "      <td>0.271427</td>\n",
       "      <td>0.033708</td>\n",
       "      <td>0.62500</td>\n",
       "      <td>1.0</td>\n",
       "      <td>1.0</td>\n",
       "      <td>0.270463</td>\n",
       "    </tr>\n",
       "  </tbody>\n",
       "</table>\n",
       "</div>"
      ],
      "text/plain": [
       "         0    1         2    3         4    5         6         7        8   \\\n",
       "0  0.327273  1.0  0.014685  0.0  0.153846  0.0  0.235059  0.078652  0.65625   \n",
       "1  0.600000  0.0  0.070489  0.0  0.307692  1.0  0.215663  0.089888  0.56250   \n",
       "2  0.327273  0.0  0.013025  1.0  0.353846  1.0  0.276276  0.056180  0.71875   \n",
       "3  0.327273  0.0  0.070489  1.0  0.307692  0.0  0.117469  0.044944  0.71875   \n",
       "4  0.545455  0.0  0.004597  1.0  0.461538  0.0  0.271427  0.033708  0.62500   \n",
       "\n",
       "    9    10        11  \n",
       "0  1.0  1.0  0.590747  \n",
       "1  1.0  0.0  0.679715  \n",
       "2  1.0  0.0  0.804270  \n",
       "3  1.0  1.0  0.238434  \n",
       "4  1.0  1.0  0.270463  "
      ]
     },
     "execution_count": 8,
     "metadata": {},
     "output_type": "execute_result"
    }
   ],
   "source": [
    "train_y = train.pop('DEATH_EVENT')\n",
    "train_x = util.norm(train)\n",
    "train_x.head()"
   ]
  },
  {
   "cell_type": "markdown",
   "metadata": {},
   "source": [
    "# Train Model"
   ]
  },
  {
   "cell_type": "code",
   "execution_count": 9,
   "metadata": {},
   "outputs": [],
   "source": [
    "early_stopping = tf.keras.callbacks.EarlyStopping(\n",
    "    monitor='val_auc', \n",
    "    verbose=1,\n",
    "    patience=10,\n",
    "    mode='max',\n",
    "    restore_best_weights=True)"
   ]
  },
  {
   "cell_type": "code",
   "execution_count": 10,
   "metadata": {},
   "outputs": [
    {
     "name": "stdout",
     "output_type": "stream",
     "text": [
      "Train on 191 samples, validate on 48 samples\n",
      "Epoch 1/100\n",
      " 32/191 [====>.........................] - ETA: 8s - loss: 1.0483 - tp: 10.0000 - fp: 22.0000 - tn: 0.0000e+00 - fn: 0.0000e+00 - accuracy: 0.3125 - precision: 0.3125 - recall: 1.0000 - auc: 0.5614.\n",
      "191/191 [==============================] - 2s 12ms/sample - loss: 1.0005 - tp: 68.0000 - fp: 121.0000 - tn: 1.0000 - fn: 1.0000 - accuracy: 0.3613 - precision: 0.3598 - recall: 0.9855 - auc: 0.4373 - val_loss: 1.0566 - val_tp: 11.0000 - val_fp: 37.0000 - val_tn: 0.0000e+00 - val_fn: 0.0000e+00 - val_accuracy: 0.2292 - val_precision: 0.2292 - val_recall: 1.0000 - val_auc: 0.3428\n",
      "Epoch 2/100\n",
      "191/191 [==============================] - 0s 235us/sample - loss: 0.9696 - tp: 69.0000 - fp: 121.0000 - tn: 1.0000 - fn: 0.0000e+00 - accuracy: 0.3665 - precision: 0.3632 - recall: 1.0000 - auc: 0.3972 - val_loss: 1.0145 - val_tp: 11.0000 - val_fp: 37.0000 - val_tn: 0.0000e+00 - val_fn: 0.0000e+00 - val_accuracy: 0.2292 - val_precision: 0.2292 - val_recall: 1.0000 - val_auc: 0.3329\n",
      "Epoch 3/100\n",
      "191/191 [==============================] - 0s 230us/sample - loss: 0.9338 - tp: 67.0000 - fp: 122.0000 - tn: 0.0000e+00 - fn: 2.0000 - accuracy: 0.3508 - precision: 0.3545 - recall: 0.9710 - auc: 0.4548 - val_loss: 0.9754 - val_tp: 11.0000 - val_fp: 37.0000 - val_tn: 0.0000e+00 - val_fn: 0.0000e+00 - val_accuracy: 0.2292 - val_precision: 0.2292 - val_recall: 1.0000 - val_auc: 0.3354\n",
      "Epoch 4/100\n",
      "191/191 [==============================] - 0s 214us/sample - loss: 0.8944 - tp: 65.0000 - fp: 118.0000 - tn: 4.0000 - fn: 4.0000 - accuracy: 0.3613 - precision: 0.3552 - recall: 0.9420 - auc: 0.4221 - val_loss: 0.9397 - val_tp: 11.0000 - val_fp: 37.0000 - val_tn: 0.0000e+00 - val_fn: 0.0000e+00 - val_accuracy: 0.2292 - val_precision: 0.2292 - val_recall: 1.0000 - val_auc: 0.3317\n",
      "Epoch 5/100\n",
      "191/191 [==============================] - 0s 235us/sample - loss: 0.8516 - tp: 64.0000 - fp: 112.0000 - tn: 10.0000 - fn: 5.0000 - accuracy: 0.3874 - precision: 0.3636 - recall: 0.9275 - auc: 0.4628 - val_loss: 0.9065 - val_tp: 11.0000 - val_fp: 37.0000 - val_tn: 0.0000e+00 - val_fn: 0.0000e+00 - val_accuracy: 0.2292 - val_precision: 0.2292 - val_recall: 1.0000 - val_auc: 0.3329\n",
      "Epoch 6/100\n",
      "191/191 [==============================] - 0s 209us/sample - loss: 0.8496 - tp: 54.0000 - fp: 110.0000 - tn: 12.0000 - fn: 15.0000 - accuracy: 0.3455 - precision: 0.3293 - recall: 0.7826 - auc: 0.4347 - val_loss: 0.8745 - val_tp: 11.0000 - val_fp: 36.0000 - val_tn: 1.0000 - val_fn: 0.0000e+00 - val_accuracy: 0.2500 - val_precision: 0.2340 - val_recall: 1.0000 - val_auc: 0.3366\n",
      "Epoch 7/100\n",
      "191/191 [==============================] - 0s 219us/sample - loss: 0.8237 - tp: 52.0000 - fp: 103.0000 - tn: 19.0000 - fn: 17.0000 - accuracy: 0.3717 - precision: 0.3355 - recall: 0.7536 - auc: 0.4312 - val_loss: 0.8457 - val_tp: 11.0000 - val_fp: 34.0000 - val_tn: 3.0000 - val_fn: 0.0000e+00 - val_accuracy: 0.2917 - val_precision: 0.2444 - val_recall: 1.0000 - val_auc: 0.3464\n",
      "Epoch 8/100\n",
      "191/191 [==============================] - 0s 225us/sample - loss: 0.7980 - tp: 49.0000 - fp: 100.0000 - tn: 22.0000 - fn: 20.0000 - accuracy: 0.3717 - precision: 0.3289 - recall: 0.7101 - auc: 0.4161 - val_loss: 0.8201 - val_tp: 9.0000 - val_fp: 33.0000 - val_tn: 4.0000 - val_fn: 2.0000 - val_accuracy: 0.2708 - val_precision: 0.2143 - val_recall: 0.8182 - val_auc: 0.3563\n",
      "Epoch 9/100\n",
      "191/191 [==============================] - 0s 209us/sample - loss: 0.7806 - tp: 54.0000 - fp: 92.0000 - tn: 30.0000 - fn: 15.0000 - accuracy: 0.4398 - precision: 0.3699 - recall: 0.7826 - auc: 0.5032 - val_loss: 0.7976 - val_tp: 8.0000 - val_fp: 30.0000 - val_tn: 7.0000 - val_fn: 3.0000 - val_accuracy: 0.3125 - val_precision: 0.2105 - val_recall: 0.7273 - val_auc: 0.3575\n",
      "Epoch 10/100\n",
      "191/191 [==============================] - 0s 225us/sample - loss: 0.7572 - tp: 48.0000 - fp: 91.0000 - tn: 31.0000 - fn: 21.0000 - accuracy: 0.4136 - precision: 0.3453 - recall: 0.6957 - auc: 0.4864 - val_loss: 0.7762 - val_tp: 6.0000 - val_fp: 27.0000 - val_tn: 10.0000 - val_fn: 5.0000 - val_accuracy: 0.3333 - val_precision: 0.1818 - val_recall: 0.5455 - val_auc: 0.3649\n",
      "Epoch 11/100\n",
      " 32/191 [====>.........................] - ETA: 0s - loss: 0.7923 - tp: 4.0000 - fp: 21.0000 - tn: 4.0000 - fn: 3.0000 - accuracy: 0.2500 - precision: 0.1600 - recall: 0.5714 - auc: 0.3800.\n",
      "191/191 [==============================] - 0s 219us/sample - loss: 0.7509 - tp: 44.0000 - fp: 85.0000 - tn: 37.0000 - fn: 25.0000 - accuracy: 0.4241 - precision: 0.3411 - recall: 0.6377 - auc: 0.4753 - val_loss: 0.7574 - val_tp: 6.0000 - val_fp: 26.0000 - val_tn: 11.0000 - val_fn: 5.0000 - val_accuracy: 0.3542 - val_precision: 0.1875 - val_recall: 0.5455 - val_auc: 0.3661\n",
      "Epoch 12/100\n",
      "191/191 [==============================] - 0s 251us/sample - loss: 0.7376 - tp: 43.0000 - fp: 66.0000 - tn: 56.0000 - fn: 26.0000 - accuracy: 0.5183 - precision: 0.3945 - recall: 0.6232 - auc: 0.4868 - val_loss: 0.7404 - val_tp: 5.0000 - val_fp: 23.0000 - val_tn: 14.0000 - val_fn: 6.0000 - val_accuracy: 0.3958 - val_precision: 0.1786 - val_recall: 0.4545 - val_auc: 0.3771\n",
      "Epoch 13/100\n",
      "191/191 [==============================] - 0s 219us/sample - loss: 0.7300 - tp: 41.0000 - fp: 71.0000 - tn: 51.0000 - fn: 28.0000 - accuracy: 0.4817 - precision: 0.3661 - recall: 0.5942 - auc: 0.4927 - val_loss: 0.7240 - val_tp: 4.0000 - val_fp: 19.0000 - val_tn: 18.0000 - val_fn: 7.0000 - val_accuracy: 0.4583 - val_precision: 0.1739 - val_recall: 0.3636 - val_auc: 0.3784\n",
      "Epoch 14/100\n",
      "191/191 [==============================] - 0s 251us/sample - loss: 0.7016 - tp: 38.0000 - fp: 58.0000 - tn: 64.0000 - fn: 31.0000 - accuracy: 0.5340 - precision: 0.3958 - recall: 0.5507 - auc: 0.5498 - val_loss: 0.7099 - val_tp: 2.0000 - val_fp: 16.0000 - val_tn: 21.0000 - val_fn: 9.0000 - val_accuracy: 0.4792 - val_precision: 0.1111 - val_recall: 0.1818 - val_auc: 0.3943\n",
      "Epoch 15/100\n",
      "191/191 [==============================] - 0s 240us/sample - loss: 0.7024 - tp: 33.0000 - fp: 55.0000 - tn: 67.0000 - fn: 36.0000 - accuracy: 0.5236 - precision: 0.3750 - recall: 0.4783 - auc: 0.5118 - val_loss: 0.6972 - val_tp: 2.0000 - val_fp: 15.0000 - val_tn: 22.0000 - val_fn: 9.0000 - val_accuracy: 0.5000 - val_precision: 0.1176 - val_recall: 0.1818 - val_auc: 0.3980\n",
      "Epoch 16/100\n",
      "191/191 [==============================] - 0s 245us/sample - loss: 0.7155 - tp: 25.0000 - fp: 46.0000 - tn: 76.0000 - fn: 44.0000 - accuracy: 0.5288 - precision: 0.3521 - recall: 0.3623 - auc: 0.4517 - val_loss: 0.6873 - val_tp: 2.0000 - val_fp: 13.0000 - val_tn: 24.0000 - val_fn: 9.0000 - val_accuracy: 0.5417 - val_precision: 0.1333 - val_recall: 0.1818 - val_auc: 0.3980\n",
      "Epoch 17/100\n",
      "191/191 [==============================] - 0s 240us/sample - loss: 0.6871 - tp: 20.0000 - fp: 41.0000 - tn: 81.0000 - fn: 49.0000 - accuracy: 0.5288 - precision: 0.3279 - recall: 0.2899 - auc: 0.5326 - val_loss: 0.6785 - val_tp: 2.0000 - val_fp: 12.0000 - val_tn: 25.0000 - val_fn: 9.0000 - val_accuracy: 0.5625 - val_precision: 0.1429 - val_recall: 0.1818 - val_auc: 0.4103\n",
      "Epoch 18/100\n",
      "191/191 [==============================] - 0s 240us/sample - loss: 0.6901 - tp: 17.0000 - fp: 38.0000 - tn: 84.0000 - fn: 52.0000 - accuracy: 0.5288 - precision: 0.3091 - recall: 0.2464 - auc: 0.4862 - val_loss: 0.6699 - val_tp: 2.0000 - val_fp: 11.0000 - val_tn: 26.0000 - val_fn: 9.0000 - val_accuracy: 0.5833 - val_precision: 0.1538 - val_recall: 0.1818 - val_auc: 0.4115\n",
      "Epoch 19/100\n",
      "191/191 [==============================] - 0s 230us/sample - loss: 0.6760 - tp: 20.0000 - fp: 38.0000 - tn: 84.0000 - fn: 49.0000 - accuracy: 0.5445 - precision: 0.3448 - recall: 0.2899 - auc: 0.5325 - val_loss: 0.6624 - val_tp: 2.0000 - val_fp: 9.0000 - val_tn: 28.0000 - val_fn: 9.0000 - val_accuracy: 0.6250 - val_precision: 0.1818 - val_recall: 0.1818 - val_auc: 0.4165\n",
      "Epoch 20/100\n",
      "191/191 [==============================] - 0s 219us/sample - loss: 0.6836 - tp: 19.0000 - fp: 32.0000 - tn: 90.0000 - fn: 50.0000 - accuracy: 0.5707 - precision: 0.3725 - recall: 0.2754 - auc: 0.5014 - val_loss: 0.6549 - val_tp: 1.0000 - val_fp: 7.0000 - val_tn: 30.0000 - val_fn: 10.0000 - val_accuracy: 0.6458 - val_precision: 0.1250 - val_recall: 0.0909 - val_auc: 0.4152\n"
     ]
    },
    {
     "name": "stdout",
     "output_type": "stream",
     "text": [
      "Epoch 21/100\n",
      " 32/191 [====>.........................] - ETA: 0s - loss: 0.7208 - tp: 2.0000 - fp: 6.0000 - tn: 13.0000 - fn: 11.0000 - accuracy: 0.4688 - precision: 0.2500 - recall: 0.1538 - auc: 0.3988.\n",
      "191/191 [==============================] - 0s 245us/sample - loss: 0.6943 - tp: 22.0000 - fp: 33.0000 - tn: 89.0000 - fn: 47.0000 - accuracy: 0.5812 - precision: 0.4000 - recall: 0.3188 - auc: 0.4951 - val_loss: 0.6486 - val_tp: 1.0000 - val_fp: 6.0000 - val_tn: 31.0000 - val_fn: 10.0000 - val_accuracy: 0.6667 - val_precision: 0.1429 - val_recall: 0.0909 - val_auc: 0.4251\n",
      "Epoch 22/100\n",
      "191/191 [==============================] - 0s 240us/sample - loss: 0.6842 - tp: 21.0000 - fp: 30.0000 - tn: 92.0000 - fn: 48.0000 - accuracy: 0.5916 - precision: 0.4118 - recall: 0.3043 - auc: 0.5089 - val_loss: 0.6434 - val_tp: 1.0000 - val_fp: 6.0000 - val_tn: 31.0000 - val_fn: 10.0000 - val_accuracy: 0.6667 - val_precision: 0.1429 - val_recall: 0.0909 - val_auc: 0.4349\n",
      "Epoch 23/100\n",
      "191/191 [==============================] - 0s 235us/sample - loss: 0.6693 - tp: 24.0000 - fp: 32.0000 - tn: 90.0000 - fn: 45.0000 - accuracy: 0.5969 - precision: 0.4286 - recall: 0.3478 - auc: 0.5581 - val_loss: 0.6366 - val_tp: 1.0000 - val_fp: 4.0000 - val_tn: 33.0000 - val_fn: 10.0000 - val_accuracy: 0.7083 - val_precision: 0.2000 - val_recall: 0.0909 - val_auc: 0.4349\n",
      "Epoch 24/100\n",
      "191/191 [==============================] - 0s 240us/sample - loss: 0.6732 - tp: 14.0000 - fp: 19.0000 - tn: 103.0000 - fn: 55.0000 - accuracy: 0.6126 - precision: 0.4242 - recall: 0.2029 - auc: 0.5212 - val_loss: 0.6312 - val_tp: 1.0000 - val_fp: 4.0000 - val_tn: 33.0000 - val_fn: 10.0000 - val_accuracy: 0.7083 - val_precision: 0.2000 - val_recall: 0.0909 - val_auc: 0.4410\n",
      "Epoch 25/100\n",
      "191/191 [==============================] - 0s 225us/sample - loss: 0.6958 - tp: 9.0000 - fp: 20.0000 - tn: 102.0000 - fn: 60.0000 - accuracy: 0.5812 - precision: 0.3103 - recall: 0.1304 - auc: 0.4502 - val_loss: 0.6270 - val_tp: 1.0000 - val_fp: 4.0000 - val_tn: 33.0000 - val_fn: 10.0000 - val_accuracy: 0.7083 - val_precision: 0.2000 - val_recall: 0.0909 - val_auc: 0.4435\n",
      "Epoch 26/100\n",
      "191/191 [==============================] - 0s 235us/sample - loss: 0.6878 - tp: 13.0000 - fp: 23.0000 - tn: 99.0000 - fn: 56.0000 - accuracy: 0.5864 - precision: 0.3611 - recall: 0.1884 - auc: 0.4915 - val_loss: 0.6251 - val_tp: 1.0000 - val_fp: 4.0000 - val_tn: 33.0000 - val_fn: 10.0000 - val_accuracy: 0.7083 - val_precision: 0.2000 - val_recall: 0.0909 - val_auc: 0.4582\n",
      "Epoch 27/100\n",
      "191/191 [==============================] - 0s 204us/sample - loss: 0.6717 - tp: 16.0000 - fp: 27.0000 - tn: 95.0000 - fn: 53.0000 - accuracy: 0.5812 - precision: 0.3721 - recall: 0.2319 - auc: 0.5213 - val_loss: 0.6229 - val_tp: 0.0000e+00 - val_fp: 4.0000 - val_tn: 33.0000 - val_fn: 11.0000 - val_accuracy: 0.6875 - val_precision: 0.0000e+00 - val_recall: 0.0000e+00 - val_auc: 0.4717\n",
      "Epoch 28/100\n",
      "191/191 [==============================] - 0s 219us/sample - loss: 0.6709 - tp: 11.0000 - fp: 17.0000 - tn: 105.0000 - fn: 58.0000 - accuracy: 0.6073 - precision: 0.3929 - recall: 0.1594 - auc: 0.5331 - val_loss: 0.6205 - val_tp: 0.0000e+00 - val_fp: 4.0000 - val_tn: 33.0000 - val_fn: 11.0000 - val_accuracy: 0.6875 - val_precision: 0.0000e+00 - val_recall: 0.0000e+00 - val_auc: 0.4717\n",
      "Epoch 29/100\n",
      "191/191 [==============================] - 0s 209us/sample - loss: 0.6383 - tp: 13.0000 - fp: 20.0000 - tn: 102.0000 - fn: 56.0000 - accuracy: 0.6021 - precision: 0.3939 - recall: 0.1884 - auc: 0.6134 - val_loss: 0.6178 - val_tp: 0.0000e+00 - val_fp: 4.0000 - val_tn: 33.0000 - val_fn: 11.0000 - val_accuracy: 0.6875 - val_precision: 0.0000e+00 - val_recall: 0.0000e+00 - val_auc: 0.4853\n",
      "Epoch 30/100\n",
      "191/191 [==============================] - 0s 230us/sample - loss: 0.6835 - tp: 12.0000 - fp: 21.0000 - tn: 101.0000 - fn: 57.0000 - accuracy: 0.5916 - precision: 0.3636 - recall: 0.1739 - auc: 0.4945 - val_loss: 0.6153 - val_tp: 0.0000e+00 - val_fp: 3.0000 - val_tn: 34.0000 - val_fn: 11.0000 - val_accuracy: 0.7083 - val_precision: 0.0000e+00 - val_recall: 0.0000e+00 - val_auc: 0.4926\n",
      "Epoch 31/100\n",
      " 32/191 [====>.........................] - ETA: 0s - loss: 0.6474 - tp: 3.0000 - fp: 3.0000 - tn: 17.0000 - fn: 9.0000 - accuracy: 0.6250 - precision: 0.5000 - recall: 0.2500 - auc: 0.5917.\n",
      "191/191 [==============================] - 0s 219us/sample - loss: 0.6899 - tp: 11.0000 - fp: 30.0000 - tn: 92.0000 - fn: 58.0000 - accuracy: 0.5393 - precision: 0.2683 - recall: 0.1594 - auc: 0.4727 - val_loss: 0.6129 - val_tp: 0.0000e+00 - val_fp: 2.0000 - val_tn: 35.0000 - val_fn: 11.0000 - val_accuracy: 0.7292 - val_precision: 0.0000e+00 - val_recall: 0.0000e+00 - val_auc: 0.5025\n",
      "Epoch 32/100\n",
      "191/191 [==============================] - 0s 214us/sample - loss: 0.6928 - tp: 11.0000 - fp: 25.0000 - tn: 97.0000 - fn: 58.0000 - accuracy: 0.5654 - precision: 0.3056 - recall: 0.1594 - auc: 0.4721 - val_loss: 0.6118 - val_tp: 0.0000e+00 - val_fp: 2.0000 - val_tn: 35.0000 - val_fn: 11.0000 - val_accuracy: 0.7292 - val_precision: 0.0000e+00 - val_recall: 0.0000e+00 - val_auc: 0.5012\n",
      "Epoch 33/100\n",
      "191/191 [==============================] - 0s 214us/sample - loss: 0.6979 - tp: 7.0000 - fp: 25.0000 - tn: 97.0000 - fn: 62.0000 - accuracy: 0.5445 - precision: 0.2188 - recall: 0.1014 - auc: 0.4519 - val_loss: 0.6111 - val_tp: 0.0000e+00 - val_fp: 2.0000 - val_tn: 35.0000 - val_fn: 11.0000 - val_accuracy: 0.7292 - val_precision: 0.0000e+00 - val_recall: 0.0000e+00 - val_auc: 0.5135\n",
      "Epoch 34/100\n",
      "191/191 [==============================] - 0s 214us/sample - loss: 0.6598 - tp: 15.0000 - fp: 16.0000 - tn: 106.0000 - fn: 54.0000 - accuracy: 0.6335 - precision: 0.4839 - recall: 0.2174 - auc: 0.5477 - val_loss: 0.6107 - val_tp: 0.0000e+00 - val_fp: 2.0000 - val_tn: 35.0000 - val_fn: 11.0000 - val_accuracy: 0.7292 - val_precision: 0.0000e+00 - val_recall: 0.0000e+00 - val_auc: 0.5147\n",
      "Epoch 35/100\n",
      "191/191 [==============================] - 0s 240us/sample - loss: 0.6569 - tp: 14.0000 - fp: 18.0000 - tn: 104.0000 - fn: 55.0000 - accuracy: 0.6178 - precision: 0.4375 - recall: 0.2029 - auc: 0.5603 - val_loss: 0.6086 - val_tp: 0.0000e+00 - val_fp: 1.0000 - val_tn: 36.0000 - val_fn: 11.0000 - val_accuracy: 0.7500 - val_precision: 0.0000e+00 - val_recall: 0.0000e+00 - val_auc: 0.5258\n",
      "Epoch 36/100\n",
      "191/191 [==============================] - 0s 230us/sample - loss: 0.6490 - tp: 10.0000 - fp: 11.0000 - tn: 111.0000 - fn: 59.0000 - accuracy: 0.6335 - precision: 0.4762 - recall: 0.1449 - auc: 0.5603 - val_loss: 0.6063 - val_tp: 0.0000e+00 - val_fp: 1.0000 - val_tn: 36.0000 - val_fn: 11.0000 - val_accuracy: 0.7500 - val_precision: 0.0000e+00 - val_recall: 0.0000e+00 - val_auc: 0.5295\n",
      "Epoch 37/100\n",
      "191/191 [==============================] - 0s 214us/sample - loss: 0.6442 - tp: 18.0000 - fp: 15.0000 - tn: 107.0000 - fn: 51.0000 - accuracy: 0.6545 - precision: 0.5455 - recall: 0.2609 - auc: 0.5884 - val_loss: 0.6037 - val_tp: 0.0000e+00 - val_fp: 1.0000 - val_tn: 36.0000 - val_fn: 11.0000 - val_accuracy: 0.7500 - val_precision: 0.0000e+00 - val_recall: 0.0000e+00 - val_auc: 0.5381\n",
      "Epoch 38/100\n",
      "191/191 [==============================] - 0s 209us/sample - loss: 0.6350 - tp: 18.0000 - fp: 12.0000 - tn: 110.0000 - fn: 51.0000 - accuracy: 0.6702 - precision: 0.6000 - recall: 0.2609 - auc: 0.6123 - val_loss: 0.6010 - val_tp: 0.0000e+00 - val_fp: 1.0000 - val_tn: 36.0000 - val_fn: 11.0000 - val_accuracy: 0.7500 - val_precision: 0.0000e+00 - val_recall: 0.0000e+00 - val_auc: 0.5381\n",
      "Epoch 39/100\n",
      "191/191 [==============================] - 0s 214us/sample - loss: 0.6521 - tp: 9.0000 - fp: 16.0000 - tn: 106.0000 - fn: 60.0000 - accuracy: 0.6021 - precision: 0.3600 - recall: 0.1304 - auc: 0.5654 - val_loss: 0.5985 - val_tp: 0.0000e+00 - val_fp: 1.0000 - val_tn: 36.0000 - val_fn: 11.0000 - val_accuracy: 0.7500 - val_precision: 0.0000e+00 - val_recall: 0.0000e+00 - val_auc: 0.5430\n",
      "Epoch 40/100\n",
      "191/191 [==============================] - 0s 209us/sample - loss: 0.6770 - tp: 9.0000 - fp: 21.0000 - tn: 101.0000 - fn: 60.0000 - accuracy: 0.5759 - precision: 0.3000 - recall: 0.1304 - auc: 0.5109 - val_loss: 0.5964 - val_tp: 0.0000e+00 - val_fp: 1.0000 - val_tn: 36.0000 - val_fn: 11.0000 - val_accuracy: 0.7500 - val_precision: 0.0000e+00 - val_recall: 0.0000e+00 - val_auc: 0.5467\n"
     ]
    },
    {
     "name": "stdout",
     "output_type": "stream",
     "text": [
      "Epoch 41/100\n",
      " 32/191 [====>.........................] - ETA: 0s - loss: 0.6068 - tp: 2.0000 - fp: 5.0000 - tn: 16.0000 - fn: 9.0000 - accuracy: 0.5625 - precision: 0.2857 - recall: 0.1818 - auc: 0.6645.\n",
      "191/191 [==============================] - 0s 219us/sample - loss: 0.6520 - tp: 17.0000 - fp: 22.0000 - tn: 100.0000 - fn: 52.0000 - accuracy: 0.6126 - precision: 0.4359 - recall: 0.2464 - auc: 0.5762 - val_loss: 0.5945 - val_tp: 0.0000e+00 - val_fp: 1.0000 - val_tn: 36.0000 - val_fn: 11.0000 - val_accuracy: 0.7500 - val_precision: 0.0000e+00 - val_recall: 0.0000e+00 - val_auc: 0.5516\n",
      "Epoch 42/100\n",
      "191/191 [==============================] - 0s 209us/sample - loss: 0.6732 - tp: 14.0000 - fp: 19.0000 - tn: 103.0000 - fn: 55.0000 - accuracy: 0.6126 - precision: 0.4242 - recall: 0.2029 - auc: 0.5097 - val_loss: 0.5946 - val_tp: 0.0000e+00 - val_fp: 1.0000 - val_tn: 36.0000 - val_fn: 11.0000 - val_accuracy: 0.7500 - val_precision: 0.0000e+00 - val_recall: 0.0000e+00 - val_auc: 0.5577\n",
      "Epoch 43/100\n",
      "191/191 [==============================] - 0s 214us/sample - loss: 0.6511 - tp: 12.0000 - fp: 13.0000 - tn: 109.0000 - fn: 57.0000 - accuracy: 0.6335 - precision: 0.4800 - recall: 0.1739 - auc: 0.5716 - val_loss: 0.5950 - val_tp: 0.0000e+00 - val_fp: 1.0000 - val_tn: 36.0000 - val_fn: 11.0000 - val_accuracy: 0.7500 - val_precision: 0.0000e+00 - val_recall: 0.0000e+00 - val_auc: 0.5651\n",
      "Epoch 44/100\n",
      "191/191 [==============================] - 0s 219us/sample - loss: 0.6522 - tp: 10.0000 - fp: 14.0000 - tn: 108.0000 - fn: 59.0000 - accuracy: 0.6178 - precision: 0.4167 - recall: 0.1449 - auc: 0.5696 - val_loss: 0.5946 - val_tp: 0.0000e+00 - val_fp: 1.0000 - val_tn: 36.0000 - val_fn: 11.0000 - val_accuracy: 0.7500 - val_precision: 0.0000e+00 - val_recall: 0.0000e+00 - val_auc: 0.5811\n",
      "Epoch 45/100\n",
      "191/191 [==============================] - 0s 209us/sample - loss: 0.6542 - tp: 12.0000 - fp: 20.0000 - tn: 102.0000 - fn: 57.0000 - accuracy: 0.5969 - precision: 0.3750 - recall: 0.1739 - auc: 0.5699 - val_loss: 0.5933 - val_tp: 0.0000e+00 - val_fp: 1.0000 - val_tn: 36.0000 - val_fn: 11.0000 - val_accuracy: 0.7500 - val_precision: 0.0000e+00 - val_recall: 0.0000e+00 - val_auc: 0.5983\n",
      "Epoch 46/100\n",
      "191/191 [==============================] - 0s 235us/sample - loss: 0.6333 - tp: 14.0000 - fp: 16.0000 - tn: 106.0000 - fn: 55.0000 - accuracy: 0.6283 - precision: 0.4667 - recall: 0.2029 - auc: 0.6231 - val_loss: 0.5915 - val_tp: 0.0000e+00 - val_fp: 1.0000 - val_tn: 36.0000 - val_fn: 11.0000 - val_accuracy: 0.7500 - val_precision: 0.0000e+00 - val_recall: 0.0000e+00 - val_auc: 0.6069\n",
      "Epoch 47/100\n",
      "191/191 [==============================] - 0s 219us/sample - loss: 0.6359 - tp: 20.0000 - fp: 20.0000 - tn: 102.0000 - fn: 49.0000 - accuracy: 0.6387 - precision: 0.5000 - recall: 0.2899 - auc: 0.6116 - val_loss: 0.5890 - val_tp: 0.0000e+00 - val_fp: 1.0000 - val_tn: 36.0000 - val_fn: 11.0000 - val_accuracy: 0.7500 - val_precision: 0.0000e+00 - val_recall: 0.0000e+00 - val_auc: 0.6081\n",
      "Epoch 48/100\n",
      "191/191 [==============================] - 0s 219us/sample - loss: 0.6597 - tp: 8.0000 - fp: 11.0000 - tn: 111.0000 - fn: 61.0000 - accuracy: 0.6230 - precision: 0.4211 - recall: 0.1159 - auc: 0.5340 - val_loss: 0.5871 - val_tp: 0.0000e+00 - val_fp: 1.0000 - val_tn: 36.0000 - val_fn: 11.0000 - val_accuracy: 0.7500 - val_precision: 0.0000e+00 - val_recall: 0.0000e+00 - val_auc: 0.6290\n",
      "Epoch 49/100\n",
      "191/191 [==============================] - 0s 199us/sample - loss: 0.6296 - tp: 9.0000 - fp: 10.0000 - tn: 112.0000 - fn: 60.0000 - accuracy: 0.6335 - precision: 0.4737 - recall: 0.1304 - auc: 0.6472 - val_loss: 0.5850 - val_tp: 0.0000e+00 - val_fp: 1.0000 - val_tn: 36.0000 - val_fn: 11.0000 - val_accuracy: 0.7500 - val_precision: 0.0000e+00 - val_recall: 0.0000e+00 - val_auc: 0.6351\n",
      "Epoch 50/100\n",
      "191/191 [==============================] - 0s 209us/sample - loss: 0.6316 - tp: 13.0000 - fp: 11.0000 - tn: 111.0000 - fn: 56.0000 - accuracy: 0.6492 - precision: 0.5417 - recall: 0.1884 - auc: 0.6363 - val_loss: 0.5834 - val_tp: 0.0000e+00 - val_fp: 1.0000 - val_tn: 36.0000 - val_fn: 11.0000 - val_accuracy: 0.7500 - val_precision: 0.0000e+00 - val_recall: 0.0000e+00 - val_auc: 0.6364\n",
      "Epoch 51/100\n",
      " 32/191 [====>.........................] - ETA: 0s - loss: 0.6723 - tp: 1.0000 - fp: 3.0000 - tn: 17.0000 - fn: 11.0000 - accuracy: 0.5625 - precision: 0.2500 - recall: 0.0833 - auc: 0.5500.\n",
      "191/191 [==============================] - 0s 214us/sample - loss: 0.6477 - tp: 12.0000 - fp: 19.0000 - tn: 103.0000 - fn: 57.0000 - accuracy: 0.6021 - precision: 0.3871 - recall: 0.1739 - auc: 0.5985 - val_loss: 0.5814 - val_tp: 0.0000e+00 - val_fp: 1.0000 - val_tn: 36.0000 - val_fn: 11.0000 - val_accuracy: 0.7500 - val_precision: 0.0000e+00 - val_recall: 0.0000e+00 - val_auc: 0.6536\n",
      "Epoch 52/100\n",
      "191/191 [==============================] - 0s 214us/sample - loss: 0.6373 - tp: 10.0000 - fp: 19.0000 - tn: 103.0000 - fn: 59.0000 - accuracy: 0.5916 - precision: 0.3448 - recall: 0.1449 - auc: 0.6238 - val_loss: 0.5797 - val_tp: 0.0000e+00 - val_fp: 1.0000 - val_tn: 36.0000 - val_fn: 11.0000 - val_accuracy: 0.7500 - val_precision: 0.0000e+00 - val_recall: 0.0000e+00 - val_auc: 0.6708\n",
      "Epoch 53/100\n",
      "191/191 [==============================] - 0s 204us/sample - loss: 0.6352 - tp: 19.0000 - fp: 11.0000 - tn: 111.0000 - fn: 50.0000 - accuracy: 0.6806 - precision: 0.6333 - recall: 0.2754 - auc: 0.6249 - val_loss: 0.5777 - val_tp: 0.0000e+00 - val_fp: 1.0000 - val_tn: 36.0000 - val_fn: 11.0000 - val_accuracy: 0.7500 - val_precision: 0.0000e+00 - val_recall: 0.0000e+00 - val_auc: 0.6732\n",
      "Epoch 54/100\n",
      "191/191 [==============================] - 0s 230us/sample - loss: 0.6324 - tp: 15.0000 - fp: 14.0000 - tn: 108.0000 - fn: 54.0000 - accuracy: 0.6440 - precision: 0.5172 - recall: 0.2174 - auc: 0.6261 - val_loss: 0.5761 - val_tp: 0.0000e+00 - val_fp: 0.0000e+00 - val_tn: 37.0000 - val_fn: 11.0000 - val_accuracy: 0.7708 - val_precision: 0.0000e+00 - val_recall: 0.0000e+00 - val_auc: 0.6781\n",
      "Epoch 55/100\n",
      "191/191 [==============================] - 0s 214us/sample - loss: 0.6417 - tp: 13.0000 - fp: 14.0000 - tn: 108.0000 - fn: 56.0000 - accuracy: 0.6335 - precision: 0.4815 - recall: 0.1884 - auc: 0.5900 - val_loss: 0.5738 - val_tp: 0.0000e+00 - val_fp: 0.0000e+00 - val_tn: 37.0000 - val_fn: 11.0000 - val_accuracy: 0.7708 - val_precision: 0.0000e+00 - val_recall: 0.0000e+00 - val_auc: 0.6855\n",
      "Epoch 56/100\n",
      "191/191 [==============================] - 0s 209us/sample - loss: 0.6529 - tp: 16.0000 - fp: 16.0000 - tn: 106.0000 - fn: 53.0000 - accuracy: 0.6387 - precision: 0.5000 - recall: 0.2319 - auc: 0.5616 - val_loss: 0.5721 - val_tp: 0.0000e+00 - val_fp: 0.0000e+00 - val_tn: 37.0000 - val_fn: 11.0000 - val_accuracy: 0.7708 - val_precision: 0.0000e+00 - val_recall: 0.0000e+00 - val_auc: 0.6953\n",
      "Epoch 57/100\n",
      "191/191 [==============================] - 0s 204us/sample - loss: 0.6159 - tp: 16.0000 - fp: 8.0000 - tn: 114.0000 - fn: 53.0000 - accuracy: 0.6806 - precision: 0.6667 - recall: 0.2319 - auc: 0.6649 - val_loss: 0.5700 - val_tp: 0.0000e+00 - val_fp: 0.0000e+00 - val_tn: 37.0000 - val_fn: 11.0000 - val_accuracy: 0.7708 - val_precision: 0.0000e+00 - val_recall: 0.0000e+00 - val_auc: 0.6978\n",
      "Epoch 58/100\n",
      "191/191 [==============================] - 0s 214us/sample - loss: 0.6133 - tp: 14.0000 - fp: 5.0000 - tn: 117.0000 - fn: 55.0000 - accuracy: 0.6859 - precision: 0.7368 - recall: 0.2029 - auc: 0.6954 - val_loss: 0.5677 - val_tp: 0.0000e+00 - val_fp: 0.0000e+00 - val_tn: 37.0000 - val_fn: 11.0000 - val_accuracy: 0.7708 - val_precision: 0.0000e+00 - val_recall: 0.0000e+00 - val_auc: 0.7113\n",
      "Epoch 59/100\n",
      "191/191 [==============================] - 0s 235us/sample - loss: 0.6193 - tp: 18.0000 - fp: 8.0000 - tn: 114.0000 - fn: 51.0000 - accuracy: 0.6911 - precision: 0.6923 - recall: 0.2609 - auc: 0.6428 - val_loss: 0.5656 - val_tp: 0.0000e+00 - val_fp: 0.0000e+00 - val_tn: 37.0000 - val_fn: 11.0000 - val_accuracy: 0.7708 - val_precision: 0.0000e+00 - val_recall: 0.0000e+00 - val_auc: 0.7187\n",
      "Epoch 60/100\n"
     ]
    },
    {
     "name": "stdout",
     "output_type": "stream",
     "text": [
      "191/191 [==============================] - 0s 240us/sample - loss: 0.6106 - tp: 15.0000 - fp: 5.0000 - tn: 117.0000 - fn: 54.0000 - accuracy: 0.6911 - precision: 0.7500 - recall: 0.2174 - auc: 0.6813 - val_loss: 0.5641 - val_tp: 0.0000e+00 - val_fp: 0.0000e+00 - val_tn: 37.0000 - val_fn: 11.0000 - val_accuracy: 0.7708 - val_precision: 0.0000e+00 - val_recall: 0.0000e+00 - val_auc: 0.7273\n",
      "Epoch 61/100\n",
      " 32/191 [====>.........................] - ETA: 0s - loss: 0.6020 - tp: 2.0000 - fp: 0.0000e+00 - tn: 21.0000 - fn: 9.0000 - accuracy: 0.7188 - precision: 1.0000 - recall: 0.1818 - auc: 0.6797.\n",
      "191/191 [==============================] - 0s 209us/sample - loss: 0.6373 - tp: 14.0000 - fp: 10.0000 - tn: 112.0000 - fn: 55.0000 - accuracy: 0.6597 - precision: 0.5833 - recall: 0.2029 - auc: 0.6057 - val_loss: 0.5628 - val_tp: 0.0000e+00 - val_fp: 0.0000e+00 - val_tn: 37.0000 - val_fn: 11.0000 - val_accuracy: 0.7708 - val_precision: 0.0000e+00 - val_recall: 0.0000e+00 - val_auc: 0.7432\n",
      "Epoch 62/100\n",
      "191/191 [==============================] - 0s 204us/sample - loss: 0.6073 - tp: 17.0000 - fp: 9.0000 - tn: 113.0000 - fn: 52.0000 - accuracy: 0.6806 - precision: 0.6538 - recall: 0.2464 - auc: 0.6849 - val_loss: 0.5613 - val_tp: 0.0000e+00 - val_fp: 0.0000e+00 - val_tn: 37.0000 - val_fn: 11.0000 - val_accuracy: 0.7708 - val_precision: 0.0000e+00 - val_recall: 0.0000e+00 - val_auc: 0.7432\n",
      "Epoch 63/100\n",
      "191/191 [==============================] - 0s 219us/sample - loss: 0.6211 - tp: 18.0000 - fp: 10.0000 - tn: 112.0000 - fn: 51.0000 - accuracy: 0.6806 - precision: 0.6429 - recall: 0.2609 - auc: 0.6592 - val_loss: 0.5597 - val_tp: 0.0000e+00 - val_fp: 0.0000e+00 - val_tn: 37.0000 - val_fn: 11.0000 - val_accuracy: 0.7708 - val_precision: 0.0000e+00 - val_recall: 0.0000e+00 - val_auc: 0.7592\n",
      "Epoch 64/100\n",
      "191/191 [==============================] - 0s 214us/sample - loss: 0.6234 - tp: 14.0000 - fp: 10.0000 - tn: 112.0000 - fn: 55.0000 - accuracy: 0.6597 - precision: 0.5833 - recall: 0.2029 - auc: 0.6330 - val_loss: 0.5585 - val_tp: 0.0000e+00 - val_fp: 0.0000e+00 - val_tn: 37.0000 - val_fn: 11.0000 - val_accuracy: 0.7708 - val_precision: 0.0000e+00 - val_recall: 0.0000e+00 - val_auc: 0.7703\n",
      "Epoch 65/100\n",
      "191/191 [==============================] - 0s 219us/sample - loss: 0.6108 - tp: 17.0000 - fp: 8.0000 - tn: 114.0000 - fn: 52.0000 - accuracy: 0.6859 - precision: 0.6800 - recall: 0.2464 - auc: 0.6797 - val_loss: 0.5569 - val_tp: 0.0000e+00 - val_fp: 0.0000e+00 - val_tn: 37.0000 - val_fn: 11.0000 - val_accuracy: 0.7708 - val_precision: 0.0000e+00 - val_recall: 0.0000e+00 - val_auc: 0.7703\n",
      "Epoch 66/100\n",
      "191/191 [==============================] - 0s 219us/sample - loss: 0.6246 - tp: 8.0000 - fp: 13.0000 - tn: 109.0000 - fn: 61.0000 - accuracy: 0.6126 - precision: 0.3810 - recall: 0.1159 - auc: 0.6390 - val_loss: 0.5558 - val_tp: 0.0000e+00 - val_fp: 0.0000e+00 - val_tn: 37.0000 - val_fn: 11.0000 - val_accuracy: 0.7708 - val_precision: 0.0000e+00 - val_recall: 0.0000e+00 - val_auc: 0.7764\n",
      "Epoch 67/100\n",
      "191/191 [==============================] - 0s 209us/sample - loss: 0.6418 - tp: 13.0000 - fp: 13.0000 - tn: 109.0000 - fn: 56.0000 - accuracy: 0.6387 - precision: 0.5000 - recall: 0.1884 - auc: 0.5951 - val_loss: 0.5547 - val_tp: 0.0000e+00 - val_fp: 0.0000e+00 - val_tn: 37.0000 - val_fn: 11.0000 - val_accuracy: 0.7708 - val_precision: 0.0000e+00 - val_recall: 0.0000e+00 - val_auc: 0.7850\n",
      "Epoch 68/100\n",
      "191/191 [==============================] - 0s 214us/sample - loss: 0.6129 - tp: 19.0000 - fp: 15.0000 - tn: 107.0000 - fn: 50.0000 - accuracy: 0.6597 - precision: 0.5588 - recall: 0.2754 - auc: 0.6823 - val_loss: 0.5543 - val_tp: 0.0000e+00 - val_fp: 0.0000e+00 - val_tn: 37.0000 - val_fn: 11.0000 - val_accuracy: 0.7708 - val_precision: 0.0000e+00 - val_recall: 0.0000e+00 - val_auc: 0.7948\n",
      "Epoch 69/100\n",
      "191/191 [==============================] - 0s 219us/sample - loss: 0.6237 - tp: 17.0000 - fp: 12.0000 - tn: 110.0000 - fn: 52.0000 - accuracy: 0.6649 - precision: 0.5862 - recall: 0.2464 - auc: 0.6342 - val_loss: 0.5533 - val_tp: 1.0000 - val_fp: 0.0000e+00 - val_tn: 37.0000 - val_fn: 10.0000 - val_accuracy: 0.7917 - val_precision: 1.0000 - val_recall: 0.0909 - val_auc: 0.7961\n",
      "Epoch 70/100\n",
      "191/191 [==============================] - 0s 209us/sample - loss: 0.6033 - tp: 22.0000 - fp: 11.0000 - tn: 111.0000 - fn: 47.0000 - accuracy: 0.6963 - precision: 0.6667 - recall: 0.3188 - auc: 0.7060 - val_loss: 0.5512 - val_tp: 1.0000 - val_fp: 0.0000e+00 - val_tn: 37.0000 - val_fn: 10.0000 - val_accuracy: 0.7917 - val_precision: 1.0000 - val_recall: 0.0909 - val_auc: 0.7985\n",
      "Epoch 71/100\n",
      " 32/191 [====>.........................] - ETA: 0s - loss: 0.5662 - tp: 2.0000 - fp: 4.0000 - tn: 19.0000 - fn: 7.0000 - accuracy: 0.6562 - precision: 0.3333 - recall: 0.2222 - auc: 0.7005.\n",
      "191/191 [==============================] - 0s 225us/sample - loss: 0.6034 - tp: 16.0000 - fp: 13.0000 - tn: 109.0000 - fn: 53.0000 - accuracy: 0.6545 - precision: 0.5517 - recall: 0.2319 - auc: 0.6955 - val_loss: 0.5473 - val_tp: 1.0000 - val_fp: 0.0000e+00 - val_tn: 37.0000 - val_fn: 10.0000 - val_accuracy: 0.7917 - val_precision: 1.0000 - val_recall: 0.0909 - val_auc: 0.8059\n",
      "Epoch 72/100\n",
      "191/191 [==============================] - 0s 198us/sample - loss: 0.6052 - tp: 18.0000 - fp: 14.0000 - tn: 108.0000 - fn: 51.0000 - accuracy: 0.6597 - precision: 0.5625 - recall: 0.2609 - auc: 0.6854 - val_loss: 0.5452 - val_tp: 1.0000 - val_fp: 0.0000e+00 - val_tn: 37.0000 - val_fn: 10.0000 - val_accuracy: 0.7917 - val_precision: 1.0000 - val_recall: 0.0909 - val_auc: 0.8010\n",
      "Epoch 73/100\n",
      "191/191 [==============================] - 0s 209us/sample - loss: 0.6219 - tp: 14.0000 - fp: 10.0000 - tn: 112.0000 - fn: 55.0000 - accuracy: 0.6597 - precision: 0.5833 - recall: 0.2029 - auc: 0.6454 - val_loss: 0.5430 - val_tp: 1.0000 - val_fp: 0.0000e+00 - val_tn: 37.0000 - val_fn: 10.0000 - val_accuracy: 0.7917 - val_precision: 1.0000 - val_recall: 0.0909 - val_auc: 0.8120\n",
      "Epoch 74/100\n",
      "191/191 [==============================] - 0s 204us/sample - loss: 0.6153 - tp: 14.0000 - fp: 12.0000 - tn: 110.0000 - fn: 55.0000 - accuracy: 0.6492 - precision: 0.5385 - recall: 0.2029 - auc: 0.6657 - val_loss: 0.5417 - val_tp: 1.0000 - val_fp: 0.0000e+00 - val_tn: 37.0000 - val_fn: 10.0000 - val_accuracy: 0.7917 - val_precision: 1.0000 - val_recall: 0.0909 - val_auc: 0.7973\n",
      "Epoch 75/100\n",
      "191/191 [==============================] - 0s 224us/sample - loss: 0.5898 - tp: 19.0000 - fp: 9.0000 - tn: 113.0000 - fn: 50.0000 - accuracy: 0.6911 - precision: 0.6786 - recall: 0.2754 - auc: 0.7248 - val_loss: 0.5401 - val_tp: 1.0000 - val_fp: 0.0000e+00 - val_tn: 37.0000 - val_fn: 10.0000 - val_accuracy: 0.7917 - val_precision: 1.0000 - val_recall: 0.0909 - val_auc: 0.7961\n",
      "Epoch 76/100\n",
      "191/191 [==============================] - 0s 198us/sample - loss: 0.5948 - tp: 20.0000 - fp: 10.0000 - tn: 112.0000 - fn: 49.0000 - accuracy: 0.6911 - precision: 0.6667 - recall: 0.2899 - auc: 0.7186 - val_loss: 0.5379 - val_tp: 1.0000 - val_fp: 0.0000e+00 - val_tn: 37.0000 - val_fn: 10.0000 - val_accuracy: 0.7917 - val_precision: 1.0000 - val_recall: 0.0909 - val_auc: 0.7936\n",
      "Epoch 77/100\n",
      "191/191 [==============================] - 0s 209us/sample - loss: 0.5898 - tp: 19.0000 - fp: 11.0000 - tn: 111.0000 - fn: 50.0000 - accuracy: 0.6806 - precision: 0.6333 - recall: 0.2754 - auc: 0.7251 - val_loss: 0.5348 - val_tp: 1.0000 - val_fp: 0.0000e+00 - val_tn: 37.0000 - val_fn: 10.0000 - val_accuracy: 0.7917 - val_precision: 1.0000 - val_recall: 0.0909 - val_auc: 0.8010\n",
      "Epoch 78/100\n",
      "191/191 [==============================] - 0s 209us/sample - loss: 0.5871 - tp: 27.0000 - fp: 9.0000 - tn: 113.0000 - fn: 42.0000 - accuracy: 0.7330 - precision: 0.7500 - recall: 0.3913 - auc: 0.7199 - val_loss: 0.5318 - val_tp: 1.0000 - val_fp: 1.0000 - val_tn: 36.0000 - val_fn: 10.0000 - val_accuracy: 0.7708 - val_precision: 0.5000 - val_recall: 0.0909 - val_auc: 0.7985\n",
      "Epoch 79/100\n",
      "191/191 [==============================] - 0s 216us/sample - loss: 0.5850 - tp: 18.0000 - fp: 7.0000 - tn: 115.0000 - fn: 51.0000 - accuracy: 0.6963 - precision: 0.7200 - recall: 0.2609 - auc: 0.7409 - val_loss: 0.5288 - val_tp: 1.0000 - val_fp: 1.0000 - val_tn: 36.0000 - val_fn: 10.0000 - val_accuracy: 0.7708 - val_precision: 0.5000 - val_recall: 0.0909 - val_auc: 0.8059\n"
     ]
    },
    {
     "name": "stdout",
     "output_type": "stream",
     "text": [
      "Epoch 80/100\n",
      "191/191 [==============================] - 0s 198us/sample - loss: 0.5869 - tp: 15.0000 - fp: 12.0000 - tn: 110.0000 - fn: 54.0000 - accuracy: 0.6545 - precision: 0.5556 - recall: 0.2174 - auc: 0.7290 - val_loss: 0.5272 - val_tp: 2.0000 - val_fp: 1.0000 - val_tn: 36.0000 - val_fn: 9.0000 - val_accuracy: 0.7917 - val_precision: 0.6667 - val_recall: 0.1818 - val_auc: 0.8059\n",
      "Epoch 81/100\n",
      " 32/191 [====>.........................] - ETA: 0s - loss: 0.6461 - tp: 5.0000 - fp: 2.0000 - tn: 15.0000 - fn: 10.0000 - accuracy: 0.6250 - precision: 0.7143 - recall: 0.3333 - auc: 0.6863.\n",
      "191/191 [==============================] - 0s 225us/sample - loss: 0.6070 - tp: 20.0000 - fp: 10.0000 - tn: 112.0000 - fn: 49.0000 - accuracy: 0.6911 - precision: 0.6667 - recall: 0.2899 - auc: 0.6685 - val_loss: 0.5262 - val_tp: 2.0000 - val_fp: 1.0000 - val_tn: 36.0000 - val_fn: 9.0000 - val_accuracy: 0.7917 - val_precision: 0.6667 - val_recall: 0.1818 - val_auc: 0.8096\n",
      "Epoch 82/100\n",
      "191/191 [==============================] - 0s 209us/sample - loss: 0.5676 - tp: 25.0000 - fp: 10.0000 - tn: 112.0000 - fn: 44.0000 - accuracy: 0.7173 - precision: 0.7143 - recall: 0.3623 - auc: 0.7532 - val_loss: 0.5244 - val_tp: 3.0000 - val_fp: 1.0000 - val_tn: 36.0000 - val_fn: 8.0000 - val_accuracy: 0.8125 - val_precision: 0.7500 - val_recall: 0.2727 - val_auc: 0.8120\n",
      "Epoch 83/100\n",
      " 32/191 [====>.........................] - ETA: 0s - loss: 0.6047 - tp: 1.0000 - fp: 0.0000e+00 - tn: 23.0000 - fn: 8.0000 - accuracy: 0.7500 - precision: 1.0000 - recall: 0.1111 - auc: 0.5338Restoring model weights from the end of the best epoch.\n",
      "191/191 [==============================] - 0s 225us/sample - loss: 0.6114 - tp: 17.0000 - fp: 10.0000 - tn: 112.0000 - fn: 52.0000 - accuracy: 0.6754 - precision: 0.6296 - recall: 0.2464 - auc: 0.6627 - val_loss: 0.5225 - val_tp: 3.0000 - val_fp: 1.0000 - val_tn: 36.0000 - val_fn: 8.0000 - val_accuracy: 0.8125 - val_precision: 0.7500 - val_recall: 0.2727 - val_auc: 0.8084\n",
      "Epoch 00083: early stopping\n"
     ]
    }
   ],
   "source": [
    "non_resampled_history = model.fit(\n",
    "    train_x,\n",
    "    train_y,\n",
    "    batch_size=mobj.BATCH_SIZE,\n",
    "    epochs=mobj.EPOCHS,\n",
    "    callbacks = [early_stopping, models.printDot()],\n",
    "    validation_split=0.2)"
   ]
  },
  {
   "cell_type": "code",
   "execution_count": 11,
   "metadata": {},
   "outputs": [
    {
     "data": {
      "image/png": "[encoded data removed]",
      "text/plain": [
       "<Figure size 432x288 with 4 Axes>"
      ]
     },
     "metadata": {
      "needs_background": "light"
     },
     "output_type": "display_data"
    }
   ],
   "source": [
    "util.plot_metrics(non_resampled_history)"
   ]
  },
  {
   "cell_type": "code",
   "execution_count": 13,
   "metadata": {},
   "outputs": [],
   "source": [
    "test_y = test.pop('DEATH_EVENT')\n",
    "test_x = test\n",
    "test_predictions_no_r = model.predict(test_x, batch_size=mobj.BATCH_SIZE)"
   ]
  },
  {
   "cell_type": "code",
   "execution_count": 16,
   "metadata": {},
   "outputs": [
    {
     "data": {
      "image/png": "[encoded data removed]",
      "text/plain": [
       "<Figure size 648x648 with 2 Axes>"
      ]
     },
     "metadata": {
      "needs_background": "light"
     },
     "output_type": "display_data"
    }
   ],
   "source": [
    "from sklearn.metrics import balanced_accuracy_score\n",
    "from sklearn.metrics import confusion_matrix\n",
    "\n",
    "bscore_no_res = balanced_accuracy_score(test_y, test_predictions_no_r)\n",
    "\n",
    "cm = confusion_matrix(test_y, test_predictions_no_r)\n",
    "plt.figure(figsize=(9,9))\n",
    "sns.heatmap(cm, annot=True, fmt=\".3f\", linewidths=.5, square = True, cmap = 'Blues_r');\n",
    "plt.ylabel('Actual label');\n",
    "plt.xlabel('Predicted label');\n",
    "all_sample_title = 'Balanced Accuracy Score: {0}'.format(bscore_no_res)\n",
    "plt.title(all_sample_title, size = 15);"
   ]
  },
  {
   "cell_type": "code",
   "execution_count": 18,
   "metadata": {},
   "outputs": [
    {
     "name": "stdout",
     "output_type": "stream",
     "text": [
      "loss :  13813.249153645833\n",
      "tp :  0.0\n",
      "fp :  0.0\n",
      "tn :  44.0\n",
      "fn :  16.0\n",
      "accuracy :  0.73333335\n",
      "precision :  0.0\n",
      "recall :  0.0\n",
      "auc :  0.5\n",
      "\n"
     ]
    }
   ],
   "source": [
    "no_res_results = model.evaluate(test_x, test_y,\n",
    "                                  batch_size=mobj.BATCH_SIZE, verbose=0)\n",
    "for name, value in zip(model.metrics_names, no_res_results):\n",
    "  print(name, ': ', value)\n",
    "print()"
   ]
  },
  {
   "cell_type": "code",
   "execution_count": null,
   "metadata": {},
   "outputs": [],
   "source": []
  }
 ],
 "metadata": {
  "kernelspec": {
   "display_name": "Python 3",
   "language": "python",
   "name": "python3"
  },
  "language_info": {
   "codemirror_mode": {
    "name": "ipython",
    "version": 3
   },
   "file_extension": ".py",
   "mimetype": "text/x-python",
   "name": "python",
   "nbconvert_exporter": "python",
   "pygments_lexer": "ipython3",
   "version": "3.7.7"
  },
  "latex_envs": {
   "LaTeX_envs_menu_present": true,
   "autoclose": false,
   "autocomplete": true,
   "bibliofile": "biblio.bib",
   "cite_by": "apalike",
   "current_citInitial": 1,
   "eqLabelWithNumbers": true,
   "eqNumInitial": 1,
   "hotkeys": {
    "equation": "Ctrl-E",
    "itemize": "Ctrl-I"
   },
   "labels_anchors": false,
   "latex_user_defs": false,
   "report_style_numbering": false,
   "user_envs_cfg": false
  }
 },
 "nbformat": 4,
 "nbformat_minor": 4
}
