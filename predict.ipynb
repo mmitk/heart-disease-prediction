{
 "cells": [
  {
   "cell_type": "code",
   "execution_count": 1,
   "metadata": {},
   "outputs": [],
   "source": [
    "import numpy as np\n",
    "import pandas as pd\n",
    "import matplotlib.pyplot as plt\n",
    "from sklearn.datasets import fetch_california_housing\n",
    "%matplotlib inline"
   ]
  },
  {
   "cell_type": "code",
   "execution_count": 2,
   "metadata": {},
   "outputs": [
    {
     "name": "stdout",
     "output_type": "stream",
     "text": [
      "2.1.0\n"
     ]
    }
   ],
   "source": [
    "from __future__ import absolute_import, division, print_function, unicode_literals\n",
    "\n",
    "import pathlib\n",
    "\n",
    "import matplotlib.pyplot as plt\n",
    "import pandas as pd\n",
    "import numpy as np\n",
    "import seaborn as sns\n",
    "\n",
    "import util\n",
    "\n",
    "import tensorflow as tf\n",
    "\n",
    "from tensorflow import keras\n",
    "from tensorflow.keras import layers\n",
    "\n",
    "print(tf.__version__)"
   ]
  },
  {
   "cell_type": "code",
   "execution_count": 3,
   "metadata": {},
   "outputs": [],
   "source": [
    "df = pd.read_csv('heart_failure_clinical_records_dataset.csv')"
   ]
  },
  {
   "cell_type": "markdown",
   "metadata": {},
   "source": [
    "Train/Test Split"
   ]
  },
  {
   "cell_type": "code",
   "execution_count": 4,
   "metadata": {},
   "outputs": [],
   "source": [
    "from sklearn.model_selection import train_test_split\n",
    "\n",
    "train, test = train_test_split(df, test_size=0.2)"
   ]
  },
  {
   "cell_type": "code",
   "execution_count": 5,
   "metadata": {},
   "outputs": [
    {
     "data": {
      "text/html": [
       "<div>\n",
       "<style scoped>\n",
       "    .dataframe tbody tr th:only-of-type {\n",
       "        vertical-align: middle;\n",
       "    }\n",
       "\n",
       "    .dataframe tbody tr th {\n",
       "        vertical-align: top;\n",
       "    }\n",
       "\n",
       "    .dataframe thead th {\n",
       "        text-align: right;\n",
       "    }\n",
       "</style>\n",
       "<table border=\"1\" class=\"dataframe\">\n",
       "  <thead>\n",
       "    <tr style=\"text-align: right;\">\n",
       "      <th></th>\n",
       "      <th>age</th>\n",
       "      <th>anaemia</th>\n",
       "      <th>creatinine_phosphokinase</th>\n",
       "      <th>diabetes</th>\n",
       "      <th>ejection_fraction</th>\n",
       "      <th>high_blood_pressure</th>\n",
       "      <th>platelets</th>\n",
       "      <th>serum_creatinine</th>\n",
       "      <th>serum_sodium</th>\n",
       "      <th>sex</th>\n",
       "      <th>smoking</th>\n",
       "      <th>time</th>\n",
       "      <th>DEATH_EVENT</th>\n",
       "    </tr>\n",
       "  </thead>\n",
       "  <tbody>\n",
       "    <tr>\n",
       "      <th>296</th>\n",
       "      <td>45.0</td>\n",
       "      <td>0</td>\n",
       "      <td>2060</td>\n",
       "      <td>1</td>\n",
       "      <td>60</td>\n",
       "      <td>0</td>\n",
       "      <td>742000.0</td>\n",
       "      <td>0.8</td>\n",
       "      <td>138</td>\n",
       "      <td>0</td>\n",
       "      <td>0</td>\n",
       "      <td>278</td>\n",
       "      <td>0</td>\n",
       "    </tr>\n",
       "    <tr>\n",
       "      <th>218</th>\n",
       "      <td>68.0</td>\n",
       "      <td>1</td>\n",
       "      <td>1021</td>\n",
       "      <td>1</td>\n",
       "      <td>35</td>\n",
       "      <td>0</td>\n",
       "      <td>271000.0</td>\n",
       "      <td>1.1</td>\n",
       "      <td>134</td>\n",
       "      <td>1</td>\n",
       "      <td>0</td>\n",
       "      <td>197</td>\n",
       "      <td>0</td>\n",
       "    </tr>\n",
       "    <tr>\n",
       "      <th>233</th>\n",
       "      <td>53.0</td>\n",
       "      <td>1</td>\n",
       "      <td>707</td>\n",
       "      <td>0</td>\n",
       "      <td>38</td>\n",
       "      <td>0</td>\n",
       "      <td>330000.0</td>\n",
       "      <td>1.4</td>\n",
       "      <td>137</td>\n",
       "      <td>1</td>\n",
       "      <td>1</td>\n",
       "      <td>209</td>\n",
       "      <td>0</td>\n",
       "    </tr>\n",
       "    <tr>\n",
       "      <th>267</th>\n",
       "      <td>56.0</td>\n",
       "      <td>1</td>\n",
       "      <td>135</td>\n",
       "      <td>1</td>\n",
       "      <td>38</td>\n",
       "      <td>0</td>\n",
       "      <td>133000.0</td>\n",
       "      <td>1.7</td>\n",
       "      <td>140</td>\n",
       "      <td>1</td>\n",
       "      <td>0</td>\n",
       "      <td>244</td>\n",
       "      <td>0</td>\n",
       "    </tr>\n",
       "    <tr>\n",
       "      <th>21</th>\n",
       "      <td>65.0</td>\n",
       "      <td>1</td>\n",
       "      <td>128</td>\n",
       "      <td>1</td>\n",
       "      <td>30</td>\n",
       "      <td>1</td>\n",
       "      <td>297000.0</td>\n",
       "      <td>1.6</td>\n",
       "      <td>136</td>\n",
       "      <td>0</td>\n",
       "      <td>0</td>\n",
       "      <td>20</td>\n",
       "      <td>1</td>\n",
       "    </tr>\n",
       "  </tbody>\n",
       "</table>\n",
       "</div>"
      ],
      "text/plain": [
       "      age  anaemia  creatinine_phosphokinase  diabetes  ejection_fraction  \\\n",
       "296  45.0        0                      2060         1                 60   \n",
       "218  68.0        1                      1021         1                 35   \n",
       "233  53.0        1                       707         0                 38   \n",
       "267  56.0        1                       135         1                 38   \n",
       "21   65.0        1                       128         1                 30   \n",
       "\n",
       "     high_blood_pressure  platelets  serum_creatinine  serum_sodium  sex  \\\n",
       "296                    0   742000.0               0.8           138    0   \n",
       "218                    0   271000.0               1.1           134    1   \n",
       "233                    0   330000.0               1.4           137    1   \n",
       "267                    0   133000.0               1.7           140    1   \n",
       "21                     1   297000.0               1.6           136    0   \n",
       "\n",
       "     smoking  time  DEATH_EVENT  \n",
       "296        0   278            0  \n",
       "218        0   197            0  \n",
       "233        1   209            0  \n",
       "267        0   244            0  \n",
       "21         0    20            1  "
      ]
     },
     "execution_count": 5,
     "metadata": {},
     "output_type": "execute_result"
    }
   ],
   "source": [
    "train.head()"
   ]
  },
  {
   "cell_type": "markdown",
   "metadata": {},
   "source": [
    "# Create Model "
   ]
  },
  {
   "cell_type": "code",
   "execution_count": 6,
   "metadata": {
    "scrolled": true
   },
   "outputs": [
    {
     "name": "stdout",
     "output_type": "stream",
     "text": [
      "Model: \"sequential\"\n",
      "_________________________________________________________________\n",
      "Layer (type)                 Output Shape              Param #   \n",
      "=================================================================\n",
      "dense (Dense)                (None, 16)                208       \n",
      "_________________________________________________________________\n",
      "dropout (Dropout)            (None, 16)                0         \n",
      "_________________________________________________________________\n",
      "dense_1 (Dense)              (None, 1)                 17        \n",
      "=================================================================\n",
      "Total params: 225\n",
      "Trainable params: 225\n",
      "Non-trainable params: 0\n",
      "_________________________________________________________________\n"
     ]
    }
   ],
   "source": [
    "import models\n",
    "\n",
    "# set initial bias\n",
    "neg, pos = np.bincount(df['DEATH_EVENT'])# set count negative and positive samples\n",
    "initial_bias = np.log([pos/neg])\n",
    "\n",
    "\n",
    "mobj = models.modelObj()\n",
    "model = mobj.create_model(len(train.keys())-1, bias = initial_bias)\n",
    "\n",
    "model.summary()"
   ]
  },
  {
   "cell_type": "markdown",
   "metadata": {},
   "source": [
    "# Normalize Data"
   ]
  },
  {
   "cell_type": "code",
   "execution_count": 7,
   "metadata": {},
   "outputs": [],
   "source": [
    "train_y = train.pop('DEATH_EVENT')\n",
    "train_x = util.norm(train)\n",
    "train_x.head()\n",
    "\n",
    "test_y = test.pop('DEATH_EVENT')\n",
    "test_x = util.norm(test)"
   ]
  },
  {
   "cell_type": "markdown",
   "metadata": {},
   "source": [
    "# Train Model"
   ]
  },
  {
   "cell_type": "code",
   "execution_count": 8,
   "metadata": {},
   "outputs": [],
   "source": [
    "early_stopping = tf.keras.callbacks.EarlyStopping(\n",
    "    monitor='val_auc', \n",
    "    verbose=1,\n",
    "    patience=10,\n",
    "    mode='max',\n",
    "    restore_best_weights=True)"
   ]
  },
  {
   "cell_type": "code",
   "execution_count": 9,
   "metadata": {},
   "outputs": [
    {
     "data": {
      "text/html": [
       "<div>\n",
       "<style scoped>\n",
       "    .dataframe tbody tr th:only-of-type {\n",
       "        vertical-align: middle;\n",
       "    }\n",
       "\n",
       "    .dataframe tbody tr th {\n",
       "        vertical-align: top;\n",
       "    }\n",
       "\n",
       "    .dataframe thead th {\n",
       "        text-align: right;\n",
       "    }\n",
       "</style>\n",
       "<table border=\"1\" class=\"dataframe\">\n",
       "  <thead>\n",
       "    <tr style=\"text-align: right;\">\n",
       "      <th></th>\n",
       "      <th>0</th>\n",
       "      <th>1</th>\n",
       "      <th>2</th>\n",
       "      <th>3</th>\n",
       "      <th>4</th>\n",
       "      <th>5</th>\n",
       "      <th>6</th>\n",
       "      <th>7</th>\n",
       "      <th>8</th>\n",
       "      <th>9</th>\n",
       "      <th>10</th>\n",
       "      <th>11</th>\n",
       "    </tr>\n",
       "  </thead>\n",
       "  <tbody>\n",
       "    <tr>\n",
       "      <th>0</th>\n",
       "      <td>0.090909</td>\n",
       "      <td>0.0</td>\n",
       "      <td>0.259888</td>\n",
       "      <td>1.0</td>\n",
       "      <td>0.696970</td>\n",
       "      <td>0.0</td>\n",
       "      <td>0.869075</td>\n",
       "      <td>0.033708</td>\n",
       "      <td>0.757576</td>\n",
       "      <td>0.0</td>\n",
       "      <td>0.0</td>\n",
       "      <td>0.975089</td>\n",
       "    </tr>\n",
       "    <tr>\n",
       "      <th>1</th>\n",
       "      <td>0.509091</td>\n",
       "      <td>1.0</td>\n",
       "      <td>0.127328</td>\n",
       "      <td>1.0</td>\n",
       "      <td>0.318182</td>\n",
       "      <td>0.0</td>\n",
       "      <td>0.298097</td>\n",
       "      <td>0.067416</td>\n",
       "      <td>0.636364</td>\n",
       "      <td>1.0</td>\n",
       "      <td>0.0</td>\n",
       "      <td>0.686833</td>\n",
       "    </tr>\n",
       "    <tr>\n",
       "      <th>2</th>\n",
       "      <td>0.236364</td>\n",
       "      <td>1.0</td>\n",
       "      <td>0.087267</td>\n",
       "      <td>0.0</td>\n",
       "      <td>0.363636</td>\n",
       "      <td>0.0</td>\n",
       "      <td>0.369621</td>\n",
       "      <td>0.101124</td>\n",
       "      <td>0.727273</td>\n",
       "      <td>1.0</td>\n",
       "      <td>1.0</td>\n",
       "      <td>0.729537</td>\n",
       "    </tr>\n",
       "    <tr>\n",
       "      <th>3</th>\n",
       "      <td>0.290909</td>\n",
       "      <td>1.0</td>\n",
       "      <td>0.014289</td>\n",
       "      <td>1.0</td>\n",
       "      <td>0.363636</td>\n",
       "      <td>0.0</td>\n",
       "      <td>0.130804</td>\n",
       "      <td>0.134831</td>\n",
       "      <td>0.818182</td>\n",
       "      <td>1.0</td>\n",
       "      <td>0.0</td>\n",
       "      <td>0.854093</td>\n",
       "    </tr>\n",
       "    <tr>\n",
       "      <th>4</th>\n",
       "      <td>0.454545</td>\n",
       "      <td>1.0</td>\n",
       "      <td>0.013396</td>\n",
       "      <td>1.0</td>\n",
       "      <td>0.242424</td>\n",
       "      <td>1.0</td>\n",
       "      <td>0.329616</td>\n",
       "      <td>0.123596</td>\n",
       "      <td>0.696970</td>\n",
       "      <td>0.0</td>\n",
       "      <td>0.0</td>\n",
       "      <td>0.056940</td>\n",
       "    </tr>\n",
       "  </tbody>\n",
       "</table>\n",
       "</div>"
      ],
      "text/plain": [
       "         0    1         2    3         4    5         6         7         8   \\\n",
       "0  0.090909  0.0  0.259888  1.0  0.696970  0.0  0.869075  0.033708  0.757576   \n",
       "1  0.509091  1.0  0.127328  1.0  0.318182  0.0  0.298097  0.067416  0.636364   \n",
       "2  0.236364  1.0  0.087267  0.0  0.363636  0.0  0.369621  0.101124  0.727273   \n",
       "3  0.290909  1.0  0.014289  1.0  0.363636  0.0  0.130804  0.134831  0.818182   \n",
       "4  0.454545  1.0  0.013396  1.0  0.242424  1.0  0.329616  0.123596  0.696970   \n",
       "\n",
       "    9    10        11  \n",
       "0  0.0  0.0  0.975089  \n",
       "1  1.0  0.0  0.686833  \n",
       "2  1.0  1.0  0.729537  \n",
       "3  1.0  0.0  0.854093  \n",
       "4  0.0  0.0  0.056940  "
      ]
     },
     "execution_count": 9,
     "metadata": {},
     "output_type": "execute_result"
    }
   ],
   "source": [
    "train_x.head()"
   ]
  },
  {
   "cell_type": "code",
   "execution_count": 12,
   "metadata": {},
   "outputs": [
    {
     "name": "stdout",
     "output_type": "stream",
     "text": [
      "[0 1]\n",
      "Train on 191 samples, validate on 48 samples\n",
      "Epoch 1/100\n",
      " 32/191 [====>.........................] - ETA: 9s - loss: 0.6578 - tp: 2.0000 - fp: 5.0000 - tn: 18.0000 - fn: 7.0000 - accuracy: 0.6250 - precision: 0.2857 - recall: 0.2222 - auc: 0.5459.\n",
      "191/191 [==============================] - 3s 14ms/sample - loss: 0.6704 - tp: 10.0000 - fp: 32.0000 - tn: 106.0000 - fn: 43.0000 - accuracy: 0.6073 - precision: 0.2381 - recall: 0.1887 - auc: 0.4964 - val_loss: 0.6542 - val_tp: 0.0000e+00 - val_fp: 3.0000 - val_tn: 29.0000 - val_fn: 16.0000 - val_accuracy: 0.6042 - val_precision: 0.0000e+00 - val_recall: 0.0000e+00 - val_auc: 0.5215\n",
      "Epoch 2/100\n",
      "191/191 [==============================] - 0s 298us/sample - loss: 0.6573 - tp: 11.0000 - fp: 24.0000 - tn: 114.0000 - fn: 42.0000 - accuracy: 0.6545 - precision: 0.3143 - recall: 0.2075 - auc: 0.4730 - val_loss: 0.6485 - val_tp: 0.0000e+00 - val_fp: 0.0000e+00 - val_tn: 32.0000 - val_fn: 16.0000 - val_accuracy: 0.6667 - val_precision: 0.0000e+00 - val_recall: 0.0000e+00 - val_auc: 0.5352\n",
      "Epoch 3/100\n",
      "191/191 [==============================] - 0s 287us/sample - loss: 0.6610 - tp: 8.0000 - fp: 22.0000 - tn: 116.0000 - fn: 45.0000 - accuracy: 0.6492 - precision: 0.2667 - recall: 0.1509 - auc: 0.4508 - val_loss: 0.6442 - val_tp: 0.0000e+00 - val_fp: 0.0000e+00 - val_tn: 32.0000 - val_fn: 16.0000 - val_accuracy: 0.6667 - val_precision: 0.0000e+00 - val_recall: 0.0000e+00 - val_auc: 0.5303\n",
      "Epoch 4/100\n",
      "191/191 [==============================] - 0s 303us/sample - loss: 0.6568 - tp: 3.0000 - fp: 23.0000 - tn: 115.0000 - fn: 50.0000 - accuracy: 0.6178 - precision: 0.1154 - recall: 0.0566 - auc: 0.4591 - val_loss: 0.6407 - val_tp: 0.0000e+00 - val_fp: 0.0000e+00 - val_tn: 32.0000 - val_fn: 16.0000 - val_accuracy: 0.6667 - val_precision: 0.0000e+00 - val_recall: 0.0000e+00 - val_auc: 0.5400\n",
      "Epoch 5/100\n",
      "191/191 [==============================] - 0s 292us/sample - loss: 0.6408 - tp: 4.0000 - fp: 16.0000 - tn: 122.0000 - fn: 49.0000 - accuracy: 0.6597 - precision: 0.2000 - recall: 0.0755 - auc: 0.4595 - val_loss: 0.6379 - val_tp: 0.0000e+00 - val_fp: 0.0000e+00 - val_tn: 32.0000 - val_fn: 16.0000 - val_accuracy: 0.6667 - val_precision: 0.0000e+00 - val_recall: 0.0000e+00 - val_auc: 0.5566\n",
      "Epoch 6/100\n",
      "191/191 [==============================] - 0s 282us/sample - loss: 0.6208 - tp: 5.0000 - fp: 12.0000 - tn: 126.0000 - fn: 48.0000 - accuracy: 0.6859 - precision: 0.2941 - recall: 0.0943 - auc: 0.5306 - val_loss: 0.6355 - val_tp: 0.0000e+00 - val_fp: 0.0000e+00 - val_tn: 32.0000 - val_fn: 16.0000 - val_accuracy: 0.6667 - val_precision: 0.0000e+00 - val_recall: 0.0000e+00 - val_auc: 0.5664\n",
      "Epoch 7/100\n",
      "191/191 [==============================] - 0s 282us/sample - loss: 0.6228 - tp: 5.0000 - fp: 11.0000 - tn: 127.0000 - fn: 48.0000 - accuracy: 0.6911 - precision: 0.3125 - recall: 0.0943 - auc: 0.5545 - val_loss: 0.6336 - val_tp: 0.0000e+00 - val_fp: 0.0000e+00 - val_tn: 32.0000 - val_fn: 16.0000 - val_accuracy: 0.6667 - val_precision: 0.0000e+00 - val_recall: 0.0000e+00 - val_auc: 0.5684\n",
      "Epoch 8/100\n",
      "191/191 [==============================] - 0s 319us/sample - loss: 0.6193 - tp: 4.0000 - fp: 5.0000 - tn: 133.0000 - fn: 49.0000 - accuracy: 0.7173 - precision: 0.4444 - recall: 0.0755 - auc: 0.5172 - val_loss: 0.6319 - val_tp: 0.0000e+00 - val_fp: 0.0000e+00 - val_tn: 32.0000 - val_fn: 16.0000 - val_accuracy: 0.6667 - val_precision: 0.0000e+00 - val_recall: 0.0000e+00 - val_auc: 0.5752\n",
      "Epoch 9/100\n",
      "191/191 [==============================] - 0s 334us/sample - loss: 0.6073 - tp: 5.0000 - fp: 4.0000 - tn: 134.0000 - fn: 48.0000 - accuracy: 0.7277 - precision: 0.5556 - recall: 0.0943 - auc: 0.5524 - val_loss: 0.6305 - val_tp: 0.0000e+00 - val_fp: 0.0000e+00 - val_tn: 32.0000 - val_fn: 16.0000 - val_accuracy: 0.6667 - val_precision: 0.0000e+00 - val_recall: 0.0000e+00 - val_auc: 0.5811\n",
      "Epoch 10/100\n",
      "191/191 [==============================] - 0s 320us/sample - loss: 0.6031 - tp: 3.0000 - fp: 3.0000 - tn: 135.0000 - fn: 50.0000 - accuracy: 0.7225 - precision: 0.5000 - recall: 0.0566 - auc: 0.5528 - val_loss: 0.6291 - val_tp: 0.0000e+00 - val_fp: 0.0000e+00 - val_tn: 32.0000 - val_fn: 16.0000 - val_accuracy: 0.6667 - val_precision: 0.0000e+00 - val_recall: 0.0000e+00 - val_auc: 0.5869\n",
      "Epoch 11/100\n",
      " 32/191 [====>.........................] - ETA: 0s - loss: 0.5745 - tp: 1.0000 - fp: 0.0000e+00 - tn: 24.0000 - fn: 7.0000 - accuracy: 0.7812 - precision: 1.0000 - recall: 0.1250 - auc: 0.5781.\n",
      "191/191 [==============================] - 0s 287us/sample - loss: 0.6158 - tp: 5.0000 - fp: 4.0000 - tn: 134.0000 - fn: 48.0000 - accuracy: 0.7277 - precision: 0.5556 - recall: 0.0943 - auc: 0.5297 - val_loss: 0.6277 - val_tp: 0.0000e+00 - val_fp: 0.0000e+00 - val_tn: 32.0000 - val_fn: 16.0000 - val_accuracy: 0.6667 - val_precision: 0.0000e+00 - val_recall: 0.0000e+00 - val_auc: 0.5918\n",
      "Epoch 12/100\n",
      "191/191 [==============================] - 0s 319us/sample - loss: 0.6247 - tp: 4.0000 - fp: 9.0000 - tn: 129.0000 - fn: 49.0000 - accuracy: 0.6963 - precision: 0.3077 - recall: 0.0755 - auc: 0.4985 - val_loss: 0.6265 - val_tp: 0.0000e+00 - val_fp: 0.0000e+00 - val_tn: 32.0000 - val_fn: 16.0000 - val_accuracy: 0.6667 - val_precision: 0.0000e+00 - val_recall: 0.0000e+00 - val_auc: 0.6035\n",
      "Epoch 13/100\n",
      "191/191 [==============================] - 0s 313us/sample - loss: 0.6313 - tp: 7.0000 - fp: 6.0000 - tn: 132.0000 - fn: 46.0000 - accuracy: 0.7277 - precision: 0.5385 - recall: 0.1321 - auc: 0.5150 - val_loss: 0.6257 - val_tp: 0.0000e+00 - val_fp: 0.0000e+00 - val_tn: 32.0000 - val_fn: 16.0000 - val_accuracy: 0.6667 - val_precision: 0.0000e+00 - val_recall: 0.0000e+00 - val_auc: 0.6055\n",
      "Epoch 14/100\n",
      "191/191 [==============================] - 0s 282us/sample - loss: 0.6016 - tp: 0.0000e+00 - fp: 4.0000 - tn: 134.0000 - fn: 53.0000 - accuracy: 0.7016 - precision: 0.0000e+00 - recall: 0.0000e+00 - auc: 0.5430 - val_loss: 0.6249 - val_tp: 0.0000e+00 - val_fp: 0.0000e+00 - val_tn: 32.0000 - val_fn: 16.0000 - val_accuracy: 0.6667 - val_precision: 0.0000e+00 - val_recall: 0.0000e+00 - val_auc: 0.6094\n",
      "Epoch 15/100\n",
      "191/191 [==============================] - 0s 277us/sample - loss: 0.6041 - tp: 1.0000 - fp: 5.0000 - tn: 133.0000 - fn: 52.0000 - accuracy: 0.7016 - precision: 0.1667 - recall: 0.0189 - auc: 0.5652 - val_loss: 0.6242 - val_tp: 0.0000e+00 - val_fp: 0.0000e+00 - val_tn: 32.0000 - val_fn: 16.0000 - val_accuracy: 0.6667 - val_precision: 0.0000e+00 - val_recall: 0.0000e+00 - val_auc: 0.6094\n",
      "Epoch 16/100\n",
      "191/191 [==============================] - 0s 282us/sample - loss: 0.5971 - tp: 2.0000 - fp: 3.0000 - tn: 135.0000 - fn: 51.0000 - accuracy: 0.7173 - precision: 0.4000 - recall: 0.0377 - auc: 0.5596 - val_loss: 0.6236 - val_tp: 0.0000e+00 - val_fp: 0.0000e+00 - val_tn: 32.0000 - val_fn: 16.0000 - val_accuracy: 0.6667 - val_precision: 0.0000e+00 - val_recall: 0.0000e+00 - val_auc: 0.6123\n",
      "Epoch 17/100\n",
      "191/191 [==============================] - 0s 319us/sample - loss: 0.5862 - tp: 1.0000 - fp: 2.0000 - tn: 136.0000 - fn: 52.0000 - accuracy: 0.7173 - precision: 0.3333 - recall: 0.0189 - auc: 0.6006 - val_loss: 0.6227 - val_tp: 0.0000e+00 - val_fp: 0.0000e+00 - val_tn: 32.0000 - val_fn: 16.0000 - val_accuracy: 0.6667 - val_precision: 0.0000e+00 - val_recall: 0.0000e+00 - val_auc: 0.6133\n",
      "Epoch 18/100\n",
      "191/191 [==============================] - 0s 282us/sample - loss: 0.6048 - tp: 2.0000 - fp: 3.0000 - tn: 135.0000 - fn: 51.0000 - accuracy: 0.7173 - precision: 0.4000 - recall: 0.0377 - auc: 0.5444 - val_loss: 0.6219 - val_tp: 0.0000e+00 - val_fp: 0.0000e+00 - val_tn: 32.0000 - val_fn: 16.0000 - val_accuracy: 0.6667 - val_precision: 0.0000e+00 - val_recall: 0.0000e+00 - val_auc: 0.6152\n",
      "Epoch 19/100\n",
      "191/191 [==============================] - 0s 308us/sample - loss: 0.5964 - tp: 0.0000e+00 - fp: 4.0000 - tn: 134.0000 - fn: 53.0000 - accuracy: 0.7016 - precision: 0.0000e+00 - recall: 0.0000e+00 - auc: 0.5495 - val_loss: 0.6215 - val_tp: 0.0000e+00 - val_fp: 0.0000e+00 - val_tn: 32.0000 - val_fn: 16.0000 - val_accuracy: 0.6667 - val_precision: 0.0000e+00 - val_recall: 0.0000e+00 - val_auc: 0.6182\n",
      "Epoch 20/100\n"
     ]
    },
    {
     "name": "stdout",
     "output_type": "stream",
     "text": [
      "191/191 [==============================] - 0s 282us/sample - loss: 0.5954 - tp: 1.0000 - fp: 2.0000 - tn: 136.0000 - fn: 52.0000 - accuracy: 0.7173 - precision: 0.3333 - recall: 0.0189 - auc: 0.5622 - val_loss: 0.6211 - val_tp: 0.0000e+00 - val_fp: 0.0000e+00 - val_tn: 32.0000 - val_fn: 16.0000 - val_accuracy: 0.6667 - val_precision: 0.0000e+00 - val_recall: 0.0000e+00 - val_auc: 0.6143\n",
      "Epoch 21/100\n",
      " 32/191 [====>.........................] - ETA: 0s - loss: 0.6100 - tp: 0.0000e+00 - fp: 0.0000e+00 - tn: 20.0000 - fn: 12.0000 - accuracy: 0.6250 - precision: 0.0000e+00 - recall: 0.0000e+00 - auc: 0.6792.\n",
      "191/191 [==============================] - 0s 313us/sample - loss: 0.5865 - tp: 0.0000e+00 - fp: 1.0000 - tn: 137.0000 - fn: 53.0000 - accuracy: 0.7173 - precision: 0.0000e+00 - recall: 0.0000e+00 - auc: 0.5990 - val_loss: 0.6206 - val_tp: 0.0000e+00 - val_fp: 0.0000e+00 - val_tn: 32.0000 - val_fn: 16.0000 - val_accuracy: 0.6667 - val_precision: 0.0000e+00 - val_recall: 0.0000e+00 - val_auc: 0.6211\n",
      "Epoch 22/100\n",
      "191/191 [==============================] - 0s 266us/sample - loss: 0.5814 - tp: 0.0000e+00 - fp: 4.0000 - tn: 134.0000 - fn: 53.0000 - accuracy: 0.7016 - precision: 0.0000e+00 - recall: 0.0000e+00 - auc: 0.5994 - val_loss: 0.6199 - val_tp: 0.0000e+00 - val_fp: 0.0000e+00 - val_tn: 32.0000 - val_fn: 16.0000 - val_accuracy: 0.6667 - val_precision: 0.0000e+00 - val_recall: 0.0000e+00 - val_auc: 0.6250\n",
      "Epoch 23/100\n",
      "191/191 [==============================] - 0s 313us/sample - loss: 0.5631 - tp: 3.0000 - fp: 0.0000e+00 - tn: 138.0000 - fn: 50.0000 - accuracy: 0.7382 - precision: 1.0000 - recall: 0.0566 - auc: 0.6503 - val_loss: 0.6196 - val_tp: 0.0000e+00 - val_fp: 0.0000e+00 - val_tn: 32.0000 - val_fn: 16.0000 - val_accuracy: 0.6667 - val_precision: 0.0000e+00 - val_recall: 0.0000e+00 - val_auc: 0.6289\n",
      "Epoch 24/100\n",
      "191/191 [==============================] - 0s 313us/sample - loss: 0.5946 - tp: 3.0000 - fp: 1.0000 - tn: 137.0000 - fn: 50.0000 - accuracy: 0.7330 - precision: 0.7500 - recall: 0.0566 - auc: 0.5743 - val_loss: 0.6187 - val_tp: 0.0000e+00 - val_fp: 0.0000e+00 - val_tn: 32.0000 - val_fn: 16.0000 - val_accuracy: 0.6667 - val_precision: 0.0000e+00 - val_recall: 0.0000e+00 - val_auc: 0.6338\n",
      "Epoch 25/100\n",
      "191/191 [==============================] - 0s 277us/sample - loss: 0.5880 - tp: 1.0000 - fp: 0.0000e+00 - tn: 138.0000 - fn: 52.0000 - accuracy: 0.7277 - precision: 1.0000 - recall: 0.0189 - auc: 0.5829 - val_loss: 0.6178 - val_tp: 0.0000e+00 - val_fp: 0.0000e+00 - val_tn: 32.0000 - val_fn: 16.0000 - val_accuracy: 0.6667 - val_precision: 0.0000e+00 - val_recall: 0.0000e+00 - val_auc: 0.6367\n",
      "Epoch 26/100\n",
      "191/191 [==============================] - 0s 282us/sample - loss: 0.5690 - tp: 3.0000 - fp: 2.0000 - tn: 136.0000 - fn: 50.0000 - accuracy: 0.7277 - precision: 0.6000 - recall: 0.0566 - auc: 0.6293 - val_loss: 0.6169 - val_tp: 0.0000e+00 - val_fp: 0.0000e+00 - val_tn: 32.0000 - val_fn: 16.0000 - val_accuracy: 0.6667 - val_precision: 0.0000e+00 - val_recall: 0.0000e+00 - val_auc: 0.6348\n",
      "Epoch 27/100\n",
      "191/191 [==============================] - 0s 256us/sample - loss: 0.5925 - tp: 1.0000 - fp: 8.0000 - tn: 130.0000 - fn: 52.0000 - accuracy: 0.6859 - precision: 0.1111 - recall: 0.0189 - auc: 0.5794 - val_loss: 0.6160 - val_tp: 0.0000e+00 - val_fp: 0.0000e+00 - val_tn: 32.0000 - val_fn: 16.0000 - val_accuracy: 0.6667 - val_precision: 0.0000e+00 - val_recall: 0.0000e+00 - val_auc: 0.6436\n",
      "Epoch 28/100\n",
      "191/191 [==============================] - 0s 287us/sample - loss: 0.5784 - tp: 2.0000 - fp: 2.0000 - tn: 136.0000 - fn: 51.0000 - accuracy: 0.7225 - precision: 0.5000 - recall: 0.0377 - auc: 0.6131 - val_loss: 0.6152 - val_tp: 0.0000e+00 - val_fp: 0.0000e+00 - val_tn: 32.0000 - val_fn: 16.0000 - val_accuracy: 0.6667 - val_precision: 0.0000e+00 - val_recall: 0.0000e+00 - val_auc: 0.6465\n",
      "Epoch 29/100\n",
      "191/191 [==============================] - 0s 277us/sample - loss: 0.5813 - tp: 3.0000 - fp: 0.0000e+00 - tn: 138.0000 - fn: 50.0000 - accuracy: 0.7382 - precision: 1.0000 - recall: 0.0566 - auc: 0.6038 - val_loss: 0.6144 - val_tp: 0.0000e+00 - val_fp: 0.0000e+00 - val_tn: 32.0000 - val_fn: 16.0000 - val_accuracy: 0.6667 - val_precision: 0.0000e+00 - val_recall: 0.0000e+00 - val_auc: 0.6504\n",
      "Epoch 30/100\n",
      "191/191 [==============================] - 0s 266us/sample - loss: 0.5631 - tp: 2.0000 - fp: 2.0000 - tn: 136.0000 - fn: 51.0000 - accuracy: 0.7225 - precision: 0.5000 - recall: 0.0377 - auc: 0.6446 - val_loss: 0.6139 - val_tp: 0.0000e+00 - val_fp: 0.0000e+00 - val_tn: 32.0000 - val_fn: 16.0000 - val_accuracy: 0.6667 - val_precision: 0.0000e+00 - val_recall: 0.0000e+00 - val_auc: 0.6543\n",
      "Epoch 31/100\n",
      " 32/191 [====>.........................] - ETA: 0s - loss: 0.6152 - tp: 0.0000e+00 - fp: 1.0000 - tn: 23.0000 - fn: 8.0000 - accuracy: 0.7188 - precision: 0.0000e+00 - recall: 0.0000e+00 - auc: 0.4167.\n",
      "191/191 [==============================] - 0s 258us/sample - loss: 0.5463 - tp: 3.0000 - fp: 1.0000 - tn: 137.0000 - fn: 50.0000 - accuracy: 0.7330 - precision: 0.7500 - recall: 0.0566 - auc: 0.7015 - val_loss: 0.6131 - val_tp: 0.0000e+00 - val_fp: 0.0000e+00 - val_tn: 32.0000 - val_fn: 16.0000 - val_accuracy: 0.6667 - val_precision: 0.0000e+00 - val_recall: 0.0000e+00 - val_auc: 0.6514\n",
      "Epoch 32/100\n",
      "191/191 [==============================] - 0s 277us/sample - loss: 0.5820 - tp: 1.0000 - fp: 1.0000 - tn: 137.0000 - fn: 52.0000 - accuracy: 0.7225 - precision: 0.5000 - recall: 0.0189 - auc: 0.5912 - val_loss: 0.6121 - val_tp: 0.0000e+00 - val_fp: 0.0000e+00 - val_tn: 32.0000 - val_fn: 16.0000 - val_accuracy: 0.6667 - val_precision: 0.0000e+00 - val_recall: 0.0000e+00 - val_auc: 0.6553\n",
      "Epoch 33/100\n",
      "191/191 [==============================] - 0s 272us/sample - loss: 0.5724 - tp: 0.0000e+00 - fp: 0.0000e+00 - tn: 138.0000 - fn: 53.0000 - accuracy: 0.7225 - precision: 0.0000e+00 - recall: 0.0000e+00 - auc: 0.6328 - val_loss: 0.6110 - val_tp: 0.0000e+00 - val_fp: 0.0000e+00 - val_tn: 32.0000 - val_fn: 16.0000 - val_accuracy: 0.6667 - val_precision: 0.0000e+00 - val_recall: 0.0000e+00 - val_auc: 0.6621\n",
      "Epoch 34/100\n",
      "191/191 [==============================] - 0s 303us/sample - loss: 0.5781 - tp: 1.0000 - fp: 2.0000 - tn: 136.0000 - fn: 52.0000 - accuracy: 0.7173 - precision: 0.3333 - recall: 0.0189 - auc: 0.6025 - val_loss: 0.6100 - val_tp: 0.0000e+00 - val_fp: 0.0000e+00 - val_tn: 32.0000 - val_fn: 16.0000 - val_accuracy: 0.6667 - val_precision: 0.0000e+00 - val_recall: 0.0000e+00 - val_auc: 0.6621\n",
      "Epoch 35/100\n",
      "191/191 [==============================] - 0s 300us/sample - loss: 0.5855 - tp: 0.0000e+00 - fp: 1.0000 - tn: 137.0000 - fn: 53.0000 - accuracy: 0.7173 - precision: 0.0000e+00 - recall: 0.0000e+00 - auc: 0.5896 - val_loss: 0.6090 - val_tp: 0.0000e+00 - val_fp: 0.0000e+00 - val_tn: 32.0000 - val_fn: 16.0000 - val_accuracy: 0.6667 - val_precision: 0.0000e+00 - val_recall: 0.0000e+00 - val_auc: 0.6631\n",
      "Epoch 36/100\n",
      "191/191 [==============================] - 0s 304us/sample - loss: 0.5652 - tp: 3.0000 - fp: 0.0000e+00 - tn: 138.0000 - fn: 50.0000 - accuracy: 0.7382 - precision: 1.0000 - recall: 0.0566 - auc: 0.6345 - val_loss: 0.6078 - val_tp: 0.0000e+00 - val_fp: 0.0000e+00 - val_tn: 32.0000 - val_fn: 16.0000 - val_accuracy: 0.6667 - val_precision: 0.0000e+00 - val_recall: 0.0000e+00 - val_auc: 0.6670\n",
      "Epoch 37/100\n",
      "191/191 [==============================] - 0s 266us/sample - loss: 0.5714 - tp: 0.0000e+00 - fp: 3.0000 - tn: 135.0000 - fn: 53.0000 - accuracy: 0.7068 - precision: 0.0000e+00 - recall: 0.0000e+00 - auc: 0.6276 - val_loss: 0.6071 - val_tp: 0.0000e+00 - val_fp: 0.0000e+00 - val_tn: 32.0000 - val_fn: 16.0000 - val_accuracy: 0.6667 - val_precision: 0.0000e+00 - val_recall: 0.0000e+00 - val_auc: 0.6709\n",
      "Epoch 38/100\n",
      "191/191 [==============================] - 0s 292us/sample - loss: 0.5859 - tp: 0.0000e+00 - fp: 2.0000 - tn: 136.0000 - fn: 53.0000 - accuracy: 0.7120 - precision: 0.0000e+00 - recall: 0.0000e+00 - auc: 0.5809 - val_loss: 0.6061 - val_tp: 0.0000e+00 - val_fp: 0.0000e+00 - val_tn: 32.0000 - val_fn: 16.0000 - val_accuracy: 0.6667 - val_precision: 0.0000e+00 - val_recall: 0.0000e+00 - val_auc: 0.6699\n",
      "Epoch 39/100\n"
     ]
    },
    {
     "name": "stdout",
     "output_type": "stream",
     "text": [
      "191/191 [==============================] - 0s 282us/sample - loss: 0.5756 - tp: 2.0000 - fp: 2.0000 - tn: 136.0000 - fn: 51.0000 - accuracy: 0.7225 - precision: 0.5000 - recall: 0.0377 - auc: 0.6265 - val_loss: 0.6049 - val_tp: 0.0000e+00 - val_fp: 0.0000e+00 - val_tn: 32.0000 - val_fn: 16.0000 - val_accuracy: 0.6667 - val_precision: 0.0000e+00 - val_recall: 0.0000e+00 - val_auc: 0.6729\n",
      "Epoch 40/100\n",
      "191/191 [==============================] - 0s 282us/sample - loss: 0.5499 - tp: 3.0000 - fp: 0.0000e+00 - tn: 138.0000 - fn: 50.0000 - accuracy: 0.7382 - precision: 1.0000 - recall: 0.0566 - auc: 0.6872 - val_loss: 0.6034 - val_tp: 0.0000e+00 - val_fp: 0.0000e+00 - val_tn: 32.0000 - val_fn: 16.0000 - val_accuracy: 0.6667 - val_precision: 0.0000e+00 - val_recall: 0.0000e+00 - val_auc: 0.6816\n",
      "Epoch 41/100\n",
      " 32/191 [====>.........................] - ETA: 0s - loss: 0.6233 - tp: 0.0000e+00 - fp: 0.0000e+00 - tn: 22.0000 - fn: 10.0000 - accuracy: 0.6875 - precision: 0.0000e+00 - recall: 0.0000e+00 - auc: 0.5545.\n",
      "191/191 [==============================] - 0s 272us/sample - loss: 0.5651 - tp: 3.0000 - fp: 1.0000 - tn: 137.0000 - fn: 50.0000 - accuracy: 0.7330 - precision: 0.7500 - recall: 0.0566 - auc: 0.6365 - val_loss: 0.6018 - val_tp: 0.0000e+00 - val_fp: 0.0000e+00 - val_tn: 32.0000 - val_fn: 16.0000 - val_accuracy: 0.6667 - val_precision: 0.0000e+00 - val_recall: 0.0000e+00 - val_auc: 0.6807\n",
      "Epoch 42/100\n",
      "191/191 [==============================] - 0s 266us/sample - loss: 0.5485 - tp: 3.0000 - fp: 1.0000 - tn: 137.0000 - fn: 50.0000 - accuracy: 0.7330 - precision: 0.7500 - recall: 0.0566 - auc: 0.6716 - val_loss: 0.6007 - val_tp: 0.0000e+00 - val_fp: 0.0000e+00 - val_tn: 32.0000 - val_fn: 16.0000 - val_accuracy: 0.6667 - val_precision: 0.0000e+00 - val_recall: 0.0000e+00 - val_auc: 0.6816\n",
      "Epoch 43/100\n",
      "191/191 [==============================] - 0s 266us/sample - loss: 0.5588 - tp: 3.0000 - fp: 1.0000 - tn: 137.0000 - fn: 50.0000 - accuracy: 0.7330 - precision: 0.7500 - recall: 0.0566 - auc: 0.6531 - val_loss: 0.5998 - val_tp: 0.0000e+00 - val_fp: 0.0000e+00 - val_tn: 32.0000 - val_fn: 16.0000 - val_accuracy: 0.6667 - val_precision: 0.0000e+00 - val_recall: 0.0000e+00 - val_auc: 0.6826\n",
      "Epoch 44/100\n",
      "191/191 [==============================] - 0s 272us/sample - loss: 0.5408 - tp: 5.0000 - fp: 1.0000 - tn: 137.0000 - fn: 48.0000 - accuracy: 0.7435 - precision: 0.8333 - recall: 0.0943 - auc: 0.7134 - val_loss: 0.5985 - val_tp: 0.0000e+00 - val_fp: 0.0000e+00 - val_tn: 32.0000 - val_fn: 16.0000 - val_accuracy: 0.6667 - val_precision: 0.0000e+00 - val_recall: 0.0000e+00 - val_auc: 0.6875\n",
      "Epoch 45/100\n",
      "191/191 [==============================] - 0s 282us/sample - loss: 0.5719 - tp: 4.0000 - fp: 3.0000 - tn: 135.0000 - fn: 49.0000 - accuracy: 0.7277 - precision: 0.5714 - recall: 0.0755 - auc: 0.6334 - val_loss: 0.5979 - val_tp: 0.0000e+00 - val_fp: 0.0000e+00 - val_tn: 32.0000 - val_fn: 16.0000 - val_accuracy: 0.6667 - val_precision: 0.0000e+00 - val_recall: 0.0000e+00 - val_auc: 0.6885\n",
      "Epoch 46/100\n",
      "191/191 [==============================] - 0s 303us/sample - loss: 0.5615 - tp: 5.0000 - fp: 1.0000 - tn: 137.0000 - fn: 48.0000 - accuracy: 0.7435 - precision: 0.8333 - recall: 0.0943 - auc: 0.6511 - val_loss: 0.5976 - val_tp: 0.0000e+00 - val_fp: 0.0000e+00 - val_tn: 32.0000 - val_fn: 16.0000 - val_accuracy: 0.6667 - val_precision: 0.0000e+00 - val_recall: 0.0000e+00 - val_auc: 0.6904\n",
      "Epoch 47/100\n",
      "191/191 [==============================] - 0s 282us/sample - loss: 0.5424 - tp: 5.0000 - fp: 0.0000e+00 - tn: 138.0000 - fn: 48.0000 - accuracy: 0.7487 - precision: 1.0000 - recall: 0.0943 - auc: 0.6921 - val_loss: 0.5967 - val_tp: 0.0000e+00 - val_fp: 0.0000e+00 - val_tn: 32.0000 - val_fn: 16.0000 - val_accuracy: 0.6667 - val_precision: 0.0000e+00 - val_recall: 0.0000e+00 - val_auc: 0.6934\n",
      "Epoch 48/100\n",
      "191/191 [==============================] - 0s 298us/sample - loss: 0.5574 - tp: 4.0000 - fp: 0.0000e+00 - tn: 138.0000 - fn: 49.0000 - accuracy: 0.7435 - precision: 1.0000 - recall: 0.0755 - auc: 0.6396 - val_loss: 0.5955 - val_tp: 0.0000e+00 - val_fp: 0.0000e+00 - val_tn: 32.0000 - val_fn: 16.0000 - val_accuracy: 0.6667 - val_precision: 0.0000e+00 - val_recall: 0.0000e+00 - val_auc: 0.6943\n",
      "Epoch 49/100\n",
      "191/191 [==============================] - 0s 313us/sample - loss: 0.5437 - tp: 3.0000 - fp: 1.0000 - tn: 137.0000 - fn: 50.0000 - accuracy: 0.7330 - precision: 0.7500 - recall: 0.0566 - auc: 0.6999 - val_loss: 0.5944 - val_tp: 0.0000e+00 - val_fp: 0.0000e+00 - val_tn: 32.0000 - val_fn: 16.0000 - val_accuracy: 0.6667 - val_precision: 0.0000e+00 - val_recall: 0.0000e+00 - val_auc: 0.6943\n",
      "Epoch 50/100\n",
      "191/191 [==============================] - 0s 308us/sample - loss: 0.5537 - tp: 5.0000 - fp: 4.0000 - tn: 134.0000 - fn: 48.0000 - accuracy: 0.7277 - precision: 0.5556 - recall: 0.0943 - auc: 0.6721 - val_loss: 0.5940 - val_tp: 0.0000e+00 - val_fp: 0.0000e+00 - val_tn: 32.0000 - val_fn: 16.0000 - val_accuracy: 0.6667 - val_precision: 0.0000e+00 - val_recall: 0.0000e+00 - val_auc: 0.7021\n",
      "Epoch 51/100\n",
      " 32/191 [====>.........................] - ETA: 0s - loss: 0.6295 - tp: 0.0000e+00 - fp: 0.0000e+00 - tn: 22.0000 - fn: 10.0000 - accuracy: 0.6875 - precision: 0.0000e+00 - recall: 0.0000e+00 - auc: 0.5636.\n",
      "191/191 [==============================] - 0s 298us/sample - loss: 0.5802 - tp: 2.0000 - fp: 3.0000 - tn: 135.0000 - fn: 51.0000 - accuracy: 0.7173 - precision: 0.4000 - recall: 0.0377 - auc: 0.5939 - val_loss: 0.5930 - val_tp: 0.0000e+00 - val_fp: 0.0000e+00 - val_tn: 32.0000 - val_fn: 16.0000 - val_accuracy: 0.6667 - val_precision: 0.0000e+00 - val_recall: 0.0000e+00 - val_auc: 0.6992\n",
      "Epoch 52/100\n",
      "191/191 [==============================] - 0s 319us/sample - loss: 0.5422 - tp: 2.0000 - fp: 3.0000 - tn: 135.0000 - fn: 51.0000 - accuracy: 0.7173 - precision: 0.4000 - recall: 0.0377 - auc: 0.7246 - val_loss: 0.5923 - val_tp: 0.0000e+00 - val_fp: 0.0000e+00 - val_tn: 32.0000 - val_fn: 16.0000 - val_accuracy: 0.6667 - val_precision: 0.0000e+00 - val_recall: 0.0000e+00 - val_auc: 0.7070\n",
      "Epoch 53/100\n",
      "191/191 [==============================] - 0s 293us/sample - loss: 0.5508 - tp: 5.0000 - fp: 3.0000 - tn: 135.0000 - fn: 48.0000 - accuracy: 0.7330 - precision: 0.6250 - recall: 0.0943 - auc: 0.6807 - val_loss: 0.5915 - val_tp: 0.0000e+00 - val_fp: 0.0000e+00 - val_tn: 32.0000 - val_fn: 16.0000 - val_accuracy: 0.6667 - val_precision: 0.0000e+00 - val_recall: 0.0000e+00 - val_auc: 0.7090\n",
      "Epoch 54/100\n",
      "191/191 [==============================] - 0s 282us/sample - loss: 0.5503 - tp: 3.0000 - fp: 1.0000 - tn: 137.0000 - fn: 50.0000 - accuracy: 0.7330 - precision: 0.7500 - recall: 0.0566 - auc: 0.6687 - val_loss: 0.5908 - val_tp: 0.0000e+00 - val_fp: 0.0000e+00 - val_tn: 32.0000 - val_fn: 16.0000 - val_accuracy: 0.6667 - val_precision: 0.0000e+00 - val_recall: 0.0000e+00 - val_auc: 0.7080\n",
      "Epoch 55/100\n",
      "191/191 [==============================] - 0s 287us/sample - loss: 0.5455 - tp: 3.0000 - fp: 2.0000 - tn: 136.0000 - fn: 50.0000 - accuracy: 0.7277 - precision: 0.6000 - recall: 0.0566 - auc: 0.6903 - val_loss: 0.5903 - val_tp: 0.0000e+00 - val_fp: 0.0000e+00 - val_tn: 32.0000 - val_fn: 16.0000 - val_accuracy: 0.6667 - val_precision: 0.0000e+00 - val_recall: 0.0000e+00 - val_auc: 0.7051\n",
      "Epoch 56/100\n",
      "191/191 [==============================] - 0s 271us/sample - loss: 0.5420 - tp: 4.0000 - fp: 1.0000 - tn: 137.0000 - fn: 49.0000 - accuracy: 0.7382 - precision: 0.8000 - recall: 0.0755 - auc: 0.6937 - val_loss: 0.5896 - val_tp: 0.0000e+00 - val_fp: 0.0000e+00 - val_tn: 32.0000 - val_fn: 16.0000 - val_accuracy: 0.6667 - val_precision: 0.0000e+00 - val_recall: 0.0000e+00 - val_auc: 0.7090\n",
      "Epoch 57/100\n",
      "191/191 [==============================] - 0s 282us/sample - loss: 0.5420 - tp: 7.0000 - fp: 4.0000 - tn: 134.0000 - fn: 46.0000 - accuracy: 0.7382 - precision: 0.6364 - recall: 0.1321 - auc: 0.6923 - val_loss: 0.5892 - val_tp: 0.0000e+00 - val_fp: 0.0000e+00 - val_tn: 32.0000 - val_fn: 16.0000 - val_accuracy: 0.6667 - val_precision: 0.0000e+00 - val_recall: 0.0000e+00 - val_auc: 0.7100\n",
      "Epoch 58/100\n"
     ]
    },
    {
     "name": "stdout",
     "output_type": "stream",
     "text": [
      "191/191 [==============================] - 0s 266us/sample - loss: 0.5500 - tp: 4.0000 - fp: 3.0000 - tn: 135.0000 - fn: 49.0000 - accuracy: 0.7277 - precision: 0.5714 - recall: 0.0755 - auc: 0.6760 - val_loss: 0.5885 - val_tp: 0.0000e+00 - val_fp: 0.0000e+00 - val_tn: 32.0000 - val_fn: 16.0000 - val_accuracy: 0.6667 - val_precision: 0.0000e+00 - val_recall: 0.0000e+00 - val_auc: 0.7119\n",
      "Epoch 59/100\n",
      "191/191 [==============================] - 0s 272us/sample - loss: 0.5015 - tp: 6.0000 - fp: 0.0000e+00 - tn: 138.0000 - fn: 47.0000 - accuracy: 0.7539 - precision: 1.0000 - recall: 0.1132 - auc: 0.7912 - val_loss: 0.5879 - val_tp: 0.0000e+00 - val_fp: 0.0000e+00 - val_tn: 32.0000 - val_fn: 16.0000 - val_accuracy: 0.6667 - val_precision: 0.0000e+00 - val_recall: 0.0000e+00 - val_auc: 0.7119\n",
      "Epoch 60/100\n",
      "191/191 [==============================] - 0s 266us/sample - loss: 0.5415 - tp: 4.0000 - fp: 3.0000 - tn: 135.0000 - fn: 49.0000 - accuracy: 0.7277 - precision: 0.5714 - recall: 0.0755 - auc: 0.6890 - val_loss: 0.5876 - val_tp: 0.0000e+00 - val_fp: 0.0000e+00 - val_tn: 32.0000 - val_fn: 16.0000 - val_accuracy: 0.6667 - val_precision: 0.0000e+00 - val_recall: 0.0000e+00 - val_auc: 0.7168\n",
      "Epoch 61/100\n",
      " 32/191 [====>.........................] - ETA: 0s - loss: 0.5060 - tp: 2.0000 - fp: 0.0000e+00 - tn: 21.0000 - fn: 9.0000 - accuracy: 0.7188 - precision: 1.0000 - recall: 0.1818 - auc: 0.8766.\n",
      "191/191 [==============================] - 0s 282us/sample - loss: 0.5061 - tp: 9.0000 - fp: 1.0000 - tn: 137.0000 - fn: 44.0000 - accuracy: 0.7644 - precision: 0.9000 - recall: 0.1698 - auc: 0.7907 - val_loss: 0.5870 - val_tp: 0.0000e+00 - val_fp: 0.0000e+00 - val_tn: 32.0000 - val_fn: 16.0000 - val_accuracy: 0.6667 - val_precision: 0.0000e+00 - val_recall: 0.0000e+00 - val_auc: 0.7119\n",
      "Epoch 62/100\n",
      "191/191 [==============================] - 0s 287us/sample - loss: 0.5163 - tp: 8.0000 - fp: 2.0000 - tn: 136.0000 - fn: 45.0000 - accuracy: 0.7539 - precision: 0.8000 - recall: 0.1509 - auc: 0.7364 - val_loss: 0.5864 - val_tp: 0.0000e+00 - val_fp: 0.0000e+00 - val_tn: 32.0000 - val_fn: 16.0000 - val_accuracy: 0.6667 - val_precision: 0.0000e+00 - val_recall: 0.0000e+00 - val_auc: 0.7158\n",
      "Epoch 63/100\n",
      "191/191 [==============================] - 0s 277us/sample - loss: 0.4974 - tp: 3.0000 - fp: 1.0000 - tn: 137.0000 - fn: 50.0000 - accuracy: 0.7330 - precision: 0.7500 - recall: 0.0566 - auc: 0.7934 - val_loss: 0.5859 - val_tp: 0.0000e+00 - val_fp: 0.0000e+00 - val_tn: 32.0000 - val_fn: 16.0000 - val_accuracy: 0.6667 - val_precision: 0.0000e+00 - val_recall: 0.0000e+00 - val_auc: 0.7148\n",
      "Epoch 64/100\n",
      "191/191 [==============================] - 0s 266us/sample - loss: 0.5175 - tp: 3.0000 - fp: 3.0000 - tn: 135.0000 - fn: 50.0000 - accuracy: 0.7225 - precision: 0.5000 - recall: 0.0566 - auc: 0.7522 - val_loss: 0.5851 - val_tp: 0.0000e+00 - val_fp: 0.0000e+00 - val_tn: 32.0000 - val_fn: 16.0000 - val_accuracy: 0.6667 - val_precision: 0.0000e+00 - val_recall: 0.0000e+00 - val_auc: 0.7148\n",
      "Epoch 65/100\n",
      "191/191 [==============================] - 0s 287us/sample - loss: 0.5227 - tp: 7.0000 - fp: 1.0000 - tn: 137.0000 - fn: 46.0000 - accuracy: 0.7539 - precision: 0.8750 - recall: 0.1321 - auc: 0.7248 - val_loss: 0.5838 - val_tp: 2.0000 - val_fp: 0.0000e+00 - val_tn: 32.0000 - val_fn: 14.0000 - val_accuracy: 0.7083 - val_precision: 1.0000 - val_recall: 0.1250 - val_auc: 0.7109\n",
      "Epoch 66/100\n",
      "191/191 [==============================] - 0s 308us/sample - loss: 0.5266 - tp: 4.0000 - fp: 4.0000 - tn: 134.0000 - fn: 49.0000 - accuracy: 0.7225 - precision: 0.5000 - recall: 0.0755 - auc: 0.7263 - val_loss: 0.5826 - val_tp: 2.0000 - val_fp: 0.0000e+00 - val_tn: 32.0000 - val_fn: 14.0000 - val_accuracy: 0.7083 - val_precision: 1.0000 - val_recall: 0.1250 - val_auc: 0.7119\n",
      "Epoch 67/100\n",
      "191/191 [==============================] - 0s 308us/sample - loss: 0.5144 - tp: 8.0000 - fp: 0.0000e+00 - tn: 138.0000 - fn: 45.0000 - accuracy: 0.7644 - precision: 1.0000 - recall: 0.1509 - auc: 0.7484 - val_loss: 0.5812 - val_tp: 2.0000 - val_fp: 0.0000e+00 - val_tn: 32.0000 - val_fn: 14.0000 - val_accuracy: 0.7083 - val_precision: 1.0000 - val_recall: 0.1250 - val_auc: 0.7119\n",
      "Epoch 68/100\n",
      "191/191 [==============================] - 0s 287us/sample - loss: 0.5231 - tp: 5.0000 - fp: 4.0000 - tn: 134.0000 - fn: 48.0000 - accuracy: 0.7277 - precision: 0.5556 - recall: 0.0943 - auc: 0.7363 - val_loss: 0.5798 - val_tp: 2.0000 - val_fp: 1.0000 - val_tn: 31.0000 - val_fn: 14.0000 - val_accuracy: 0.6875 - val_precision: 0.6667 - val_recall: 0.1250 - val_auc: 0.7129\n",
      "Epoch 69/100\n",
      "191/191 [==============================] - 0s 303us/sample - loss: 0.5155 - tp: 9.0000 - fp: 2.0000 - tn: 136.0000 - fn: 44.0000 - accuracy: 0.7592 - precision: 0.8182 - recall: 0.1698 - auc: 0.7311 - val_loss: 0.5790 - val_tp: 2.0000 - val_fp: 1.0000 - val_tn: 31.0000 - val_fn: 14.0000 - val_accuracy: 0.6875 - val_precision: 0.6667 - val_recall: 0.1250 - val_auc: 0.7109\n",
      "Epoch 70/100\n",
      " 32/191 [====>.........................] - ETA: 0s - loss: 0.5808 - tp: 0.0000e+00 - fp: 0.0000e+00 - tn: 22.0000 - fn: 10.0000 - accuracy: 0.6875 - precision: 0.0000e+00 - recall: 0.0000e+00 - auc: 0.6886Restoring model weights from the end of the best epoch.\n",
      "191/191 [==============================] - 0s 287us/sample - loss: 0.5178 - tp: 10.0000 - fp: 7.0000 - tn: 131.0000 - fn: 43.0000 - accuracy: 0.7382 - precision: 0.5882 - recall: 0.1887 - auc: 0.7555 - val_loss: 0.5778 - val_tp: 2.0000 - val_fp: 1.0000 - val_tn: 31.0000 - val_fn: 14.0000 - val_accuracy: 0.6875 - val_precision: 0.6667 - val_recall: 0.1250 - val_auc: 0.7158\n",
      "Epoch 00070: early stopping\n"
     ]
    }
   ],
   "source": [
    "print(np.unique(train_y))\n",
    "\n",
    "non_resampled_history = model.fit(\n",
    "    train_x,\n",
    "    train_y,\n",
    "    batch_size=mobj.BATCH_SIZE,\n",
    "    epochs=mobj.EPOCHS,\n",
    "    callbacks = [early_stopping, models.printDot()],\n",
    "    validation_split=0.2\n",
    "    )"
   ]
  },
  {
   "cell_type": "code",
   "execution_count": 13,
   "metadata": {},
   "outputs": [
    {
     "data": {
      "image/png": "[encoded data removed]",
      "text/plain": [
       "<Figure size 432x288 with 4 Axes>"
      ]
     },
     "metadata": {
      "needs_background": "light"
     },
     "output_type": "display_data"
    }
   ],
   "source": [
    "util.plot_metrics(non_resampled_history)"
   ]
  },
  {
   "cell_type": "markdown",
   "metadata": {},
   "source": [
    "# Evaluate the Model"
   ]
  },
  {
   "cell_type": "code",
   "execution_count": 14,
   "metadata": {},
   "outputs": [],
   "source": [
    "#test_y = test.pop('DEATH_EVENT')\n",
    "#test_x = test\n",
    "test_predictions_no_r = model.predict(test_x, batch_size=mobj.BATCH_SIZE)"
   ]
  },
  {
   "cell_type": "code",
   "execution_count": 18,
   "metadata": {},
   "outputs": [
    {
     "data": {
      "image/png": "[encoded data removed]",
      "text/plain": [
       "<Figure size 648x648 with 2 Axes>"
      ]
     },
     "metadata": {
      "needs_background": "light"
     },
     "output_type": "display_data"
    }
   ],
   "source": [
    "from sklearn.metrics import balanced_accuracy_score\n",
    "from sklearn.metrics import confusion_matrix\n",
    "\n",
    "#print(test_y.shape)\n",
    "#print(test_predictions_no_r.shape)\n",
    "#print(test_predictions_no_r)\n",
    "\n",
    "bscore_no_res = balanced_accuracy_score(test_y, keras.utils.to_categorical(test_predictions_no_r))\n",
    "\n",
    "cm = confusion_matrix(test_y, keras.utils.to_categorical(test_predictions_no_r))\n",
    "plt.figure(figsize=(9,9))\n",
    "sns.heatmap(cm, annot=True, fmt=\".3f\", linewidths=.5, square = True, cmap = 'Blues_r');\n",
    "plt.ylabel('Actual label');\n",
    "plt.xlabel('Predicted label');\n",
    "all_sample_title = 'Balanced Accuracy Score: {0}'.format(bscore_no_res)\n",
    "plt.title(all_sample_title, size = 15);"
   ]
  },
  {
   "cell_type": "code",
   "execution_count": null,
   "metadata": {},
   "outputs": [],
   "source": [
    "no_res_results = model.evaluate(test_x, test_y,\n",
    "                                  batch_size=mobj.BATCH_SIZE, verbose=0)\n",
    "for name, value in zip(model.metrics_names, no_res_results):\n",
    "  print(name, ': ', value)\n",
    "print()"
   ]
  },
  {
   "cell_type": "markdown",
   "metadata": {},
   "source": [
    "# UnderSampling (NearMiss1)"
   ]
  },
  {
   "cell_type": "code",
   "execution_count": null,
   "metadata": {},
   "outputs": [],
   "source": [
    "df.head()"
   ]
  },
  {
   "cell_type": "code",
   "execution_count": null,
   "metadata": {
    "scrolled": true
   },
   "outputs": [],
   "source": [
    "df.describe()"
   ]
  },
  {
   "cell_type": "markdown",
   "metadata": {},
   "source": [
    "# Apply Resampling to Dataset"
   ]
  },
  {
   "cell_type": "code",
   "execution_count": null,
   "metadata": {},
   "outputs": [],
   "source": [
    "from imblearn.under_sampling import NearMiss\n",
    "\n",
    "raw_df = df.copy(deep=True)\n",
    "\n",
    "y = raw_df.pop('DEATH_EVENT')\n",
    "X = raw_df\n",
    "\n",
    "nm1 = NearMiss(version=1)\n",
    "\n",
    "X_resampled, y_resampled = nm1.fit_sample(X, y)\n",
    "\n",
    "nm1_df = pd.DataFrame(X_resampled, columns=X.columns)\n",
    "nm1_df['DEATH_EVENT'] = y_resampled\n",
    "nm1_df.head()"
   ]
  },
  {
   "cell_type": "code",
   "execution_count": null,
   "metadata": {},
   "outputs": [],
   "source": [
    "nm1_df.describe()"
   ]
  },
  {
   "cell_type": "markdown",
   "metadata": {},
   "source": [
    "# Train/Test Split"
   ]
  },
  {
   "cell_type": "code",
   "execution_count": null,
   "metadata": {},
   "outputs": [],
   "source": [
    "train, test = train_test_split(nm1_df, test_size=0.2)"
   ]
  },
  {
   "cell_type": "markdown",
   "metadata": {},
   "source": [
    "# Create New Model "
   ]
  },
  {
   "cell_type": "code",
   "execution_count": null,
   "metadata": {},
   "outputs": [],
   "source": [
    "# Create Model \n",
    "\n",
    "import models\n",
    "\n",
    "# set initial bias\n",
    "neg, pos = np.bincount(nm1_df['DEATH_EVENT'])# set count negative and positive samples\n",
    "initial_bias = np.log([pos/neg])\n",
    "\n",
    "mobj = models.modelObj()\n",
    "model = mobj.create_model(len(train.keys())-1, bias = initial_bias)\n",
    "\n",
    "model.summary()"
   ]
  },
  {
   "cell_type": "markdown",
   "metadata": {},
   "source": [
    "# Normalize Data"
   ]
  },
  {
   "cell_type": "code",
   "execution_count": null,
   "metadata": {},
   "outputs": [],
   "source": [
    "# Normalize Data\n",
    "\n",
    "train_y = train.pop('DEATH_EVENT')\n",
    "train_x = util.norm(train)\n",
    "train_x.head()\n",
    "\n",
    "test_y = test.pop('DEATH_EVENT')\n",
    "test_x = util.norm(test)\n",
    "train_x.head()"
   ]
  },
  {
   "cell_type": "code",
   "execution_count": null,
   "metadata": {},
   "outputs": [],
   "source": [
    "nm1_resampled_history = model.fit(\n",
    "    train_x,\n",
    "    train_y,\n",
    "    batch_size=mobj.BATCH_SIZE,\n",
    "    epochs=mobj.EPOCHS,\n",
    "    callbacks = [early_stopping, models.printDot()],\n",
    "    validation_split=0.2)"
   ]
  },
  {
   "cell_type": "code",
   "execution_count": null,
   "metadata": {},
   "outputs": [],
   "source": [
    "util.plot_metrics(nm1_resampled_history)"
   ]
  },
  {
   "cell_type": "markdown",
   "metadata": {},
   "source": [
    "# Evaluate Model"
   ]
  },
  {
   "cell_type": "code",
   "execution_count": null,
   "metadata": {},
   "outputs": [],
   "source": [
    "#test_y = test.pop('DEATH_EVENT')\n",
    "#test_x = test\n",
    "test_predictions_nm1 = model.predict(test_x, batch_size=mobj.BATCH_SIZE)\n",
    "\n",
    "\n",
    "bscore_no_res = balanced_accuracy_score(test_y, test_predictions_nm1)\n",
    "\n",
    "cm = confusion_matrix(test_y, test_predictions_nm1)\n",
    "plt.figure(figsize=(9,9))\n",
    "sns.heatmap(cm, annot=True, fmt=\".3f\", linewidths=.5, square = True, cmap = 'Blues_r');\n",
    "plt.ylabel('Actual label');\n",
    "plt.xlabel('Predicted label');\n",
    "all_sample_title = 'Balanced Accuracy Score: {0}'.format(bscore_no_res)\n",
    "plt.title(all_sample_title, size = 15);\n",
    "\n",
    "nm1_results = model.evaluate(test_x, test_y,\n",
    "                                  batch_size=mobj.BATCH_SIZE, verbose=0)\n",
    "for name, value in zip(model.metrics_names, no_res_results):\n",
    "  print(name, ': ', value)\n",
    "print()"
   ]
  },
  {
   "cell_type": "markdown",
   "metadata": {},
   "source": [
    "# OneSidedSelection"
   ]
  },
  {
   "cell_type": "code",
   "execution_count": null,
   "metadata": {},
   "outputs": [],
   "source": [
    "raw_df = df.copy(deep=True)\n",
    "raw_df.head()"
   ]
  },
  {
   "cell_type": "markdown",
   "metadata": {},
   "source": [
    "Using batch generator from imbalanced learn"
   ]
  },
  {
   "cell_type": "code",
   "execution_count": null,
   "metadata": {},
   "outputs": [],
   "source": [
    "train, test = train_test_split(nm1_df, test_size=0.2)"
   ]
  },
  {
   "cell_type": "code",
   "execution_count": null,
   "metadata": {},
   "outputs": [],
   "source": [
    "# set initial bias\n",
    "neg, pos = np.bincount(raw_df['DEATH_EVENT'])# set count negative and positive samples\n",
    "initial_bias = np.log([pos/neg])"
   ]
  },
  {
   "cell_type": "markdown",
   "metadata": {},
   "source": [
    "# Normalize Data"
   ]
  },
  {
   "cell_type": "code",
   "execution_count": null,
   "metadata": {},
   "outputs": [],
   "source": [
    "# Create Model\n",
    "#y = train.pop('DEATH_EVENT')\n",
    "#y_train = keras.utils.to_categorical(y, 3)\n",
    "y_train =train.pop('DEATH_EVENT')\n",
    "X_train = train\n",
    "y_test =test.pop('DEATH_EVENT')\n",
    "X_test = test\n",
    "mobj = models.modelObj()\n",
    "model = mobj.create_model(len(X.keys())-1, bias = initial_bias)"
   ]
  },
  {
   "cell_type": "code",
   "execution_count": null,
   "metadata": {},
   "outputs": [],
   "source": [
    "X_train = util.norm(X_train)\n",
    "X_test = util.norm(X_test)\n",
    "train_x.head()"
   ]
  },
  {
   "cell_type": "code",
   "execution_count": null,
   "metadata": {},
   "outputs": [],
   "source": [
    "from imblearn.keras import balanced_batch_generator\n",
    "from imblearn.under_sampling import OneSidedSelection\n",
    "\n",
    "# fit the model using generator\n",
    "training_generator, steps_per_epoch = balanced_batch_generator(\n",
    "    X_train, y_train, sampler=OneSidedSelection(random_state=0), batch_size=mobj.BATCH_SIZE, random_state=42)\n",
    "\n",
    "callback_history_oss = model.fit_generator(generator=training_generator,\n",
    "                                        steps_per_epoch=steps_per_epoch,\n",
    "                                        epochs=mobj.EPOCHS, verbose=0)"
   ]
  }
 ],
 "metadata": {
  "kernelspec": {
   "display_name": "Python 3",
   "language": "python",
   "name": "python3"
  },
  "language_info": {
   "codemirror_mode": {
    "name": "ipython",
    "version": 3
   },
   "file_extension": ".py",
   "mimetype": "text/x-python",
   "name": "python",
   "nbconvert_exporter": "python",
   "pygments_lexer": "ipython3",
   "version": "3.7.7"
  },
  "latex_envs": {
   "LaTeX_envs_menu_present": true,
   "autoclose": false,
   "autocomplete": true,
   "bibliofile": "biblio.bib",
   "cite_by": "apalike",
   "current_citInitial": 1,
   "eqLabelWithNumbers": true,
   "eqNumInitial": 1,
   "hotkeys": {
    "equation": "Ctrl-E",
    "itemize": "Ctrl-I"
   },
   "labels_anchors": false,
   "latex_user_defs": false,
   "report_style_numbering": false,
   "user_envs_cfg": false
  }
 },
 "nbformat": 4,
 "nbformat_minor": 4
}
