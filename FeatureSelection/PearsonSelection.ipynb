{
 "cells": [
  {
   "cell_type": "code",
   "execution_count": 1,
   "metadata": {},
   "outputs": [],
   "source": [
    "import sys\n",
    "sys.path.insert(0,'..')\n",
    "\n",
    "import numpy as np\n",
    "import pandas as pd\n",
    "import seaborn as sns\n",
    "import util\n",
    "import matplotlib.pyplot as plt\n",
    "%matplotlib inline"
   ]
  },
  {
   "cell_type": "code",
   "execution_count": 2,
   "metadata": {},
   "outputs": [],
   "source": [
    "df = pd.read_csv('../heart_failure_clinical_records_dataset.csv')"
   ]
  },
  {
   "cell_type": "markdown",
   "metadata": {},
   "source": [
    "# Filtering and Feature Selection\n",
    "\n",
    "# Using Pearson Correlation"
   ]
  },
  {
   "cell_type": "code",
   "execution_count": 3,
   "metadata": {},
   "outputs": [],
   "source": [
    "df_pearson = df.copy(deep=True)"
   ]
  },
  {
   "cell_type": "code",
   "execution_count": 4,
   "metadata": {},
   "outputs": [
    {
     "data": {
      "text/html": [
       "<div>\n",
       "<style scoped>\n",
       "    .dataframe tbody tr th:only-of-type {\n",
       "        vertical-align: middle;\n",
       "    }\n",
       "\n",
       "    .dataframe tbody tr th {\n",
       "        vertical-align: top;\n",
       "    }\n",
       "\n",
       "    .dataframe thead th {\n",
       "        text-align: right;\n",
       "    }\n",
       "</style>\n",
       "<table border=\"1\" class=\"dataframe\">\n",
       "  <thead>\n",
       "    <tr style=\"text-align: right;\">\n",
       "      <th></th>\n",
       "      <th>age</th>\n",
       "      <th>anaemia</th>\n",
       "      <th>creatinine_phosphokinase</th>\n",
       "      <th>diabetes</th>\n",
       "      <th>ejection_fraction</th>\n",
       "      <th>high_blood_pressure</th>\n",
       "      <th>platelets</th>\n",
       "      <th>serum_creatinine</th>\n",
       "      <th>serum_sodium</th>\n",
       "      <th>sex</th>\n",
       "      <th>smoking</th>\n",
       "      <th>time</th>\n",
       "      <th>DEATH_EVENT</th>\n",
       "    </tr>\n",
       "  </thead>\n",
       "  <tbody>\n",
       "    <tr>\n",
       "      <th>0</th>\n",
       "      <td>75.0</td>\n",
       "      <td>0</td>\n",
       "      <td>582</td>\n",
       "      <td>0</td>\n",
       "      <td>20</td>\n",
       "      <td>1</td>\n",
       "      <td>265000.00</td>\n",
       "      <td>1.9</td>\n",
       "      <td>130</td>\n",
       "      <td>1</td>\n",
       "      <td>0</td>\n",
       "      <td>4</td>\n",
       "      <td>1</td>\n",
       "    </tr>\n",
       "    <tr>\n",
       "      <th>1</th>\n",
       "      <td>55.0</td>\n",
       "      <td>0</td>\n",
       "      <td>7861</td>\n",
       "      <td>0</td>\n",
       "      <td>38</td>\n",
       "      <td>0</td>\n",
       "      <td>263358.03</td>\n",
       "      <td>1.1</td>\n",
       "      <td>136</td>\n",
       "      <td>1</td>\n",
       "      <td>0</td>\n",
       "      <td>6</td>\n",
       "      <td>1</td>\n",
       "    </tr>\n",
       "    <tr>\n",
       "      <th>2</th>\n",
       "      <td>65.0</td>\n",
       "      <td>0</td>\n",
       "      <td>146</td>\n",
       "      <td>0</td>\n",
       "      <td>20</td>\n",
       "      <td>0</td>\n",
       "      <td>162000.00</td>\n",
       "      <td>1.3</td>\n",
       "      <td>129</td>\n",
       "      <td>1</td>\n",
       "      <td>1</td>\n",
       "      <td>7</td>\n",
       "      <td>1</td>\n",
       "    </tr>\n",
       "    <tr>\n",
       "      <th>3</th>\n",
       "      <td>50.0</td>\n",
       "      <td>1</td>\n",
       "      <td>111</td>\n",
       "      <td>0</td>\n",
       "      <td>20</td>\n",
       "      <td>0</td>\n",
       "      <td>210000.00</td>\n",
       "      <td>1.9</td>\n",
       "      <td>137</td>\n",
       "      <td>1</td>\n",
       "      <td>0</td>\n",
       "      <td>7</td>\n",
       "      <td>1</td>\n",
       "    </tr>\n",
       "    <tr>\n",
       "      <th>4</th>\n",
       "      <td>65.0</td>\n",
       "      <td>1</td>\n",
       "      <td>160</td>\n",
       "      <td>1</td>\n",
       "      <td>20</td>\n",
       "      <td>0</td>\n",
       "      <td>327000.00</td>\n",
       "      <td>2.7</td>\n",
       "      <td>116</td>\n",
       "      <td>0</td>\n",
       "      <td>0</td>\n",
       "      <td>8</td>\n",
       "      <td>1</td>\n",
       "    </tr>\n",
       "  </tbody>\n",
       "</table>\n",
       "</div>"
      ],
      "text/plain": [
       "    age  anaemia  creatinine_phosphokinase  diabetes  ejection_fraction  \\\n",
       "0  75.0        0                       582         0                 20   \n",
       "1  55.0        0                      7861         0                 38   \n",
       "2  65.0        0                       146         0                 20   \n",
       "3  50.0        1                       111         0                 20   \n",
       "4  65.0        1                       160         1                 20   \n",
       "\n",
       "   high_blood_pressure  platelets  serum_creatinine  serum_sodium  sex  \\\n",
       "0                    1  265000.00               1.9           130    1   \n",
       "1                    0  263358.03               1.1           136    1   \n",
       "2                    0  162000.00               1.3           129    1   \n",
       "3                    0  210000.00               1.9           137    1   \n",
       "4                    0  327000.00               2.7           116    0   \n",
       "\n",
       "   smoking  time  DEATH_EVENT  \n",
       "0        0     4            1  \n",
       "1        0     6            1  \n",
       "2        1     7            1  \n",
       "3        0     7            1  \n",
       "4        0     8            1  "
      ]
     },
     "execution_count": 4,
     "metadata": {},
     "output_type": "execute_result"
    }
   ],
   "source": [
    "df_pearson.head()"
   ]
  },
  {
   "cell_type": "markdown",
   "metadata": {},
   "source": [
    "Pearson Correlation heatmap"
   ]
  },
  {
   "cell_type": "code",
   "execution_count": 5,
   "metadata": {},
   "outputs": [
    {
     "data": {
      "image/png": "[encoded data removed]",
      "text/plain": [
       "<Figure size 864x720 with 2 Axes>"
      ]
     },
     "metadata": {
      "needs_background": "light"
     },
     "output_type": "display_data"
    }
   ],
   "source": [
    "# Using Pearson Correlation\n",
    "plt.figure(figsize=(12,10))\n",
    "cor = df_pearson.corr()\n",
    "sns.heatmap(cor, annot=True, cmap=plt.cm.Reds)\n",
    "plt.show()"
   ]
  },
  {
   "cell_type": "markdown",
   "metadata": {},
   "source": [
    "Select Features with abs(Correlation Cofficient) Greater than or Equal to 0.2"
   ]
  },
  {
   "cell_type": "code",
   "execution_count": 6,
   "metadata": {},
   "outputs": [
    {
     "data": {
      "text/plain": [
       "age                  0.253729\n",
       "ejection_fraction    0.268603\n",
       "serum_creatinine     0.294278\n",
       "time                 0.526964\n",
       "DEATH_EVENT          1.000000\n",
       "Name: DEATH_EVENT, dtype: float64"
      ]
     },
     "execution_count": 6,
     "metadata": {},
     "output_type": "execute_result"
    }
   ],
   "source": [
    "# Correlation with output variable\n",
    "cor_target = abs(cor[\"DEATH_EVENT\"])\n",
    "# Selecting highly correlated features\n",
    "relevant_features = cor_target[cor_target>=0.2]\n",
    "relevant_features"
   ]
  },
  {
   "cell_type": "markdown",
   "metadata": {},
   "source": [
    "Check for correlating features"
   ]
  },
  {
   "cell_type": "code",
   "execution_count": 7,
   "metadata": {},
   "outputs": [
    {
     "name": "stdout",
     "output_type": "stream",
     "text": [
      "                        age  ejection_fraction  serum_creatinine      time\n",
      "age                1.000000           0.060098          0.159187 -0.224068\n",
      "ejection_fraction  0.060098           1.000000         -0.011302  0.041729\n",
      "serum_creatinine   0.159187          -0.011302          1.000000 -0.149315\n",
      "time              -0.224068           0.041729         -0.149315  1.000000\n"
     ]
    }
   ],
   "source": [
    "print(df_pearson[['age','ejection_fraction','serum_creatinine','time']].corr())"
   ]
  },
  {
   "cell_type": "markdown",
   "metadata": {},
   "source": [
    "Normalize Datset"
   ]
  },
  {
   "cell_type": "code",
   "execution_count": 8,
   "metadata": {},
   "outputs": [
    {
     "data": {
      "text/html": [
       "<div>\n",
       "<style scoped>\n",
       "    .dataframe tbody tr th:only-of-type {\n",
       "        vertical-align: middle;\n",
       "    }\n",
       "\n",
       "    .dataframe tbody tr th {\n",
       "        vertical-align: top;\n",
       "    }\n",
       "\n",
       "    .dataframe thead th {\n",
       "        text-align: right;\n",
       "    }\n",
       "</style>\n",
       "<table border=\"1\" class=\"dataframe\">\n",
       "  <thead>\n",
       "    <tr style=\"text-align: right;\">\n",
       "      <th></th>\n",
       "      <th>age</th>\n",
       "      <th>ejection_fraction</th>\n",
       "      <th>serum_creatinine</th>\n",
       "      <th>time</th>\n",
       "      <th>DEATH_EVENT</th>\n",
       "    </tr>\n",
       "  </thead>\n",
       "  <tbody>\n",
       "    <tr>\n",
       "      <th>0</th>\n",
       "      <td>75.0</td>\n",
       "      <td>20</td>\n",
       "      <td>1.9</td>\n",
       "      <td>4</td>\n",
       "      <td>1</td>\n",
       "    </tr>\n",
       "    <tr>\n",
       "      <th>1</th>\n",
       "      <td>55.0</td>\n",
       "      <td>38</td>\n",
       "      <td>1.1</td>\n",
       "      <td>6</td>\n",
       "      <td>1</td>\n",
       "    </tr>\n",
       "    <tr>\n",
       "      <th>2</th>\n",
       "      <td>65.0</td>\n",
       "      <td>20</td>\n",
       "      <td>1.3</td>\n",
       "      <td>7</td>\n",
       "      <td>1</td>\n",
       "    </tr>\n",
       "    <tr>\n",
       "      <th>3</th>\n",
       "      <td>50.0</td>\n",
       "      <td>20</td>\n",
       "      <td>1.9</td>\n",
       "      <td>7</td>\n",
       "      <td>1</td>\n",
       "    </tr>\n",
       "    <tr>\n",
       "      <th>4</th>\n",
       "      <td>65.0</td>\n",
       "      <td>20</td>\n",
       "      <td>2.7</td>\n",
       "      <td>8</td>\n",
       "      <td>1</td>\n",
       "    </tr>\n",
       "  </tbody>\n",
       "</table>\n",
       "</div>"
      ],
      "text/plain": [
       "    age  ejection_fraction  serum_creatinine  time  DEATH_EVENT\n",
       "0  75.0                 20               1.9     4            1\n",
       "1  55.0                 38               1.1     6            1\n",
       "2  65.0                 20               1.3     7            1\n",
       "3  50.0                 20               1.9     7            1\n",
       "4  65.0                 20               2.7     8            1"
      ]
     },
     "execution_count": 8,
     "metadata": {},
     "output_type": "execute_result"
    }
   ],
   "source": [
    "# keep dataframe only with relevant features\n",
    "df_pearson = df_pearson[[i for i in relevant_features.index]]\n",
    "df_pearson.head()"
   ]
  },
  {
   "cell_type": "code",
   "execution_count": 9,
   "metadata": {},
   "outputs": [
    {
     "data": {
      "text/html": [
       "<div>\n",
       "<style scoped>\n",
       "    .dataframe tbody tr th:only-of-type {\n",
       "        vertical-align: middle;\n",
       "    }\n",
       "\n",
       "    .dataframe tbody tr th {\n",
       "        vertical-align: top;\n",
       "    }\n",
       "\n",
       "    .dataframe thead th {\n",
       "        text-align: right;\n",
       "    }\n",
       "</style>\n",
       "<table border=\"1\" class=\"dataframe\">\n",
       "  <thead>\n",
       "    <tr style=\"text-align: right;\">\n",
       "      <th></th>\n",
       "      <th>age</th>\n",
       "      <th>ejection_fraction</th>\n",
       "      <th>serum_creatinine</th>\n",
       "      <th>time</th>\n",
       "      <th>DEATH_EVENT</th>\n",
       "    </tr>\n",
       "  </thead>\n",
       "  <tbody>\n",
       "    <tr>\n",
       "      <th>0</th>\n",
       "      <td>1.192945</td>\n",
       "      <td>-1.530560</td>\n",
       "      <td>0.490057</td>\n",
       "      <td>-1.629502</td>\n",
       "      <td>1</td>\n",
       "    </tr>\n",
       "    <tr>\n",
       "      <th>1</th>\n",
       "      <td>-0.491279</td>\n",
       "      <td>-0.007077</td>\n",
       "      <td>-0.284552</td>\n",
       "      <td>-1.603691</td>\n",
       "      <td>1</td>\n",
       "    </tr>\n",
       "    <tr>\n",
       "      <th>2</th>\n",
       "      <td>0.350833</td>\n",
       "      <td>-1.530560</td>\n",
       "      <td>-0.090900</td>\n",
       "      <td>-1.590785</td>\n",
       "      <td>1</td>\n",
       "    </tr>\n",
       "    <tr>\n",
       "      <th>3</th>\n",
       "      <td>-0.912335</td>\n",
       "      <td>-1.530560</td>\n",
       "      <td>0.490057</td>\n",
       "      <td>-1.590785</td>\n",
       "      <td>1</td>\n",
       "    </tr>\n",
       "    <tr>\n",
       "      <th>4</th>\n",
       "      <td>0.350833</td>\n",
       "      <td>-1.530560</td>\n",
       "      <td>1.264666</td>\n",
       "      <td>-1.577879</td>\n",
       "      <td>1</td>\n",
       "    </tr>\n",
       "  </tbody>\n",
       "</table>\n",
       "</div>"
      ],
      "text/plain": [
       "        age  ejection_fraction  serum_creatinine      time  DEATH_EVENT\n",
       "0  1.192945          -1.530560          0.490057 -1.629502            1\n",
       "1 -0.491279          -0.007077         -0.284552 -1.603691            1\n",
       "2  0.350833          -1.530560         -0.090900 -1.590785            1\n",
       "3 -0.912335          -1.530560          0.490057 -1.590785            1\n",
       "4  0.350833          -1.530560          1.264666 -1.577879            1"
      ]
     },
     "execution_count": 9,
     "metadata": {},
     "output_type": "execute_result"
    }
   ],
   "source": [
    "pearson_normalized = util.norm(df_pearson.copy(deep=True), target='DEATH_EVENT')\n",
    "pearson_normalized.columns = [n for n in relevant_features.index]\n",
    "pearson_normalized.head()"
   ]
  },
  {
   "cell_type": "markdown",
   "metadata": {},
   "source": [
    "# (Pearson) Oversampling Techniques"
   ]
  },
  {
   "cell_type": "code",
   "execution_count": 10,
   "metadata": {},
   "outputs": [],
   "source": [
    "from imblearn.pipeline import make_pipeline\n",
    "from imblearn.over_sampling import ADASYN\n",
    "from imblearn.over_sampling import (SMOTE, BorderlineSMOTE, SVMSMOTE, SMOTENC,\n",
    "                                    KMeansSMOTE)\n",
    "from imblearn.over_sampling import RandomOverSampler"
   ]
  },
  {
   "cell_type": "markdown",
   "metadata": {},
   "source": [
    "# (Pearson) RandomOverSampling"
   ]
  },
  {
   "cell_type": "code",
   "execution_count": 11,
   "metadata": {},
   "outputs": [],
   "source": [
    "dfRandomPearson = pearson_normalized.copy(deep=True)"
   ]
  },
  {
   "cell_type": "code",
   "execution_count": 12,
   "metadata": {},
   "outputs": [],
   "source": [
    "# initiate RandomOverSampler\n",
    "ROS = RandomOverSampler()\n",
    "\n",
    "# split dataset into X and y\n",
    "y = dfRandomPearson.pop('DEATH_EVENT')\n",
    "X = dfRandomPearson\n",
    "y.head()\n",
    "X_resampled, y_resampled = ROS.fit_resample(X, y)\n",
    "dfRandPearsRes = pd.DataFrame(X_resampled, columns=X.columns)\n",
    "dfRandPearsRes['DEATH_EVENT'] = y_resampled\n",
    "y = dfRandPearsRes['DEATH_EVENT']\n",
    "X = dfRandPearsRes[[i for i in dfRandPearsRes.columns if i != 'DEATH_EVENT']]"
   ]
  },
  {
   "cell_type": "markdown",
   "metadata": {},
   "source": [
    "Train/Test Split"
   ]
  },
  {
   "cell_type": "code",
   "execution_count": 13,
   "metadata": {},
   "outputs": [],
   "source": [
    "from sklearn.model_selection import train_test_split\n",
    "trainPrand, testPrand = train_test_split(dfRandPearsRes, test_size=0.2)\n",
    "y_trainPrand = trainPrand.pop('DEATH_EVENT')\n",
    "X_trainPrand = trainPrand\n",
    "y_testPrand = testPrand.pop('DEATH_EVENT')\n",
    "X_testPrand = testPrand"
   ]
  },
  {
   "cell_type": "code",
   "execution_count": 14,
   "metadata": {},
   "outputs": [
    {
     "data": {
      "text/html": [
       "<div>\n",
       "<style scoped>\n",
       "    .dataframe tbody tr th:only-of-type {\n",
       "        vertical-align: middle;\n",
       "    }\n",
       "\n",
       "    .dataframe tbody tr th {\n",
       "        vertical-align: top;\n",
       "    }\n",
       "\n",
       "    .dataframe thead th {\n",
       "        text-align: right;\n",
       "    }\n",
       "</style>\n",
       "<table border=\"1\" class=\"dataframe\">\n",
       "  <thead>\n",
       "    <tr style=\"text-align: right;\">\n",
       "      <th></th>\n",
       "      <th>age</th>\n",
       "      <th>ejection_fraction</th>\n",
       "      <th>serum_creatinine</th>\n",
       "      <th>time</th>\n",
       "    </tr>\n",
       "  </thead>\n",
       "  <tbody>\n",
       "    <tr>\n",
       "      <th>398</th>\n",
       "      <td>-0.912335</td>\n",
       "      <td>-0.684180</td>\n",
       "      <td>-0.187726</td>\n",
       "      <td>-1.268139</td>\n",
       "    </tr>\n",
       "    <tr>\n",
       "      <th>177</th>\n",
       "      <td>-0.996547</td>\n",
       "      <td>1.008578</td>\n",
       "      <td>-0.381379</td>\n",
       "      <td>0.216033</td>\n",
       "    </tr>\n",
       "    <tr>\n",
       "      <th>292</th>\n",
       "      <td>-0.743913</td>\n",
       "      <td>-0.007077</td>\n",
       "      <td>-0.381379</td>\n",
       "      <td>1.648581</td>\n",
       "    </tr>\n",
       "    <tr>\n",
       "      <th>144</th>\n",
       "      <td>0.940312</td>\n",
       "      <td>-1.107370</td>\n",
       "      <td>0.296405</td>\n",
       "      <td>-0.248578</td>\n",
       "    </tr>\n",
       "    <tr>\n",
       "      <th>222</th>\n",
       "      <td>-1.586025</td>\n",
       "      <td>-0.260991</td>\n",
       "      <td>-0.284552</td>\n",
       "      <td>0.912948</td>\n",
       "    </tr>\n",
       "  </tbody>\n",
       "</table>\n",
       "</div>"
      ],
      "text/plain": [
       "          age  ejection_fraction  serum_creatinine      time\n",
       "398 -0.912335          -0.684180         -0.187726 -1.268139\n",
       "177 -0.996547           1.008578         -0.381379  0.216033\n",
       "292 -0.743913          -0.007077         -0.381379  1.648581\n",
       "144  0.940312          -1.107370          0.296405 -0.248578\n",
       "222 -1.586025          -0.260991         -0.284552  0.912948"
      ]
     },
     "execution_count": 14,
     "metadata": {},
     "output_type": "execute_result"
    }
   ],
   "source": [
    "X_trainPrand.head()"
   ]
  },
  {
   "cell_type": "markdown",
   "metadata": {},
   "source": [
    "# (Pearson)(RandomOverSampler)\n",
    "# Classification with SVC, Gaussian Kernel"
   ]
  },
  {
   "cell_type": "markdown",
   "metadata": {},
   "source": [
    "Select Proper Parameters (C and gamma)"
   ]
  },
  {
   "cell_type": "code",
   "execution_count": 15,
   "metadata": {},
   "outputs": [],
   "source": [
    "C_range = np.logspace(-3, 3, 13)\n",
    "gamma_range = np.logspace(-9, 3, 13)"
   ]
  },
  {
   "cell_type": "code",
   "execution_count": 16,
   "metadata": {},
   "outputs": [
    {
     "data": {
      "text/plain": [
       "GridSearchCV(cv=StratifiedShuffleSplit(n_splits=5, random_state=42, test_size=0.2,\n",
       "            train_size=None),\n",
       "             estimator=SVC(),\n",
       "             param_grid={'C': array([1.00000000e-03, 3.16227766e-03, 1.00000000e-02, 3.16227766e-02,\n",
       "       1.00000000e-01, 3.16227766e-01, 1.00000000e+00, 3.16227766e+00,\n",
       "       1.00000000e+01, 3.16227766e+01, 1.00000000e+02, 3.16227766e+02,\n",
       "       1.00000000e+03]),\n",
       "                         'gamma': array([1.e-09, 1.e-08, 1.e-07, 1.e-06, 1.e-05, 1.e-04, 1.e-03, 1.e-02,\n",
       "       1.e-01, 1.e+00, 1.e+01, 1.e+02, 1.e+03])})"
      ]
     },
     "execution_count": 16,
     "metadata": {},
     "output_type": "execute_result"
    }
   ],
   "source": [
    "from sklearn.svm import SVC\n",
    "from sklearn.model_selection import StratifiedShuffleSplit\n",
    "from sklearn.model_selection import GridSearchCV\n",
    "\n",
    "param_grid = dict(gamma=gamma_range, C=C_range)\n",
    "cv = StratifiedShuffleSplit(n_splits=5, test_size=0.2, random_state=42)\n",
    "grid = GridSearchCV(SVC(), param_grid=param_grid, cv=cv)\n",
    "grid.fit(X, y)"
   ]
  },
  {
   "cell_type": "code",
   "execution_count": 17,
   "metadata": {},
   "outputs": [
    {
     "name": "stdout",
     "output_type": "stream",
     "text": [
      "The best parameters are {'C': 10.0, 'gamma': 10.0} with a score of 0.92\n"
     ]
    }
   ],
   "source": [
    "print(\"The best parameters are %s with a score of %0.2f\"\n",
    "      % (grid.best_params_, grid.best_score_))"
   ]
  },
  {
   "cell_type": "markdown",
   "metadata": {},
   "source": [
    "Fit Model"
   ]
  },
  {
   "cell_type": "code",
   "execution_count": 18,
   "metadata": {},
   "outputs": [
    {
     "data": {
      "text/plain": [
       "SVC(C=10.0, gamma=10.0)"
      ]
     },
     "execution_count": 18,
     "metadata": {},
     "output_type": "execute_result"
    }
   ],
   "source": [
    "clf_pearson_rand = SVC(gamma=grid.best_params_['C'], C=grid.best_params_['gamma'])\n",
    "clf_pearson_rand.fit(X_trainPrand, y_trainPrand)"
   ]
  },
  {
   "cell_type": "code",
   "execution_count": 19,
   "metadata": {},
   "outputs": [
    {
     "data": {
      "image/png": "[encoded data removed]",
      "text/plain": [
       "<Figure size 648x648 with 2 Axes>"
      ]
     },
     "metadata": {
      "needs_background": "light"
     },
     "output_type": "display_data"
    }
   ],
   "source": [
    "from sklearn.metrics import balanced_accuracy_score\n",
    "from sklearn.metrics import confusion_matrix\n",
    "\n",
    "# make prediction\n",
    "pred_pears_rand = clf_pearson_rand.predict(X_testPrand)\n",
    "\n",
    "# calculate ballanced accuracy\n",
    "bscore_pears_rand = balanced_accuracy_score(y_testPrand, pred_pears_rand)\n",
    "\n",
    "# plot decision matrix\n",
    "cm = confusion_matrix(y_testPrand, pred_pears_rand)\n",
    "plt.figure(figsize=(9,9))\n",
    "sns.heatmap(cm, annot=True, fmt=\".3f\", linewidths=.5, square = True, cmap = 'Blues_r');\n",
    "plt.ylabel('Actual label');\n",
    "plt.xlabel('Predicted label');\n",
    "all_sample_title = 'Balanced Accuracy Score: {0}'.format(bscore_pears_rand)\n",
    "plt.title(all_sample_title, size = 15);"
   ]
  },
  {
   "cell_type": "code",
   "execution_count": 20,
   "metadata": {},
   "outputs": [
    {
     "name": "stdout",
     "output_type": "stream",
     "text": [
      "Balanced Accuracy: 0.9246323529411764\n",
      "Cross Validation Score: 0.9096341463414633\n",
      "Recall: 0.926829268292683\n",
      "Precision: 0.926829268292683\n",
      "Accuracy: 0.926829268292683\n"
     ]
    }
   ],
   "source": [
    "from sklearn.model_selection import cross_val_score\n",
    "from sklearn.metrics import recall_score, precision_score, f1_score, accuracy_score\n",
    "\n",
    "print('Balanced Accuracy: {}'.format(bscore_pears_rand))\n",
    "print('Cross Validation Score: {}'.format(str(cross_val_score(clf_pearson_rand, X, y, cv=10).mean())))\n",
    "print('Recall: {}'.format(recall_score(y_testPrand, pred_pears_rand, average='weighted')))\n",
    "print('Precision: {}'.format(precision_score(y_testPrand, pred_pears_rand, average='weighted')))\n",
    "print('Accuracy: {}'.format(accuracy_score(y_testPrand, pred_pears_rand)))"
   ]
  },
  {
   "cell_type": "markdown",
   "metadata": {},
   "source": [
    "# (Pearson) SMOTE"
   ]
  },
  {
   "cell_type": "markdown",
   "metadata": {},
   "source": [
    "Feature Selected data already normalized"
   ]
  },
  {
   "cell_type": "code",
   "execution_count": 21,
   "metadata": {},
   "outputs": [],
   "source": [
    "dfSMOTEPearson = pearson_normalized.copy(deep=True)"
   ]
  },
  {
   "cell_type": "code",
   "execution_count": 22,
   "metadata": {},
   "outputs": [],
   "source": [
    "# initiate RandomOverSampler\n",
    "sm = SMOTE()\n",
    "\n",
    "# split dataset into X and y\n",
    "y = dfSMOTEPearson.pop('DEATH_EVENT')\n",
    "X = dfSMOTEPearson\n",
    "y.head()\n",
    "X_resampled, y_resampled = sm.fit_resample(X, y)\n",
    "dfSMOTEPearsRes = pd.DataFrame(X_resampled, columns=X.columns)\n",
    "dfSMOTEPearsRes['DEATH_EVENT'] = y_resampled\n",
    "y = dfSMOTEPearsRes['DEATH_EVENT']\n",
    "X = dfSMOTEPearsRes[[i for i in dfSMOTEPearsRes.columns if i != 'DEATH_EVENT']]"
   ]
  },
  {
   "cell_type": "markdown",
   "metadata": {},
   "source": [
    "Train/Test Split"
   ]
  },
  {
   "cell_type": "code",
   "execution_count": 23,
   "metadata": {},
   "outputs": [],
   "source": [
    "from sklearn.model_selection import train_test_split\n",
    "trainPSMOTE, testPSMOTE = train_test_split(dfSMOTEPearsRes, test_size=0.2)\n",
    "y_trainPSMOTE = trainPSMOTE.pop('DEATH_EVENT')\n",
    "X_trainPSMOTE = trainPSMOTE\n",
    "y_testPSMOTE = testPSMOTE.pop('DEATH_EVENT')\n",
    "X_testPSMOTE = testPSMOTE"
   ]
  },
  {
   "cell_type": "code",
   "execution_count": 24,
   "metadata": {},
   "outputs": [
    {
     "data": {
      "text/html": [
       "<div>\n",
       "<style scoped>\n",
       "    .dataframe tbody tr th:only-of-type {\n",
       "        vertical-align: middle;\n",
       "    }\n",
       "\n",
       "    .dataframe tbody tr th {\n",
       "        vertical-align: top;\n",
       "    }\n",
       "\n",
       "    .dataframe thead th {\n",
       "        text-align: right;\n",
       "    }\n",
       "</style>\n",
       "<table border=\"1\" class=\"dataframe\">\n",
       "  <thead>\n",
       "    <tr style=\"text-align: right;\">\n",
       "      <th></th>\n",
       "      <th>age</th>\n",
       "      <th>ejection_fraction</th>\n",
       "      <th>serum_creatinine</th>\n",
       "      <th>time</th>\n",
       "    </tr>\n",
       "  </thead>\n",
       "  <tbody>\n",
       "    <tr>\n",
       "      <th>308</th>\n",
       "      <td>0.698014</td>\n",
       "      <td>-1.478617</td>\n",
       "      <td>-0.187726</td>\n",
       "      <td>-0.750088</td>\n",
       "    </tr>\n",
       "    <tr>\n",
       "      <th>393</th>\n",
       "      <td>0.696503</td>\n",
       "      <td>-0.728531</td>\n",
       "      <td>-0.424718</td>\n",
       "      <td>-1.458655</td>\n",
       "    </tr>\n",
       "    <tr>\n",
       "      <th>310</th>\n",
       "      <td>0.692936</td>\n",
       "      <td>0.188621</td>\n",
       "      <td>-0.323898</td>\n",
       "      <td>-1.333884</td>\n",
       "    </tr>\n",
       "    <tr>\n",
       "      <th>355</th>\n",
       "      <td>-0.912335</td>\n",
       "      <td>-0.110055</td>\n",
       "      <td>0.067566</td>\n",
       "      <td>-1.172466</td>\n",
       "    </tr>\n",
       "    <tr>\n",
       "      <th>248</th>\n",
       "      <td>-1.754448</td>\n",
       "      <td>-0.260991</td>\n",
       "      <td>-0.381379</td>\n",
       "      <td>1.080724</td>\n",
       "    </tr>\n",
       "  </tbody>\n",
       "</table>\n",
       "</div>"
      ],
      "text/plain": [
       "          age  ejection_fraction  serum_creatinine      time\n",
       "308  0.698014          -1.478617         -0.187726 -0.750088\n",
       "393  0.696503          -0.728531         -0.424718 -1.458655\n",
       "310  0.692936           0.188621         -0.323898 -1.333884\n",
       "355 -0.912335          -0.110055          0.067566 -1.172466\n",
       "248 -1.754448          -0.260991         -0.381379  1.080724"
      ]
     },
     "execution_count": 24,
     "metadata": {},
     "output_type": "execute_result"
    }
   ],
   "source": [
    "X_trainPSMOTE.head()"
   ]
  },
  {
   "cell_type": "markdown",
   "metadata": {},
   "source": [
    "# (Pearson)(SMOTE)\n",
    "# Classification with SVC, Gaussian Kernel"
   ]
  },
  {
   "cell_type": "markdown",
   "metadata": {},
   "source": [
    "Select Proper Parameters (C and gamma)"
   ]
  },
  {
   "cell_type": "code",
   "execution_count": 25,
   "metadata": {},
   "outputs": [
    {
     "data": {
      "text/plain": [
       "GridSearchCV(cv=StratifiedShuffleSplit(n_splits=5, random_state=42, test_size=0.2,\n",
       "            train_size=None),\n",
       "             estimator=SVC(),\n",
       "             param_grid={'C': array([1.00000000e-03, 3.16227766e-03, 1.00000000e-02, 3.16227766e-02,\n",
       "       1.00000000e-01, 3.16227766e-01, 1.00000000e+00, 3.16227766e+00,\n",
       "       1.00000000e+01, 3.16227766e+01, 1.00000000e+02, 3.16227766e+02,\n",
       "       1.00000000e+03]),\n",
       "                         'gamma': array([1.e-09, 1.e-08, 1.e-07, 1.e-06, 1.e-05, 1.e-04, 1.e-03, 1.e-02,\n",
       "       1.e-01, 1.e+00, 1.e+01, 1.e+02, 1.e+03])})"
      ]
     },
     "execution_count": 25,
     "metadata": {},
     "output_type": "execute_result"
    }
   ],
   "source": [
    "param_grid = dict(gamma=gamma_range, C=C_range)\n",
    "cv = StratifiedShuffleSplit(n_splits=5, test_size=0.2, random_state=42)\n",
    "grid = GridSearchCV(SVC(), param_grid=param_grid, cv=cv)\n",
    "grid.fit(X, y)"
   ]
  },
  {
   "cell_type": "code",
   "execution_count": 26,
   "metadata": {},
   "outputs": [
    {
     "name": "stdout",
     "output_type": "stream",
     "text": [
      "The best parameters are {'C': 100.0, 'gamma': 1.0} with a score of 0.91\n"
     ]
    }
   ],
   "source": [
    "print(\"The best parameters are %s with a score of %0.2f\"\n",
    "      % (grid.best_params_, grid.best_score_))"
   ]
  },
  {
   "cell_type": "markdown",
   "metadata": {},
   "source": [
    "Fit Model"
   ]
  },
  {
   "cell_type": "code",
   "execution_count": 27,
   "metadata": {},
   "outputs": [
    {
     "data": {
      "text/plain": [
       "SVC(gamma=100.0)"
      ]
     },
     "execution_count": 27,
     "metadata": {},
     "output_type": "execute_result"
    }
   ],
   "source": [
    "clf_pearson_smote = SVC(gamma=grid.best_params_['C'], C=grid.best_params_['gamma'])\n",
    "clf_pearson_smote.fit(X_trainPSMOTE, y_trainPSMOTE)"
   ]
  },
  {
   "cell_type": "code",
   "execution_count": 28,
   "metadata": {},
   "outputs": [
    {
     "data": {
      "image/png": "[encoded data removed]",
      "text/plain": [
       "<Figure size 648x648 with 2 Axes>"
      ]
     },
     "metadata": {
      "needs_background": "light"
     },
     "output_type": "display_data"
    }
   ],
   "source": [
    "# make prediction\n",
    "pred_pears_smote = clf_pearson_smote.predict(X_testPSMOTE)\n",
    "\n",
    "# calculate ballanced accuracy\n",
    "bscore_pears_smote = balanced_accuracy_score(y_testPSMOTE, pred_pears_smote)\n",
    "\n",
    "# plot decision matrix\n",
    "cm = confusion_matrix(y_testPSMOTE, pred_pears_smote)\n",
    "plt.figure(figsize=(9,9))\n",
    "sns.heatmap(cm, annot=True, fmt=\".3f\", linewidths=.5, square = True, cmap = 'Blues_r');\n",
    "plt.ylabel('Actual label');\n",
    "plt.xlabel('Predicted label');\n",
    "all_sample_title = 'Balanced Accuracy Score: {0}'.format(bscore_pears_smote)\n",
    "plt.title(all_sample_title, size = 15);"
   ]
  },
  {
   "cell_type": "code",
   "execution_count": 29,
   "metadata": {},
   "outputs": [
    {
     "name": "stdout",
     "output_type": "stream",
     "text": [
      "Balanced Accuracy: 0.6645645645645646\n",
      "Cross Validation Score: 0.6506707317073172\n",
      "Recall: 0.6951219512195121\n",
      "Precision: 0.7740828038532488\n",
      "Accuracy: 0.6951219512195121\n"
     ]
    }
   ],
   "source": [
    "from sklearn.model_selection import cross_val_score\n",
    "from sklearn.metrics import recall_score, precision_score, f1_score, accuracy_score\n",
    "\n",
    "print('Balanced Accuracy: {}'.format(bscore_pears_smote))\n",
    "print('Cross Validation Score: {}'.format(str(cross_val_score(clf_pearson_smote, X, y, cv=10).mean())))\n",
    "print('Recall: {}'.format(recall_score(y_testPSMOTE, pred_pears_smote, average='weighted')))\n",
    "print('Precision: {}'.format(precision_score(y_testPSMOTE, pred_pears_smote, average='weighted')))\n",
    "print('Accuracy: {}'.format(accuracy_score(y_testPSMOTE, pred_pears_smote)))"
   ]
  },
  {
   "cell_type": "markdown",
   "metadata": {},
   "source": [
    "#  (Pearson) Undersampling\n",
    "# Prototype Generation"
   ]
  },
  {
   "cell_type": "code",
   "execution_count": 30,
   "metadata": {},
   "outputs": [],
   "source": [
    "dfPGPearson = pearson_normalized.copy(deep=True)"
   ]
  },
  {
   "cell_type": "code",
   "execution_count": 31,
   "metadata": {},
   "outputs": [],
   "source": [
    "from imblearn.under_sampling import ClusterCentroids\n",
    "\n",
    "# initiate RandomOverSampler\n",
    "cc = ClusterCentroids()\n",
    "\n",
    "# split dataset into X and y\n",
    "y = dfPGPearson.pop('DEATH_EVENT')\n",
    "X = dfPGPearson\n",
    "y.head()\n",
    "X_resampled, y_resampled = cc.fit_resample(X, y)\n",
    "dfPGPearsRes = pd.DataFrame(X_resampled, columns=X.columns)\n",
    "dfPGPearsRes['DEATH_EVENT'] = y_resampled\n",
    "y = dfPGPearsRes['DEATH_EVENT']\n",
    "X = dfPGPearsRes[[i for i in dfPGPearsRes.columns if i != 'DEATH_EVENT']]"
   ]
  },
  {
   "cell_type": "markdown",
   "metadata": {},
   "source": [
    "Train/Test Split"
   ]
  },
  {
   "cell_type": "code",
   "execution_count": 32,
   "metadata": {},
   "outputs": [],
   "source": [
    "from sklearn.model_selection import train_test_split\n",
    "trainPPG, testPPG = train_test_split(dfPGPearsRes, test_size=0.2)\n",
    "y_trainPPG = trainPPG.pop('DEATH_EVENT')\n",
    "X_trainPPG = trainPPG\n",
    "y_testPPG = testPPG.pop('DEATH_EVENT')\n",
    "X_testPPG = testPPG\n",
    "y = dfPGPearsRes.pop('DEATH_EVENT')\n",
    "X = dfPGPearsRes"
   ]
  },
  {
   "cell_type": "code",
   "execution_count": 33,
   "metadata": {},
   "outputs": [
    {
     "data": {
      "text/html": [
       "<div>\n",
       "<style scoped>\n",
       "    .dataframe tbody tr th:only-of-type {\n",
       "        vertical-align: middle;\n",
       "    }\n",
       "\n",
       "    .dataframe tbody tr th {\n",
       "        vertical-align: top;\n",
       "    }\n",
       "\n",
       "    .dataframe thead th {\n",
       "        text-align: right;\n",
       "    }\n",
       "</style>\n",
       "<table border=\"1\" class=\"dataframe\">\n",
       "  <thead>\n",
       "    <tr style=\"text-align: right;\">\n",
       "      <th></th>\n",
       "      <th>age</th>\n",
       "      <th>ejection_fraction</th>\n",
       "      <th>serum_creatinine</th>\n",
       "      <th>time</th>\n",
       "    </tr>\n",
       "  </thead>\n",
       "  <tbody>\n",
       "    <tr>\n",
       "      <th>count</th>\n",
       "      <td>153.000000</td>\n",
       "      <td>153.000000</td>\n",
       "      <td>153.000000</td>\n",
       "      <td>153.000000</td>\n",
       "    </tr>\n",
       "    <tr>\n",
       "      <th>mean</th>\n",
       "      <td>0.136416</td>\n",
       "      <td>-0.037788</td>\n",
       "      <td>0.234243</td>\n",
       "      <td>-0.243178</td>\n",
       "    </tr>\n",
       "    <tr>\n",
       "      <th>std</th>\n",
       "      <td>1.092713</td>\n",
       "      <td>1.097590</td>\n",
       "      <td>1.256176</td>\n",
       "      <td>1.010908</td>\n",
       "    </tr>\n",
       "    <tr>\n",
       "      <th>min</th>\n",
       "      <td>-1.754448</td>\n",
       "      <td>-1.953749</td>\n",
       "      <td>-0.768683</td>\n",
       "      <td>-1.629502</td>\n",
       "    </tr>\n",
       "    <tr>\n",
       "      <th>25%</th>\n",
       "      <td>-0.878651</td>\n",
       "      <td>-1.107370</td>\n",
       "      <td>-0.381379</td>\n",
       "      <td>-1.151986</td>\n",
       "    </tr>\n",
       "    <tr>\n",
       "      <th>50%</th>\n",
       "      <td>-0.014054</td>\n",
       "      <td>-0.070555</td>\n",
       "      <td>-0.194181</td>\n",
       "      <td>-0.455071</td>\n",
       "    </tr>\n",
       "    <tr>\n",
       "      <th>75%</th>\n",
       "      <td>0.771889</td>\n",
       "      <td>0.585389</td>\n",
       "      <td>0.393231</td>\n",
       "      <td>0.641925</td>\n",
       "    </tr>\n",
       "    <tr>\n",
       "      <th>max</th>\n",
       "      <td>2.877170</td>\n",
       "      <td>3.547716</td>\n",
       "      <td>7.752020</td>\n",
       "      <td>1.997038</td>\n",
       "    </tr>\n",
       "  </tbody>\n",
       "</table>\n",
       "</div>"
      ],
      "text/plain": [
       "              age  ejection_fraction  serum_creatinine        time\n",
       "count  153.000000         153.000000        153.000000  153.000000\n",
       "mean     0.136416          -0.037788          0.234243   -0.243178\n",
       "std      1.092713           1.097590          1.256176    1.010908\n",
       "min     -1.754448          -1.953749         -0.768683   -1.629502\n",
       "25%     -0.878651          -1.107370         -0.381379   -1.151986\n",
       "50%     -0.014054          -0.070555         -0.194181   -0.455071\n",
       "75%      0.771889           0.585389          0.393231    0.641925\n",
       "max      2.877170           3.547716          7.752020    1.997038"
      ]
     },
     "execution_count": 33,
     "metadata": {},
     "output_type": "execute_result"
    }
   ],
   "source": [
    "X_trainPPG.describe()"
   ]
  },
  {
   "cell_type": "markdown",
   "metadata": {},
   "source": [
    "# (Pearson)(Prototype Generation)\n",
    "# Classification with SVC, Gaussian Kernel"
   ]
  },
  {
   "cell_type": "markdown",
   "metadata": {},
   "source": [
    "Select Proper Parameters (C and gamma)"
   ]
  },
  {
   "cell_type": "markdown",
   "metadata": {},
   "source": [
    "Fit Model"
   ]
  },
  {
   "cell_type": "code",
   "execution_count": 34,
   "metadata": {},
   "outputs": [
    {
     "data": {
      "text/plain": [
       "GridSearchCV(cv=StratifiedShuffleSplit(n_splits=5, random_state=42, test_size=0.2,\n",
       "            train_size=None),\n",
       "             estimator=SVC(),\n",
       "             param_grid={'C': array([1.00000000e-03, 3.16227766e-03, 1.00000000e-02, 3.16227766e-02,\n",
       "       1.00000000e-01, 3.16227766e-01, 1.00000000e+00, 3.16227766e+00,\n",
       "       1.00000000e+01, 3.16227766e+01, 1.00000000e+02, 3.16227766e+02,\n",
       "       1.00000000e+03]),\n",
       "                         'gamma': array([1.e-09, 1.e-08, 1.e-07, 1.e-06, 1.e-05, 1.e-04, 1.e-03, 1.e-02,\n",
       "       1.e-01, 1.e+00, 1.e+01, 1.e+02, 1.e+03])})"
      ]
     },
     "execution_count": 34,
     "metadata": {},
     "output_type": "execute_result"
    }
   ],
   "source": [
    "param_grid = dict(gamma=gamma_range, C=C_range)\n",
    "cv = StratifiedShuffleSplit(n_splits=5, test_size=0.2, random_state=42)\n",
    "grid = GridSearchCV(SVC(), param_grid=param_grid, cv=cv)\n",
    "grid.fit(X, y)"
   ]
  },
  {
   "cell_type": "code",
   "execution_count": 35,
   "metadata": {},
   "outputs": [
    {
     "name": "stdout",
     "output_type": "stream",
     "text": [
      "The best parameters are {'C': 0.31622776601683794, 'gamma': 1.0} with a score of 0.78\n"
     ]
    }
   ],
   "source": [
    "print(\"The best parameters are %s with a score of %0.2f\"\n",
    "      % (grid.best_params_, grid.best_score_))"
   ]
  },
  {
   "cell_type": "code",
   "execution_count": 36,
   "metadata": {},
   "outputs": [
    {
     "data": {
      "text/plain": [
       "SVC(gamma=0.31622776601683794)"
      ]
     },
     "execution_count": 36,
     "metadata": {},
     "output_type": "execute_result"
    }
   ],
   "source": [
    "clf_pearson_PPG = SVC(gamma=grid.best_params_['C'], C=grid.best_params_['gamma'])\n",
    "clf_pearson_PPG.fit(X_trainPSMOTE, y_trainPSMOTE)"
   ]
  },
  {
   "cell_type": "code",
   "execution_count": 37,
   "metadata": {},
   "outputs": [
    {
     "data": {
      "image/png": "[encoded data removed]",
      "text/plain": [
       "<Figure size 648x648 with 2 Axes>"
      ]
     },
     "metadata": {
      "needs_background": "light"
     },
     "output_type": "display_data"
    }
   ],
   "source": [
    "# make prediction\n",
    "pred_pears_PG = clf_pearson_PPG.predict(X_testPPG)\n",
    "\n",
    "# calculate ballanced accuracy\n",
    "bscore_pears_PPG = balanced_accuracy_score(y_testPPG, pred_pears_PG)\n",
    "\n",
    "# plot decision matrix\n",
    "cm = confusion_matrix(y_testPPG, pred_pears_PG)\n",
    "plt.figure(figsize=(9,9))\n",
    "sns.heatmap(cm, annot=True, fmt=\".3f\", linewidths=.5, square = True, cmap = 'Blues_r');\n",
    "plt.ylabel('Actual label');\n",
    "plt.xlabel('Predicted label');\n",
    "all_sample_title = 'Balanced Accuracy Score: {0}'.format(bscore_pears_PPG)\n",
    "plt.title(all_sample_title, size = 15);"
   ]
  },
  {
   "cell_type": "code",
   "execution_count": 38,
   "metadata": {},
   "outputs": [
    {
     "name": "stdout",
     "output_type": "stream",
     "text": [
      "Balanced Accuracy: 0.9473684210526316\n",
      "Cross Validation Score: 0.7271052631578947\n",
      "Recall: 0.9487179487179487\n",
      "Precision: 0.9533799533799533\n",
      "Accuracy: 0.9487179487179487\n"
     ]
    }
   ],
   "source": [
    "print('Balanced Accuracy: {}'.format(bscore_pears_PPG))\n",
    "print('Cross Validation Score: {}'.format(str(cross_val_score(clf_pearson_PPG, X, y, cv=10).mean())))\n",
    "print('Recall: {}'.format(recall_score(y_testPPG, pred_pears_PG, average='weighted')))\n",
    "print('Precision: {}'.format(precision_score(y_testPPG, pred_pears_PG, average='weighted')))\n",
    "print('Accuracy: {}'.format(accuracy_score(y_testPPG, pred_pears_PG)))"
   ]
  },
  {
   "cell_type": "markdown",
   "metadata": {},
   "source": [
    "# Prototype Selection\n",
    "# Condensed nearest neighbors "
   ]
  },
  {
   "cell_type": "code",
   "execution_count": 39,
   "metadata": {},
   "outputs": [],
   "source": [
    "dfCNNpearson = pearson_normalized.copy(deep=True)"
   ]
  },
  {
   "cell_type": "code",
   "execution_count": 40,
   "metadata": {},
   "outputs": [],
   "source": [
    "from imblearn.under_sampling import CondensedNearestNeighbour\n",
    "\n",
    "# initiate CNN resampler\n",
    "cnn = CondensedNearestNeighbour(random_state=0)\n",
    "\n",
    "# split dataset into X and y\n",
    "y = dfCNNpearson.pop('DEATH_EVENT')\n",
    "X = dfCNNpearson\n",
    "y.head()\n",
    "X_resampled, y_resampled = cnn.fit_resample(X, y)\n",
    "dfCNNPearsRes = pd.DataFrame(X_resampled, columns=X.columns)\n",
    "dfCNNPearsRes['DEATH_EVENT'] = y_resampled\n",
    "y = dfCNNPearsRes['DEATH_EVENT']\n",
    "X = dfCNNPearsRes[[i for i in dfCNNPearsRes.columns if i != 'DEATH_EVENT']]"
   ]
  },
  {
   "cell_type": "markdown",
   "metadata": {},
   "source": [
    "Train/Test Split"
   ]
  },
  {
   "cell_type": "code",
   "execution_count": 41,
   "metadata": {},
   "outputs": [],
   "source": [
    "trainPCNN, testPCNN = train_test_split(dfCNNPearsRes, test_size=0.2)\n",
    "y_trainPCNN = trainPCNN.pop('DEATH_EVENT')\n",
    "X_trainPCNN = trainPCNN\n",
    "y_testPCNN = testPCNN.pop('DEATH_EVENT')\n",
    "X_testPCNN = testPCNN\n",
    "y = dfCNNPearsRes.pop('DEATH_EVENT')\n",
    "X = dfCNNPearsRes"
   ]
  },
  {
   "cell_type": "code",
   "execution_count": 42,
   "metadata": {},
   "outputs": [
    {
     "data": {
      "text/html": [
       "<div>\n",
       "<style scoped>\n",
       "    .dataframe tbody tr th:only-of-type {\n",
       "        vertical-align: middle;\n",
       "    }\n",
       "\n",
       "    .dataframe tbody tr th {\n",
       "        vertical-align: top;\n",
       "    }\n",
       "\n",
       "    .dataframe thead th {\n",
       "        text-align: right;\n",
       "    }\n",
       "</style>\n",
       "<table border=\"1\" class=\"dataframe\">\n",
       "  <thead>\n",
       "    <tr style=\"text-align: right;\">\n",
       "      <th></th>\n",
       "      <th>age</th>\n",
       "      <th>ejection_fraction</th>\n",
       "      <th>serum_creatinine</th>\n",
       "      <th>time</th>\n",
       "    </tr>\n",
       "  </thead>\n",
       "  <tbody>\n",
       "    <tr>\n",
       "      <th>count</th>\n",
       "      <td>118.000000</td>\n",
       "      <td>118.000000</td>\n",
       "      <td>118.000000</td>\n",
       "      <td>118.000000</td>\n",
       "    </tr>\n",
       "    <tr>\n",
       "      <th>mean</th>\n",
       "      <td>0.213574</td>\n",
       "      <td>-0.241624</td>\n",
       "      <td>0.263008</td>\n",
       "      <td>-0.575380</td>\n",
       "    </tr>\n",
       "    <tr>\n",
       "      <th>std</th>\n",
       "      <td>1.062898</td>\n",
       "      <td>1.126138</td>\n",
       "      <td>1.341766</td>\n",
       "      <td>0.895344</td>\n",
       "    </tr>\n",
       "    <tr>\n",
       "      <th>min</th>\n",
       "      <td>-1.670236</td>\n",
       "      <td>-2.038387</td>\n",
       "      <td>-0.865509</td>\n",
       "      <td>-1.603691</td>\n",
       "    </tr>\n",
       "    <tr>\n",
       "      <th>25%</th>\n",
       "      <td>-0.638649</td>\n",
       "      <td>-1.107370</td>\n",
       "      <td>-0.381379</td>\n",
       "      <td>-1.303630</td>\n",
       "    </tr>\n",
       "    <tr>\n",
       "      <th>50%</th>\n",
       "      <td>-0.070223</td>\n",
       "      <td>-0.472585</td>\n",
       "      <td>-0.187726</td>\n",
       "      <td>-0.777717</td>\n",
       "    </tr>\n",
       "    <tr>\n",
       "      <th>75%</th>\n",
       "      <td>0.771889</td>\n",
       "      <td>0.162199</td>\n",
       "      <td>0.415017</td>\n",
       "      <td>-0.006593</td>\n",
       "    </tr>\n",
       "    <tr>\n",
       "      <th>max</th>\n",
       "      <td>2.877170</td>\n",
       "      <td>2.701337</td>\n",
       "      <td>7.752020</td>\n",
       "      <td>1.545334</td>\n",
       "    </tr>\n",
       "  </tbody>\n",
       "</table>\n",
       "</div>"
      ],
      "text/plain": [
       "              age  ejection_fraction  serum_creatinine        time\n",
       "count  118.000000         118.000000        118.000000  118.000000\n",
       "mean     0.213574          -0.241624          0.263008   -0.575380\n",
       "std      1.062898           1.126138          1.341766    0.895344\n",
       "min     -1.670236          -2.038387         -0.865509   -1.603691\n",
       "25%     -0.638649          -1.107370         -0.381379   -1.303630\n",
       "50%     -0.070223          -0.472585         -0.187726   -0.777717\n",
       "75%      0.771889           0.162199          0.415017   -0.006593\n",
       "max      2.877170           2.701337          7.752020    1.545334"
      ]
     },
     "execution_count": 42,
     "metadata": {},
     "output_type": "execute_result"
    }
   ],
   "source": [
    "X_trainPCNN.describe()"
   ]
  },
  {
   "cell_type": "markdown",
   "metadata": {},
   "source": [
    "# (Pearson)(Condensed Nearest Neighbors)\n",
    "# Classification with SVC, Gaussian Kernel"
   ]
  },
  {
   "cell_type": "markdown",
   "metadata": {},
   "source": [
    "Select Proper Parameters (C and gamma)"
   ]
  },
  {
   "cell_type": "code",
   "execution_count": 43,
   "metadata": {},
   "outputs": [
    {
     "data": {
      "text/plain": [
       "GridSearchCV(cv=StratifiedShuffleSplit(n_splits=5, random_state=42, test_size=0.2,\n",
       "            train_size=None),\n",
       "             estimator=SVC(),\n",
       "             param_grid={'C': array([1.00000000e-03, 3.16227766e-03, 1.00000000e-02, 3.16227766e-02,\n",
       "       1.00000000e-01, 3.16227766e-01, 1.00000000e+00, 3.16227766e+00,\n",
       "       1.00000000e+01, 3.16227766e+01, 1.00000000e+02, 3.16227766e+02,\n",
       "       1.00000000e+03]),\n",
       "                         'gamma': array([1.e-09, 1.e-08, 1.e-07, 1.e-06, 1.e-05, 1.e-04, 1.e-03, 1.e-02,\n",
       "       1.e-01, 1.e+00, 1.e+01, 1.e+02, 1.e+03])})"
      ]
     },
     "execution_count": 43,
     "metadata": {},
     "output_type": "execute_result"
    }
   ],
   "source": [
    "param_grid = dict(gamma=gamma_range, C=C_range)\n",
    "cv = StratifiedShuffleSplit(n_splits=5, test_size=0.2, random_state=42)\n",
    "grid = GridSearchCV(SVC(), param_grid=param_grid, cv=cv)\n",
    "grid.fit(X, y)"
   ]
  },
  {
   "cell_type": "code",
   "execution_count": 44,
   "metadata": {},
   "outputs": [
    {
     "name": "stdout",
     "output_type": "stream",
     "text": [
      "The best parameters are {'C': 3.1622776601683795, 'gamma': 0.1} with a score of 0.73\n"
     ]
    }
   ],
   "source": [
    "print(\"The best parameters are %s with a score of %0.2f\"\n",
    "      % (grid.best_params_, grid.best_score_))"
   ]
  },
  {
   "cell_type": "code",
   "execution_count": 47,
   "metadata": {},
   "outputs": [
    {
     "data": {
      "text/plain": [
       "SVC(C=3.1622776601683795, gamma=0.1)"
      ]
     },
     "execution_count": 47,
     "metadata": {},
     "output_type": "execute_result"
    }
   ],
   "source": [
    "clf_pearson_CNN = SVC(gamma=grid.best_params_['gamma'], C=grid.best_params_['C'])\n",
    "clf_pearson_CNN.fit(X_trainPCNN, y_trainPCNN)"
   ]
  },
  {
   "cell_type": "code",
   "execution_count": 48,
   "metadata": {},
   "outputs": [
    {
     "data": {
      "image/png": "[encoded data removed]",
      "text/plain": [
       "<Figure size 648x648 with 2 Axes>"
      ]
     },
     "metadata": {
      "needs_background": "light"
     },
     "output_type": "display_data"
    }
   ],
   "source": [
    "# make prediction\n",
    "pred_pears_CNN = clf_pearson_CNN.predict(X_testPCNN)\n",
    "\n",
    "# calculate ballanced accuracy\n",
    "bscore_pears_CNN = balanced_accuracy_score(y_testPCNN, pred_pears_CNN)\n",
    "\n",
    "# plot decision matrix\n",
    "cm = confusion_matrix(y_testPCNN, pred_pears_CNN)\n",
    "plt.figure(figsize=(9,9))\n",
    "sns.heatmap(cm, annot=True, fmt=\".3f\", linewidths=.5, square = True, cmap = 'Blues_r');\n",
    "plt.ylabel('Actual label');\n",
    "plt.xlabel('Predicted label');\n",
    "all_sample_title = 'Balanced Accuracy Score: {0}'.format(bscore_pears_CNN)\n",
    "plt.title(all_sample_title, size = 15);"
   ]
  },
  {
   "cell_type": "code",
   "execution_count": 52,
   "metadata": {},
   "outputs": [
    {
     "name": "stdout",
     "output_type": "stream",
     "text": [
      "Balanced Accuracy: 0.4856459330143541\n",
      "Cross Validation Score: 0.6871428571428572\n",
      "Recall: 0.5666666666666667\n",
      "Precision: 0.5180555555555555\n",
      "Accuracy: 0.5666666666666667\n"
     ]
    }
   ],
   "source": [
    "print('Balanced Accuracy: {}'.format(bscore_pears_CNN))\n",
    "print('Cross Validation Score: {}'.format(str(cross_val_score(clf_pearson_CNN, X, y, cv=10).mean())))\n",
    "print('Recall: {}'.format(recall_score(y_testPCNN, pred_pears_CNN, average='weighted')))\n",
    "print('Precision: {}'.format(precision_score(y_testPCNN, pred_pears_CNN, average='weighted')))\n",
    "print('Accuracy: {}'.format(accuracy_score(y_testPCNN, pred_pears_CNN)))"
   ]
  },
  {
   "cell_type": "markdown",
   "metadata": {},
   "source": [
    "# (Pearson) More Over Sampling\n",
    "# K-means SMOTE"
   ]
  },
  {
   "cell_type": "code",
   "execution_count": 57,
   "metadata": {},
   "outputs": [],
   "source": [
    "dfPearsKMS = pearson_normalized.copy(deep=True)"
   ]
  },
  {
   "cell_type": "code",
   "execution_count": 58,
   "metadata": {},
   "outputs": [],
   "source": [
    "from imblearn.over_sampling import KMeansSMOTE\n",
    "\n",
    "KMS = KMeansSMOTE()\n",
    "y = dfPearsKMS.pop('DEATH_EVENT')\n",
    "X = dfPearsKMS\n",
    "X_resampled, y_resampled = KMS.fit_resample(X, y)\n",
    "dfPearsKMSres = pd.DataFrame(X_resampled, columns=X.columns)\n",
    "dfPearsKMSres['DEATH_EVENT'] = y_resampled"
   ]
  },
  {
   "cell_type": "code",
   "execution_count": 59,
   "metadata": {},
   "outputs": [],
   "source": [
    "trainPKMS, testPKMS = train_test_split(dfPearsKMSres, test_size=0.2)\n",
    "y_trainPKMS = trainPKMS.pop('DEATH_EVENT')\n",
    "X_trainPKMS = trainPKMS\n",
    "y_testPKMS = testPKMS.pop('DEATH_EVENT')\n",
    "X_testPKMS = testPKMS"
   ]
  },
  {
   "cell_type": "code",
   "execution_count": 60,
   "metadata": {},
   "outputs": [
    {
     "data": {
      "text/html": [
       "<div>\n",
       "<style scoped>\n",
       "    .dataframe tbody tr th:only-of-type {\n",
       "        vertical-align: middle;\n",
       "    }\n",
       "\n",
       "    .dataframe tbody tr th {\n",
       "        vertical-align: top;\n",
       "    }\n",
       "\n",
       "    .dataframe thead th {\n",
       "        text-align: right;\n",
       "    }\n",
       "</style>\n",
       "<table border=\"1\" class=\"dataframe\">\n",
       "  <thead>\n",
       "    <tr style=\"text-align: right;\">\n",
       "      <th></th>\n",
       "      <th>age</th>\n",
       "      <th>ejection_fraction</th>\n",
       "      <th>serum_creatinine</th>\n",
       "      <th>time</th>\n",
       "    </tr>\n",
       "  </thead>\n",
       "  <tbody>\n",
       "    <tr>\n",
       "      <th>310</th>\n",
       "      <td>-1.455518</td>\n",
       "      <td>-1.997472</td>\n",
       "      <td>-0.340996</td>\n",
       "      <td>-1.182262</td>\n",
       "    </tr>\n",
       "    <tr>\n",
       "      <th>2</th>\n",
       "      <td>0.350833</td>\n",
       "      <td>-1.530560</td>\n",
       "      <td>-0.090900</td>\n",
       "      <td>-1.590785</td>\n",
       "    </tr>\n",
       "    <tr>\n",
       "      <th>352</th>\n",
       "      <td>-0.200555</td>\n",
       "      <td>0.452321</td>\n",
       "      <td>4.485258</td>\n",
       "      <td>-1.295955</td>\n",
       "    </tr>\n",
       "    <tr>\n",
       "      <th>55</th>\n",
       "      <td>2.877170</td>\n",
       "      <td>-0.684180</td>\n",
       "      <td>0.586883</td>\n",
       "      <td>-1.035834</td>\n",
       "    </tr>\n",
       "    <tr>\n",
       "      <th>351</th>\n",
       "      <td>0.087909</td>\n",
       "      <td>1.809674</td>\n",
       "      <td>5.470906</td>\n",
       "      <td>-1.166162</td>\n",
       "    </tr>\n",
       "  </tbody>\n",
       "</table>\n",
       "</div>"
      ],
      "text/plain": [
       "          age  ejection_fraction  serum_creatinine      time\n",
       "310 -1.455518          -1.997472         -0.340996 -1.182262\n",
       "2    0.350833          -1.530560         -0.090900 -1.590785\n",
       "352 -0.200555           0.452321          4.485258 -1.295955\n",
       "55   2.877170          -0.684180          0.586883 -1.035834\n",
       "351  0.087909           1.809674          5.470906 -1.166162"
      ]
     },
     "execution_count": 60,
     "metadata": {},
     "output_type": "execute_result"
    }
   ],
   "source": [
    "X_trainPKMS.head()"
   ]
  },
  {
   "cell_type": "markdown",
   "metadata": {},
   "source": [
    "# (KmeansSMOTE)\n",
    "# SVC With Gaussian Kernel"
   ]
  },
  {
   "cell_type": "code",
   "execution_count": 61,
   "metadata": {},
   "outputs": [
    {
     "data": {
      "text/plain": [
       "GridSearchCV(cv=StratifiedShuffleSplit(n_splits=5, random_state=42, test_size=0.2,\n",
       "            train_size=None),\n",
       "             estimator=SVC(),\n",
       "             param_grid={'C': array([1.00000000e-03, 3.16227766e-03, 1.00000000e-02, 3.16227766e-02,\n",
       "       1.00000000e-01, 3.16227766e-01, 1.00000000e+00, 3.16227766e+00,\n",
       "       1.00000000e+01, 3.16227766e+01, 1.00000000e+02, 3.16227766e+02,\n",
       "       1.00000000e+03]),\n",
       "                         'gamma': array([1.e-09, 1.e-08, 1.e-07, 1.e-06, 1.e-05, 1.e-04, 1.e-03, 1.e-02,\n",
       "       1.e-01, 1.e+00, 1.e+01, 1.e+02, 1.e+03])})"
      ]
     },
     "execution_count": 61,
     "metadata": {},
     "output_type": "execute_result"
    }
   ],
   "source": [
    "param_grid = dict(gamma=gamma_range, C=C_range)\n",
    "cv = StratifiedShuffleSplit(n_splits=5, test_size=0.2, random_state=42)\n",
    "grid = GridSearchCV(SVC(), param_grid=param_grid, cv=cv)\n",
    "grid.fit(X, y)"
   ]
  },
  {
   "cell_type": "code",
   "execution_count": 62,
   "metadata": {},
   "outputs": [
    {
     "name": "stdout",
     "output_type": "stream",
     "text": [
      "The best parameters are {'C': 31.622776601683793, 'gamma': 0.01} with a score of 0.82\n"
     ]
    }
   ],
   "source": [
    "print(\"The best parameters are %s with a score of %0.2f\"\n",
    "      % (grid.best_params_, grid.best_score_))"
   ]
  },
  {
   "cell_type": "code",
   "execution_count": 63,
   "metadata": {},
   "outputs": [
    {
     "data": {
      "text/plain": [
       "SVC(C=31.622776601683793, gamma=0.01)"
      ]
     },
     "execution_count": 63,
     "metadata": {},
     "output_type": "execute_result"
    }
   ],
   "source": [
    "clf_pearson_KMS = SVC(gamma=grid.best_params_['gamma'], C=grid.best_params_['C'])\n",
    "clf_pearson_KMS.fit(X_trainPKMS, y_trainPKMS)"
   ]
  },
  {
   "cell_type": "code",
   "execution_count": 65,
   "metadata": {},
   "outputs": [
    {
     "data": {
      "image/png": "[encoded data removed]",
      "text/plain": [
       "<Figure size 648x648 with 2 Axes>"
      ]
     },
     "metadata": {
      "needs_background": "light"
     },
     "output_type": "display_data"
    }
   ],
   "source": [
    "# make prediction\n",
    "pred_pears_KMS = clf_pearson_KMS.predict(X_testPKMS)\n",
    "\n",
    "# calculate ballanced accuracy\n",
    "bscore_pears_KMS = balanced_accuracy_score(y_testPKMS, pred_pears_KMS)\n",
    "\n",
    "# plot decision matrix\n",
    "cm = confusion_matrix(y_testPKMS, pred_pears_KMS)\n",
    "plt.figure(figsize=(9,9))\n",
    "sns.heatmap(cm, annot=True, fmt=\".3f\", linewidths=.5, square = True, cmap = 'Blues_r');\n",
    "plt.ylabel('Actual label');\n",
    "plt.xlabel('Predicted label');\n",
    "all_sample_title = 'Balanced Accuracy Score: {0}'.format(bscore_pears_KMS)\n",
    "plt.title(all_sample_title, size = 15);"
   ]
  },
  {
   "cell_type": "code",
   "execution_count": 67,
   "metadata": {},
   "outputs": [
    {
     "name": "stdout",
     "output_type": "stream",
     "text": [
      "Balanced Accuracy: 0.8266908212560387\n",
      "Cross Validation Score: 0.8122988505747127\n",
      "Recall: 0.8292682926829268\n",
      "Precision: 0.8292682926829268\n",
      "Accuracy: 0.8292682926829268\n"
     ]
    }
   ],
   "source": [
    "print('Balanced Accuracy: {}'.format(bscore_pears_KMS))\n",
    "print('Cross Validation Score: {}'.format(str(cross_val_score(clf_pearson_KMS, X, y, cv=10).mean())))\n",
    "print('Recall: {}'.format(recall_score(y_testPKMS, pred_pears_KMS, average='weighted')))\n",
    "print('Precision: {}'.format(precision_score(y_testPKMS, pred_pears_KMS, average='weighted')))\n",
    "print('Accuracy: {}'.format(accuracy_score(y_testPKMS, pred_pears_KMS)))"
   ]
  },
  {
   "cell_type": "markdown",
   "metadata": {},
   "source": [
    "# (Pearson) Using Class Weights with SVC"
   ]
  },
  {
   "cell_type": "code",
   "execution_count": 68,
   "metadata": {},
   "outputs": [],
   "source": [
    "df_weighted = pearson_normalized.copy(deep=True)"
   ]
  },
  {
   "cell_type": "markdown",
   "metadata": {},
   "source": [
    "Train/Test Split"
   ]
  },
  {
   "cell_type": "code",
   "execution_count": 70,
   "metadata": {},
   "outputs": [],
   "source": [
    "y = df_weighted['DEATH_EVENT']\n",
    "X = df_weighted[[i for i in dfRandPearsRes.columns if i != 'DEATH_EVENT']]\n",
    "\n",
    "trainW, testW = train_test_split(df_weighted, test_size=0.2)\n",
    "y_trainW = trainW.pop('DEATH_EVENT')\n",
    "X_trainW = trainW\n",
    "y_testW = testW.pop('DEATH_EVENT')\n",
    "X_testW = testW"
   ]
  },
  {
   "cell_type": "code",
   "execution_count": 73,
   "metadata": {},
   "outputs": [
    {
     "data": {
      "text/plain": [
       "GridSearchCV(cv=StratifiedShuffleSplit(n_splits=5, random_state=42, test_size=0.2,\n",
       "            train_size=None),\n",
       "             estimator=SVC(class_weight={0: 203, 1: 96}),\n",
       "             param_grid={'C': array([1.00000000e-03, 3.16227766e-03, 1.00000000e-02, 3.16227766e-02,\n",
       "       1.00000000e-01, 3.16227766e-01, 1.00000000e+00, 3.16227766e+00,\n",
       "       1.00000000e+01, 3.16227766e+01, 1.00000000e+02, 3.16227766e+02,\n",
       "       1.00000000e+03]),\n",
       "                         'gamma': array([1.e-09, 1.e-08, 1.e-07, 1.e-06, 1.e-05, 1.e-04, 1.e-03, 1.e-02,\n",
       "       1.e-01, 1.e+00, 1.e+01, 1.e+02, 1.e+03])})"
      ]
     },
     "execution_count": 73,
     "metadata": {},
     "output_type": "execute_result"
    }
   ],
   "source": [
    "cw={0:203,1:96}\n",
    "\n",
    "param_grid = dict(gamma=gamma_range, C=C_range)\n",
    "cv = StratifiedShuffleSplit(n_splits=5, test_size=0.2, random_state=42)\n",
    "grid = GridSearchCV(SVC(class_weight=cw), param_grid=param_grid, cv=cv)\n",
    "grid.fit(X, y)"
   ]
  },
  {
   "cell_type": "code",
   "execution_count": 74,
   "metadata": {},
   "outputs": [
    {
     "name": "stdout",
     "output_type": "stream",
     "text": [
      "The best parameters are {'C': 1.0, 'gamma': 0.01} with a score of 0.83\n"
     ]
    }
   ],
   "source": [
    "print(\"The best parameters are %s with a score of %0.2f\"\n",
    "      % (grid.best_params_, grid.best_score_))"
   ]
  },
  {
   "cell_type": "code",
   "execution_count": 76,
   "metadata": {},
   "outputs": [
    {
     "data": {
      "text/plain": [
       "SVC(class_weight={0: 203, 1: 96}, gamma=0.01)"
      ]
     },
     "execution_count": 76,
     "metadata": {},
     "output_type": "execute_result"
    }
   ],
   "source": [
    "SVMw = SVC(gamma=grid.best_params_['gamma'], C=grid.best_params_['C'],class_weight=cw)\n",
    "SVMw.fit(X_trainW, y_trainW)"
   ]
  },
  {
   "cell_type": "code",
   "execution_count": 78,
   "metadata": {},
   "outputs": [
    {
     "data": {
      "image/png": "[encoded data removed]",
      "text/plain": [
       "<Figure size 648x648 with 2 Axes>"
      ]
     },
     "metadata": {
      "needs_background": "light"
     },
     "output_type": "display_data"
    }
   ],
   "source": [
    "pred_pears_W = SVMw.predict(X_testW)\n",
    "\n",
    "# calculate ballanced accuracy\n",
    "bscore_pears_W = balanced_accuracy_score(y_testW, pred_pears_W)\n",
    "\n",
    "# plot decision matrix\n",
    "cm = confusion_matrix(y_testW, pred_pears_W)\n",
    "plt.figure(figsize=(9,9))\n",
    "sns.heatmap(cm, annot=True, fmt=\".3f\", linewidths=.5, square = True, cmap = 'Blues_r');\n",
    "plt.ylabel('Actual label');\n",
    "plt.xlabel('Predicted label');\n",
    "all_sample_title = 'Balanced Accuracy Score: {0}'.format(bscore_pears_W)\n",
    "plt.title(all_sample_title, size = 15);"
   ]
  },
  {
   "cell_type": "code",
   "execution_count": 80,
   "metadata": {},
   "outputs": [
    {
     "name": "stdout",
     "output_type": "stream",
     "text": [
      "Balanced Accuracy: 0.78125\n",
      "Cross Validation Score: 0.7956321839080459\n",
      "Recall: 0.8833333333333333\n",
      "Precision: 0.8993464052287582\n",
      "Accuracy: 0.8833333333333333\n"
     ]
    }
   ],
   "source": [
    "print('Balanced Accuracy: {}'.format(bscore_pears_W))\n",
    "print('Cross Validation Score: {}'.format(str(cross_val_score(SVMw, X, y, cv=10).mean())))\n",
    "print('Recall: {}'.format(recall_score(y_testW, pred_pears_W, average='weighted')))\n",
    "print('Precision: {}'.format(precision_score(y_testW, pred_pears_W, average='weighted')))\n",
    "print('Accuracy: {}'.format(accuracy_score(y_testW, pred_pears_W)))"
   ]
  },
  {
   "cell_type": "code",
   "execution_count": null,
   "metadata": {},
   "outputs": [],
   "source": []
  }
 ],
 "metadata": {
  "kernelspec": {
   "display_name": "Python 3",
   "language": "python",
   "name": "python3"
  },
  "language_info": {
   "codemirror_mode": {
    "name": "ipython",
    "version": 3
   },
   "file_extension": ".py",
   "mimetype": "text/x-python",
   "name": "python",
   "nbconvert_exporter": "python",
   "pygments_lexer": "ipython3",
   "version": "3.7.7"
  },
  "latex_envs": {
   "LaTeX_envs_menu_present": true,
   "autoclose": false,
   "autocomplete": true,
   "bibliofile": "biblio.bib",
   "cite_by": "apalike",
   "current_citInitial": 1,
   "eqLabelWithNumbers": true,
   "eqNumInitial": 1,
   "hotkeys": {
    "equation": "Ctrl-E",
    "itemize": "Ctrl-I"
   },
   "labels_anchors": false,
   "latex_user_defs": false,
   "report_style_numbering": false,
   "user_envs_cfg": false
  }
 },
 "nbformat": 4,
 "nbformat_minor": 4
}
